{
 "cells": [
  {
   "cell_type": "markdown",
   "id": "cafbce7b",
   "metadata": {},
   "source": [
    "# **Transverse Field Ising Model**"
   ]
  },
  {
   "cell_type": "markdown",
   "id": "a261131f",
   "metadata": {},
   "source": [
    "Ising Model is a theoretical model to describe ferromagnetism in solids. It simplifies the complex properties of solids by assuming only nearest neighbor interaction between lattice sites and allowing only two opposite pointing orientations of each lattice site’s magnetic moment. Physically it's the opposite of an Ideal gas, as the particles are fixed but can interact compared to non-interacting moving particles in the Ideal gas. For details, see [Ising model](https://www.thphys.uni-heidelberg.de/~wolschin/statsem20_3s.pdf).\n",
    "\n",
    "From a Computer Science perspective, NP-hard problems, including all of Karp's 21 NP-complete problems can be mapped to the Ising model with a polynomial overhead. Thus, any NP-hard problem can be reduced to finding the ground state of the Ising model. For further reference, look at [Ising formulations of NP-Complete problems](https://www.frontiersin.org/journals/physics/articles/10.3389/fphy.2014.00005/full).\n",
    "\n",
    "Over time, Ising models have been applied to various other fields such as *Machine Learning (Hopfield networks)*, *Biology (Protein folding)*, and *Physics (Quantum phase transitions)*. The **Transverse Field Ising Model (TFIM)** is a quantum version of the Ising model, where spins are replaced by qubits and the interaction between spins is modified by a transverse magnetic field. This model is used to study quantum phase transitions and has applications in Quantum Computing and Condensed Matter Physics."
   ]
  },
  {
   "cell_type": "markdown",
   "id": "7f276a14",
   "metadata": {},
   "source": [
    "\n",
    "The Hamiltonian of the Transverse Field Ising Model is given by:\n",
    "\n",
    "$$H = -J\\sum_{i=1}^{N-1} Z_i Z_{i+1} - h\\sum_{i=1}^N X_i$$\n",
    "\n",
    "- *$Z$:* The Pauli $\\sigma_z$ matrix (for spin measurement)\n",
    "- *$X$:* The Pauli $\\sigma_x$ matrix (for transverse field)\n",
    "- *Ferromagnetic coupling ($J$)*: Favors alignment of neighboring spins along Z.  \n",
    "- *Transverse field ($h$)*: Induces quantum fluctuations, polarizing spins along X.  "
   ]
  },
  {
   "cell_type": "markdown",
   "id": "384e309e",
   "metadata": {},
   "source": [
    "### **Ground States and Symmetry**\n",
    "\n",
    "#### J >> h (Ferromagnetic Phase): \n",
    "When J is much larger than h, the spins tend to align along the Z-axis, leading to magnetization in the Z direction (ferromagnetic phase). Thus, the two degenerate ground states are:\n",
    "$$\n",
    "|\\psi^{0+}\\rangle = \\otimes_{n=1}^N | \\uparrow \\rangle_n, \\quad |\\psi^{0-}\\rangle = \\otimes_{n=1}^N | \\downarrow \\rangle_n\n",
    "$$  \n",
    "These exhibit non-zero magnetization $M =\\pm N$, where $N$ is the number of spins. The $\\mathbf{Z}_2$ symmetry is broken, and the system has two degenerate ground states.\n",
    "\n",
    "\n",
    "#### h >> J (Paramagnetic Phase): \n",
    "When h is much larger than J, the spins are polarized along the X-axis, leading to disordered state. \n",
    "Here Magnetization M = 0 and $\\mathbf{Z}_2$ symmetry is preserved. The unique symmetric ground state is:\n",
    "$$\n",
    "|\\psi^{0\\to}\\rangle = \\bigotimes_{n=1}^N \\frac{1}{\\sqrt{2}} \\left( | \\uparrow \\rangle_n + | \\downarrow \\rangle_n \\right) = \\otimes_{n=1}^N | \\rightarrow \\rangle_n\n",
    "$$\n",
    "\n",
    "The $\\mathbb{Z}_2$ symmetry corresponds to a *global spin-flip* operation:\n",
    "$ G = \\otimes_i \\sigma_i^x, $\n",
    "which satisfies $G^2 = 1$, forming the cyclic group $\\mathbb{Z}_2$.\n",
    "\n",
    "Interaction term $\\sigma_i^z \\sigma_j^z$:\n",
    "  $\\quad G (\\sigma_i^z \\sigma_j^z) G^{-1} = \\sigma_i^z \\sigma_j^z \\quad (\\text{invariant}).$\n",
    "\n",
    "Transverse field term $\\sigma_i^x$:\n",
    "  $\\quad G (\\sigma_i^x) G^{-1} = \\sigma_i^x \\quad (\\text{invariant}).$\n",
    "\n",
    "The Hamiltonian $H$ is invariant under $G$, confirming $\\mathbb{Z}_2$ symmetry."
   ]
  },
  {
   "cell_type": "markdown",
   "id": "ae0d7881",
   "metadata": {},
   "source": [
    "*The goal of this tutorial will be implementing Transverse Field Ising Models using QURI-Parts. We will approximate the ground state energy, wavefunction of the TFIM Hamiltonian using VQE and further improving it using QSCI. Finally we will calculate the correlation length and show divergence at the critical point which are relevant to Condensed Matter Physicist.*"
   ]
  },
  {
   "cell_type": "markdown",
   "id": "6ee2dd26",
   "metadata": {},
   "source": [
    "### Setting up the QubitHamiltonian in QURI"
   ]
  },
  {
   "cell_type": "code",
   "execution_count": 1,
   "id": "a4c838d2",
   "metadata": {},
   "outputs": [],
   "source": [
    "import numpy as np\n",
    "import matplotlib.pyplot as plt\n",
    "from typing import Sequence\n",
    "\n",
    "from quri_parts.core.operator import Operator, pauli_label, get_sparse_matrix"
   ]
  },
  {
   "cell_type": "code",
   "execution_count": 2,
   "id": "a077cb19",
   "metadata": {},
   "outputs": [],
   "source": [
    "# Parameters\n",
    "n_qubits = 6        # Number of spins/qubits\n",
    "J = 1.0             # Interaction strength\n",
    "h = 1.0            # Transverse field strength\n",
    "\n",
    "def construct_TFIM_hamiltonian(J, h):\n",
    "    hamiltonian = Operator()\n",
    "\n",
    "    # Add Ising interaction terms (-J Σ Z_i Z_{i+1}) (Assuming periodic boundary conditions)\n",
    "    for i in range(n_qubits-1):\n",
    "        pauli_index = pauli_label('X'+str(i)+' X'+str(i+1))\n",
    "        hamiltonian.add_term(pauli_index, -J)\n",
    "\n",
    "    # Add transverse field terms (-h Σ X_i)\n",
    "    for i in range(n_qubits):\n",
    "        pauli_index = pauli_label('Z'+str(i))\n",
    "        hamiltonian.add_term(pauli_index, -h)\n",
    "\n",
    "    return hamiltonian\n",
    "\n",
    "hamiltonian = construct_TFIM_hamiltonian(J, h)"
   ]
  },
  {
   "cell_type": "markdown",
   "id": "7e4f4f3d",
   "metadata": {},
   "source": [
    "Since *n_qubits* is small, we can find the smallest eigenvalue (ground energy state) of the Hamiltonian matrix directly. This is only done for benchmarking. For relistic physical systems involving large *n_qubits*, this computation is not feasible and we have to rely on Quantum Computing methods to find the approximate ground state."
   ]
  },
  {
   "cell_type": "code",
   "execution_count": 3,
   "id": "5f11c051",
   "metadata": {},
   "outputs": [
    {
     "name": "stdout",
     "output_type": "stream",
     "text": [
      "E_0: -7.296229810558756\n",
      "Delta (E_1 - E_0)): 0.4821467210213024\n"
     ]
    }
   ],
   "source": [
    "## Ground eigenvalue and eigenvector computation using numpy (Will be later used for benchmarking)\n",
    "vals, vecs = np.linalg.eigh(get_sparse_matrix(hamiltonian).toarray())\n",
    "\n",
    "EXACT_GS_ENERGY = np.min(vals)\n",
    "EXACT_GAP = vals[np.argsort(vals)][:2] @ [-1, 1]\n",
    "\n",
    "print(\"E_0:\", EXACT_GS_ENERGY)\n",
    "print(\"Delta (E_1 - E_0)):\", EXACT_GAP)"
   ]
  },
  {
   "cell_type": "markdown",
   "id": "900b1754",
   "metadata": {},
   "source": [
    "### Statistical Phase Estimation (SPE):\n",
    "\n",
    "[paper](https://arxiv.org/abs/2409.07749)"
   ]
  },
  {
   "cell_type": "code",
   "execution_count": 8,
   "id": "ca5668fe",
   "metadata": {},
   "outputs": [
    {
     "name": "stdout",
     "output_type": "stream",
     "text": [
      "Overlap between the chosen state and the exact grounds state vector:  6.8e-01\n"
     ]
    }
   ],
   "source": [
    "from quri_parts.core.state import quantum_state\n",
    "from quri_parts.qulacs.simulator import evaluate_state_to_vector\n",
    "\n",
    "\n",
    "trial_state = quantum_state(n_qubits, bits=0) \n",
    "gs_overlap = np.abs(evaluate_state_to_vector(trial_state).vector @ vecs[:, 0])**2\n",
    "print(f\"Overlap between the chosen state and the exact grounds state vector: {gs_overlap: .1e}\")"
   ]
  },
  {
   "cell_type": "code",
   "execution_count": 9,
   "id": "4d4b474a",
   "metadata": {},
   "outputs": [],
   "source": [
    "from quri_parts.qulacs.sampler import create_qulacs_vector_sampler\n",
    "from quri_algo.circuit.time_evolution.trotter_time_evo import TrotterControlledTimeEvolutionCircuitFactory\n",
    "from quri_algo.core.estimator.time_evolution_estimator.trotter import TrotterTimeEvolutionHadamardTest\n",
    "from quri_algo.problem import QubitHamiltonianInput\n",
    "\n",
    "qubit_hamiltonian = QubitHamiltonianInput(n_qubits, hamiltonian)\n",
    "\n",
    "# Setting the num_trotter steps to 30\n",
    "trotter_concotrolled_time_evo_circuit_factory = (\n",
    "    TrotterControlledTimeEvolutionCircuitFactory(qubit_hamiltonian, n_trotter=30)\n",
    ")\n",
    "\n",
    "# Time-evolution with t=1\n",
    "c_time_evo = trotter_concotrolled_time_evo_circuit_factory(evolution_time=1)\n",
    "\n",
    "sampler = create_qulacs_vector_sampler()\n",
    "trotter_time_evolution_estimator = TrotterTimeEvolutionHadamardTest(qubit_hamiltonian, sampler, 50)"
   ]
  },
  {
   "cell_type": "code",
   "execution_count": 10,
   "id": "a038b31a",
   "metadata": {},
   "outputs": [
    {
     "name": "stdout",
     "output_type": "stream",
     "text": [
      "The obtained ground state energy is -7.260219928402891\n",
      "The error is = 0.03600988215586565\n"
     ]
    }
   ],
   "source": [
    "from quri_algo.algo.phase_estimation.spe import StepFunctionParam\n",
    "from quri_algo.algo.phase_estimation.spe.lt22 import SingleSignalLT22GSEE\n",
    "\n",
    "# Initializing the parameters for \n",
    "d_max = 1000\n",
    "delta = 1e-4\n",
    "n_sample = 10000\n",
    "tau = 1 / 20\n",
    "eta = 0.4\n",
    "\n",
    "signal_param = StepFunctionParam(d=d_max, delta=delta, n_sample=n_sample)\n",
    "lt22_algorithm = SingleSignalLT22GSEE(trotter_time_evolution_estimator, tau=tau)\n",
    "spe_result = lt22_algorithm(trial_state, signal_param, eta)\n",
    "\n",
    "lt22_gs_energy = spe_result.phase / tau\n",
    "print(f\"The obtained ground state energy is {lt22_gs_energy}\")\n",
    "print(f\"The error is = {abs(lt22_gs_energy - np.min(vals))}\")"
   ]
  },
  {
   "cell_type": "markdown",
   "id": "ece5c369",
   "metadata": {},
   "source": [
    "## VQE Optimization"
   ]
  },
  {
   "cell_type": "markdown",
   "id": "2766f2b0",
   "metadata": {},
   "source": [
    "As discussed previously, TFIM Hamiltonian is invariant under $\\mathbf{Z}_2$ symmetry. The ansatz we choose for  the VQE optimzation also respects this symmetry. For further details on the ansatz, refer to this [paper]()"
   ]
  },
  {
   "cell_type": "code",
   "execution_count": 11,
   "id": "5279c6d1",
   "metadata": {},
   "outputs": [],
   "source": [
    "from quri_parts.algo.ansatz import Z2SymmetryPreservingReal\n",
    "from quri_parts.circuit.utils.circuit_drawer import draw_circuit\n",
    "\n",
    "parametric_circuit = Z2SymmetryPreservingReal(n_qubits, 7)\n",
    "# draw_circuit(parametric_circuit)"
   ]
  },
  {
   "cell_type": "code",
   "execution_count": 12,
   "id": "5eb2fe8c",
   "metadata": {},
   "outputs": [],
   "source": [
    "from quri_parts.core.state import quantum_state, apply_circuit\n",
    "\n",
    "cb_state = quantum_state(n_qubits, bits=0)\n",
    "parametric_state = apply_circuit(parametric_circuit, cb_state)"
   ]
  },
  {
   "cell_type": "code",
   "execution_count": 13,
   "id": "4e7d9f9d",
   "metadata": {},
   "outputs": [],
   "source": [
    "from quri_parts.core.estimator.gradient import create_parameter_shift_gradient_estimator\n",
    "from quri_parts.qulacs.estimator import create_qulacs_vector_concurrent_parametric_estimator, create_qulacs_vector_parametric_estimator\n",
    "from quri_parts.algo.optimizer import Adam, OptimizerStatus\n",
    "\n",
    "adam_optimizer = Adam()\n",
    "estimator = create_qulacs_vector_parametric_estimator()\n",
    "concurrent_parametric_estimator = create_qulacs_vector_concurrent_parametric_estimator()\n",
    "gradient_estimator = create_parameter_shift_gradient_estimator(concurrent_parametric_estimator)"
   ]
  },
  {
   "cell_type": "code",
   "execution_count": 14,
   "id": "c9f1959f",
   "metadata": {},
   "outputs": [],
   "source": [
    "def h_cost_fn(hamiltonian):\n",
    "    def cost_fn(param_values: Sequence[float]):\n",
    "        estimate = estimator(hamiltonian, parametric_state, param_values)\n",
    "        return estimate.value.real\n",
    "    return cost_fn\n",
    "\n",
    "def h_grad_fn(hamiltonian):\n",
    "    def grad_fn(param_values: Sequence[float]) -> Sequence[float]:\n",
    "        estimate = gradient_estimator(hamiltonian, parametric_state, param_values)\n",
    "        return np.asarray([g.real for g in estimate.values])\n",
    "    return grad_fn"
   ]
  },
  {
   "cell_type": "code",
   "execution_count": 15,
   "id": "3c111794",
   "metadata": {},
   "outputs": [],
   "source": [
    "def vqe(\n",
    "    init_params: Sequence[float],\n",
    "    cost_fn,\n",
    "    grad_fn,\n",
    "    optimizer,\n",
    "    hamiltonian\n",
    "):\n",
    "\n",
    "    cost_fn = h_cost_fn(hamiltonian)\n",
    "    grad_fn = h_grad_fn(hamiltonian)\n",
    "\n",
    "    opt_state = optimizer.get_init_state(init_params)\n",
    "    while True:\n",
    "        opt_state = optimizer.step(opt_state, cost_fn, grad_fn)\n",
    "        if opt_state.status == OptimizerStatus.FAILED:\n",
    "            print(\"Optimizer failed\")\n",
    "            break\n",
    "        if opt_state.status == OptimizerStatus.CONVERGED:\n",
    "            print(\"Optimizer converged\")\n",
    "            break\n",
    "    return opt_state"
   ]
  },
  {
   "cell_type": "code",
   "execution_count": 16,
   "id": "7b6c2d2a",
   "metadata": {},
   "outputs": [
    {
     "name": "stdout",
     "output_type": "stream",
     "text": [
      "Optimizer converged\n",
      "Optimized value: -7.290572048035439\n",
      "Optimized parameter: [ 0.84210547  0.47630296  0.72138145  0.08867403  0.42050383  0.38267732\n",
      "  0.26308393  0.2539943   0.73434537  0.69890491  0.68043424  0.59443225\n",
      "  0.43669825 -0.11409208  0.99274025  0.43955635  0.92428532  1.12134875\n",
      " -0.24387333  0.48391352  0.83737877  0.78237401  0.26934266  0.12089239\n",
      " -0.03898091  0.07211114  1.47435145  1.71226973 -0.35714417 -0.26310673\n",
      "  0.29395424  1.04856572  0.06303324  0.17537114  0.92165332  0.03408858\n",
      "  0.24952452  0.42667829  1.15962726  0.64815756  0.94637548  0.64033568\n",
      " -0.11189446  0.23049688  0.28910377  0.54754249 -0.11291626  1.09501785\n",
      "  0.81096834  1.02468288  0.87691451  0.24540542  0.33914711 -0.20934484\n",
      "  0.38315606  0.99022627  1.17499058  1.23857066  0.91523247  0.14506946\n",
      "  0.00339933  0.19914558 -0.4818045   0.21641909  0.37231599  0.55480196\n",
      "  1.06836962  0.74356377  0.86127012  0.57459388]\n",
      "Iterations: 56\n"
     ]
    }
   ],
   "source": [
    "init_params = np.random.random(parametric_circuit.parameter_count)\n",
    "vqe_state = vqe(init_params, h_cost_fn, h_grad_fn, adam_optimizer, hamiltonian)\n",
    "print(\"Optimized value:\", vqe_state.cost)\n",
    "print(\"Optimized parameter:\", vqe_state.params)\n",
    "print(\"Iterations:\", vqe_state.niter)"
   ]
  },
  {
   "cell_type": "markdown",
   "id": "19d3ac06",
   "metadata": {},
   "source": [
    "### QSCI"
   ]
  },
  {
   "cell_type": "code",
   "execution_count": 17,
   "id": "6725855c",
   "metadata": {},
   "outputs": [],
   "source": [
    "BASIS_STATES = 5\n",
    "TOTAL_SHOTS = 50000"
   ]
  },
  {
   "cell_type": "code",
   "execution_count": 18,
   "id": "82b59093",
   "metadata": {},
   "outputs": [],
   "source": [
    "from quri_parts.qulacs.sampler import create_qulacs_vector_concurrent_sampler\n",
    "from quri_parts_qsci import qsci\n",
    "\n",
    "sampler = create_qulacs_vector_concurrent_sampler()\n",
    "bound_state = parametric_state.bind_parameters(vqe_state.params)\n",
    "eigs, ground_state = qsci(\n",
    "    hamiltonian, [bound_state], sampler, total_shots=TOTAL_SHOTS, num_states_pick_out=BASIS_STATES\n",
    ")"
   ]
  },
  {
   "cell_type": "code",
   "execution_count": 19,
   "id": "ee2b19ef",
   "metadata": {},
   "outputs": [
    {
     "name": "stdout",
     "output_type": "stream",
     "text": [
      "Ground state energy as per QSCI: -6.82842712474619\n",
      "Error (QSCI Ground energy - Actual Ground State energy): 0.46780268581256657\n"
     ]
    }
   ],
   "source": [
    "print(\"Ground state energy as per QSCI:\", eigs[0])\n",
    "print(\"Error (QSCI Ground energy - Actual Ground State energy):\", np.abs(eigs[0] - np.min(vals)))"
   ]
  },
  {
   "cell_type": "markdown",
   "id": "c4c4aa77",
   "metadata": {},
   "source": [
    "### **Magnetization**\n",
    "\n",
    "The magnetization of the system is the sum of magnetic moment per spin. Here by magnetization we mean the Longitudinal Magnetization along the Z-axis.\n",
    "\n",
    "$$\n",
    "M_z = \\langle \\sum_{n=1}^N \\sigma_n^z \\rangle\n",
    "$$"
   ]
  },
  {
   "cell_type": "code",
   "execution_count": 22,
   "id": "a38cafdf",
   "metadata": {},
   "outputs": [],
   "source": [
    "from quri_parts.qulacs.estimator import create_qulacs_vector_estimator\n",
    "qulacs_estimator = create_qulacs_vector_estimator()\n",
    "\n",
    "magnetization_operator = Operator()\n",
    "for i in range(n_qubits):\n",
    "    pauli_index = pauli_label('Z'+str(i))\n",
    "    magnetization_operator.add_term(pauli_index, 1)\n",
    "\n",
    "def calculate_magnetization(quantum_state):\n",
    "    return qulacs_estimator(magnetization_operator, quantum_state)\n",
    "    "
   ]
  },
  {
   "cell_type": "code",
   "execution_count": 23,
   "id": "17ba3034",
   "metadata": {},
   "outputs": [
    {
     "name": "stdout",
     "output_type": "stream",
     "text": [
      "Magnetization for Ground State Obtained: (4.580102278457078+0j)\n"
     ]
    }
   ],
   "source": [
    "print(\"Magnetization for Ground State Obtained:\", calculate_magnetization(bound_state).value)"
   ]
  },
  {
   "cell_type": "markdown",
   "id": "171a7352",
   "metadata": {},
   "source": [
    "## **Quantum Phase Transition**:\n",
    "\n",
    "Quantum phase transition is defined as the phenomenon where a major re-structuring of the ground state of a Quantum mechanical system occurs as a parameter of the Hamiltonian of the system is varied.\n",
    "\n",
    "In Transverse Field Ising Model between the limits, $h << J$ and $h >> J$, the nature of the ground state changes. When $J >> h$ there are two ground states, with opposite signs of magnetization. When $h >> J$ there is a single ground state with zero magnetization. The transverse Ising model is interesting because it exhibits a second order “quantum phase transition” at a critical value of $\\frac{h}{J}$. Here, a doublet of degenerate ground states, each with nonzero spontaneous magnetization must merge to form a unique ground state with zero magnetization. The quantum phase transition is of “second order” because the ground state energy, as a function of the parameter which is being varied to find the phase transition, has a discontinuous second derivative."
   ]
  },
  {
   "cell_type": "markdown",
   "id": "a764755d",
   "metadata": {},
   "source": [
    "### Correlation Length and Divergence at Critical point\n",
    "\n",
    "The *Correlation length* of a Quantum many body system quantifies how spins at different lattice sites are correlated for the ground state. For the *Transverse Field Ising Model (TFIM)*, it is defined as:\n",
    "\n",
    "$$\n",
    "C(r) = \\langle \\sigma_i^z \\sigma_{i+r}^z \\rangle - \\langle \\sigma_i^z \\rangle \\langle \\sigma_{i+r}^z \\rangle,\n",
    "$$\n",
    "\n",
    "where $r = |i - j|$ is the distance between spins. The *correlation length* $\\xi$ is the characteristic length scale over which these correlations decay."
   ]
  },
  {
   "cell_type": "code",
   "execution_count": 24,
   "id": "9b562373",
   "metadata": {},
   "outputs": [],
   "source": [
    "def correlation_fun(quantum_state, r):\n",
    "    pair_corr_operator = Operator()\n",
    "    for i in range(n_qubits):\n",
    "        if i+r >= n_qubits:\n",
    "            break\n",
    "        pauli_index = pauli_label('Z'+str(i)+' Z'+str(i+r))\n",
    "        pair_corr_operator.add_term(pauli_index, 1)  \n",
    "\n",
    "    shifted_corr_operator = Operator()\n",
    "    for i in range(n_qubits):\n",
    "            if i+r >= n_qubits:\n",
    "                break\n",
    "            pauli_index = pauli_label('Z'+str(r))\n",
    "            shifted_corr_operator.add_term(pauli_index, 1)\n",
    "\n",
    "    return (\n",
    "        qulacs_estimator(pair_corr_operator, quantum_state).value - \n",
    "        qulacs_estimator(magnetization_operator, quantum_state).value * qulacs_estimator(shifted_corr_operator, quantum_state).value\n",
    "    )"
   ]
  },
  {
   "cell_type": "code",
   "execution_count": 25,
   "id": "6754dcdc",
   "metadata": {},
   "outputs": [
    {
     "data": {
      "text/plain": [
       "[<matplotlib.lines.Line2D at 0x13d56af90>]"
      ]
     },
     "execution_count": 25,
     "metadata": {},
     "output_type": "execute_result"
    },
    {
     "data": {
      "image/png": "[encoded data removed]",
      "text/plain": [
       "<Figure size 640x480 with 1 Axes>"
      ]
     },
     "metadata": {},
     "output_type": "display_data"
    }
   ],
   "source": [
    "correlation = []\n",
    "for i in range(1, n_qubits):\n",
    "    correlation.append(correlation_fun(bound_state, i))\n",
    "\n",
    "plt.plot(range(1, n_qubits), np.real(correlation))"
   ]
  },
  {
   "cell_type": "markdown",
   "id": "c911e54e",
   "metadata": {},
   "source": [
    "#### Magntic Susceptibility\n",
    "\n",
    "The *magnetic susceptibility* $\\chi$ is a measure of how the magnetization of a system responds to an external magnetic field. It is defined as:\n",
    "$$\n",
    "\\chi = \\frac{\\partial M}{\\partial h}\n",
    "$$\n",
    "where $M$ is the magnetization and $h$ is the transverse field. The magnetic susceptibility diverges at the critical point, indicating a phase transition."
   ]
  },
  {
   "cell_type": "code",
   "execution_count": 26,
   "id": "6ef17d12",
   "metadata": {},
   "outputs": [
    {
     "name": "stdout",
     "output_type": "stream",
     "text": [
      "Optimizer converged\n",
      "Optimizer converged\n",
      "Optimizer converged\n",
      "Optimizer converged\n",
      "Optimizer converged\n",
      "Optimizer converged\n",
      "Optimizer converged\n",
      "Optimizer converged\n",
      "Optimizer converged\n",
      "Optimizer converged\n"
     ]
    }
   ],
   "source": [
    "magnetization = []\n",
    "h = np.linspace(0.8, 1.25, 10)\n",
    "\n",
    "for i in h:\n",
    "    hamiltonian = construct_TFIM_hamiltonian(J, i)\n",
    "    \n",
    "    adam_optimizer = Adam()\n",
    "    init_params = np.random.random(parametric_circuit.parameter_count)\n",
    "    vqe_state = vqe(init_params, h_cost_fn, h_grad_fn, adam_optimizer, hamiltonian)\n",
    "    state = parametric_state.bind_parameters(vqe_state.params)\n",
    "\n",
    "    magnetization.append(calculate_magnetization(state).value)"
   ]
  },
  {
   "cell_type": "code",
   "execution_count": 28,
   "id": "e746f126",
   "metadata": {},
   "outputs": [
    {
     "data": {
      "text/plain": [
       "[<matplotlib.lines.Line2D at 0x13d5e47d0>]"
      ]
     },
     "execution_count": 28,
     "metadata": {},
     "output_type": "execute_result"
    },
    {
     "data": {
      "image/png": "[encoded data removed]",
      "text/plain": [
       "<Figure size 640x480 with 1 Axes>"
      ]
     },
     "metadata": {},
     "output_type": "display_data"
    }
   ],
   "source": [
    "plt.plot(h, np.abs(magnetization))"
   ]
  },
  {
   "cell_type": "code",
   "execution_count": 29,
   "id": "38a7db09",
   "metadata": {},
   "outputs": [
    {
     "data": {
      "text/plain": [
       "[<matplotlib.lines.Line2D at 0x13eb17830>]"
      ]
     },
     "execution_count": 29,
     "metadata": {},
     "output_type": "execute_result"
    },
    {
     "data": {
      "image/png": "[encoded data removed]",
      "text/plain": [
       "<Figure size 640x480 with 1 Axes>"
      ]
     },
     "metadata": {},
     "output_type": "display_data"
    }
   ],
   "source": [
    "\n",
    "plt.plot(h, np.gradient(np.abs(magnetization), 0.05))"
   ]
  },
  {
   "cell_type": "markdown",
   "id": "40d9d23f",
   "metadata": {},
   "source": [
    "### **Entanglement Entropy**\n",
    "\n",
    "For a bipartition into subsystems \\( A \\) and \\( B \\):\n",
    "$$\n",
    "S_A = -\\text{Tr}(\\rho_A \\ln \\rho_A), \\quad \\rho_A = \\text{Tr}_B(|\\psi\\rangle\\langle\\psi|)\n",
    "$$\n",
    "\n",
    "- *Product state*: $S_A = 0$\n",
    "- *Maximally entangled*: $S_A = \\ln 2$ (Bell state)\n",
    "\n",
    "\n",
    "\n",
    "### **Area Law vs. Volume Law**\n",
    "\n",
    "|                          | Area Law                        | Volume Law                      |\n",
    "|--------------------------|---------------------------------|---------------------------------|\n",
    "| **Scaling**              | $S_A \\propto \\partial A$    | $S_A \\propto \\text{Vol}(A)$ |\n",
    "| **TFIM Ground States**   | FM/PM phases                    | Never in ground states          |\n",
    "| **Critical System**      | Logarithmic violation: $S_A \\propto \\ln L$ | |"
   ]
  },
  {
   "cell_type": "markdown",
   "id": "34e8fd3c",
   "metadata": {},
   "source": [
    "### **Exact Solution via Jordan-Wigner Transformation**  \n",
    "Map spins to fermions:  \n",
    "$$\n",
    "a_n = \\sigma_n^- \\prod_{m=1}^{n-1} \\sigma_m^x, \\quad a_n^\\dagger = \\sigma_n^+ \\prod_{m=1}^{n-1} \\sigma_m^x\n",
    "$$  \n",
    "**Hamiltonian in Fermionic Terms**:  \n",
    "$$\n",
    "H = J \\sum_{n=1}^{N-1} (a_n^\\dagger - a_n)(a_{n+1}^\\dagger + a_{n+1}) + h \\sum_{n=1}^N (1 - 2a_n^\\dagger a_n)\n",
    "$$  \n",
    "Diagonalize using Fourier and Bogoliubov transformations. The energy gap:  \n",
    "$$\n",
    "\\Delta = 2|J - h|\n",
    "$$  \n",
    "**Critical Point (h = J)**:  \n",
    "$(\\Delta \\to 0)$, leading to gapless excitations.  \n",
    "\n",
    "#### **Duality (Kramers-Wannier)**  \n",
    "Under $(J \\leftrightarrow h)$, the Hamiltonian retains its form, confirming criticality at \\(h = J\\).  \n",
    "\n",
    "**Critical Exponents**:  \n",
    "From the exact solution, exponents match the 2D classical Ising model:  \n",
    "$$\n",
    "\\nu = 1, \\quad \\beta = \\frac{1}{8}, \\quad \\gamma = \\frac{7}{4}\n",
    "$$  "
   ]
  },
  {
   "cell_type": "markdown",
   "id": "3ac2d95d",
   "metadata": {},
   "source": [
    "## **Reference*:*\n",
    "\n",
    "TFIM Tutorial: https://phas.ubc.ca/~seme/516/smtutorial2.pdf"
   ]
  },
  {
   "cell_type": "markdown",
   "id": "36cd0b9e",
   "metadata": {},
   "source": [
    "## **Applications**\n",
    "\n",
    "### **1. Quantum Annealing**  \n",
    "**Mechanism**:  \n",
    "The TIM Hamiltonian is used as a \"driver\" in adiabatic quantum computing:  \n",
    "$$\n",
    "H(t) = A(t) \\sum_n \\sigma_n^x + B(t) \\sum_n \\sigma_n^z \\sigma_{n+1}^z\n",
    "$$  \n",
    "- Initial state $(t=0)$: Ground state of $(H_{\\text{initial}} = -A(0) \\sum \\sigma_n^x)$ (paramagnetic phase).  \n",
    "- Final state $(t=T)$: Ground state of $(H_{\\text{final}} = -B(T) \\sum \\sigma_n^z \\sigma_{n+1}^z)$ (encodes optimization problem).  \n",
    "\n",
    "**Example**: Solving the MAX-CUT problem by mapping graph edges to \\(J\\) couplings.  \n",
    "\n",
    "### **2. Material Realization ($CoNb_2O_6$)**  \n",
    "- **Spin Chain Behavior**:  \n",
    "  Neutron scattering experiments show dispersion relation:  \n",
    "  $$\n",
    "  \\omega(k) \\propto \\sqrt{(J - h)^2 + 4Jh \\sin^2(k/2)}\n",
    "  $$  \n",
    "  Matching TIM predictions.  \n",
    "- **Critical Field**:  \n",
    "  At $(h_c = J \\approx 1.5 \\, \\text{T})$, magnetization vanishes, signaling the phase transition.  \n",
    "\n",
    "### **3. Topological Edge States (Kitaev Chain)**  \n",
    "**Mapping to Majorana Fermions**:  \n",
    "Rewrite TIM fermions as Majorana operators:  \n",
    "$$\n",
    "\\gamma_{2n-1} = a_n + a_n^\\dagger, \\quad \\gamma_{2n} = i(a_n - a_n^\\dagger)\n",
    "$$  \n",
    "**Edge Modes**:  \n",
    "For \\(J > h\\), unpaired Majorana modes $(\\gamma_1)$ and $(\\gamma_{2N})$ appear at chain ends, leading to degeneracy:  \n",
    "$$\n",
    "|\\psi_{\\text{edge}}\\rangle = \\frac{1}{\\sqrt{2}} (|0\\rangle + |1\\rangle)\n",
    "$$  \n",
    "**Application**: Robust qubits for fault-tolerant quantum computing.  "
   ]
  },
  {
   "cell_type": "markdown",
   "id": "433c50ca",
   "metadata": {},
   "source": []
  }
 ],
 "metadata": {
  "kernelspec": {
   "display_name": "qiskit",
   "language": "python",
   "name": "python3"
  },
  "language_info": {
   "codemirror_mode": {
    "name": "ipython",
    "version": 3
   },
   "file_extension": ".py",
   "mimetype": "text/x-python",
   "name": "python",
   "nbconvert_exporter": "python",
   "pygments_lexer": "ipython3",
   "version": "3.12.8"
  }
 },
 "nbformat": 4,
 "nbformat_minor": 5
}
