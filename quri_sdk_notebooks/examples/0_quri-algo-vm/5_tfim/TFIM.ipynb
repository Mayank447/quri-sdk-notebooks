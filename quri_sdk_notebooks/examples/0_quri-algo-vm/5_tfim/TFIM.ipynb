{
 "cells": [
  {
   "cell_type": "markdown",
   "id": "cafbce7b",
   "metadata": {},
   "source": [
    "# **Transverse Field Ising Model**"
   ]
  },
  {
   "cell_type": "markdown",
   "id": "a261131f",
   "metadata": {},
   "source": [
    "Ising Model is a theoretical model to describe ferromagnetism in solids. It simplifies the complex properties of solids by assuming only nearest neighbor interaction between lattice sites and allowing only two opposite pointing orientations of each lattice site’s magnetic moment. Physically it's the opposite of an Ideal gas, as the particles are fixed but can interact compared to non-interacting moving particles in the Ideal gas. For details, see [Ising model](https://www.thphys.uni-heidelberg.de/~wolschin/statsem20_3s.pdf).\n",
    "\n",
    "From a Computer Science perspective, NP-hard problems, including all of Karp's 21 NP-complete problems can be mapped to the Ising model with a polynomial overhead. Thus, any NP-hard problem can be reduced to finding the ground state of the Ising model. For further reference, look at [Ising formulations of NP-Complete problems](https://www.frontiersin.org/journals/physics/articles/10.3389/fphy.2014.00005/full).\n",
    "\n",
    "Over time, Ising models have been applied to various other fields such as *Machine Learning (Hopfield networks)*, *Biology (Protein folding)*, and *Physics (Quantum phase transitions)*. The **Transverse Field Ising Model (TFIM)** is a quantum version of the Ising model, where spins are replaced by qubits and the interaction between spins is modified by a transverse magnetic field. This model is used to study quantum phase transitions and has applications in Quantum Computing and Condensed Matter Physics."
   ]
  },
  {
   "cell_type": "markdown",
   "id": "7f276a14",
   "metadata": {},
   "source": [
    "\n",
    "The Hamiltonian of the Transverse Field Ising Model is given by:\n",
    "\n",
    "$$H = -J\\sum_{i=1}^{N} X_i X_{i+1} - h\\sum_{i=1}^N Z_i$$\n",
    "\n",
    "- *$X$:* The Pauli $\\sigma_x$ matrix (for spin measurement)\n",
    "- *$Z$:* The Pauli $\\sigma_z$ matrix (for transverse field) \n",
    "- *Ferromagnetic coupling ($J$)*: Favors alignment of neighboring spins along X.  \n",
    "- *Transverse field ($h$)*: Induces quantum fluctuations, polarizing spins along J.\n",
    "- The boundary condition is periodic, meaning the last spin interacts with the first spin.\n",
    "\n",
    "**Note:** In most references, the Hamiltonian will have Pauli matrices in the opposite order, i.e., $H = -J\\sum_{i=1}^{N-1} Z_{i+1} Z_i - h\\sum_{i=1}^N X_i$. This is due to the convention of defining the spin along Z axis in Condensed Matter Physics. The reason we switch Pauli X and Z is due to the Z2 ansatz we will be using for the VQE. Everything else remains the same, if you are doing any calculation wrt to the standard TFIM Hamiltonian, just switch the Pauli matrices."
   ]
  },
  {
   "cell_type": "markdown",
   "id": "384e309e",
   "metadata": {},
   "source": [
    "### **Ground States and Symmetry**\n",
    "\n",
    "#### h >> J (Paramagnetic Phase): \n",
    "When h is much larger than J, the spins tend to align along the Z-axis, leading to magnetization in the Z direction (ferromagnetic phase). Thus, the two degenerate ground states are:\n",
    "$$\n",
    "|\\psi^{0+}\\rangle = \\otimes_{n=1}^N | \\uparrow \\rangle_n, \\quad |\\psi^{0-}\\rangle = \\otimes_{n=1}^N | \\downarrow \\rangle_n\n",
    "$$  \n",
    "These exhibit non-zero magnetization $M =\\pm N$, where $N$ is the number of spins. The $\\mathbf{Z}_2$ symmetry is broken, and the system has two degenerate ground states.\n",
    "\n",
    "#### J >> h (Ferromagnetic Phase): \n",
    "When J is much larger than h, the spins are polarized along the X-axis, leading to disordered state. \n",
    "Here Magnetization M = 0 and $\\mathbf{Z}_2$ symmetry is preserved. The unique symmetric ground state is:\n",
    "$$\n",
    "|\\psi^{0\\to}\\rangle = \\bigotimes_{n=1}^N \\frac{1}{\\sqrt{2}} \\left( | \\uparrow \\rangle_n + | \\downarrow \\rangle_n \\right) = \\otimes_{n=1}^N | \\rightarrow \\rangle_n\n",
    "$$\n",
    "\n",
    "The $\\mathbb{Z}_2$ symmetry corresponds to a *global spin-flip* operation:\n",
    "$ G = \\otimes_i \\sigma_i^z, $\n",
    "which satisfies $G^2 = 1$, forming the cyclic group $\\mathbb{Z}_2$.\n",
    "\n",
    "Interaction term $\\sigma_i^x \\sigma_j^x$:\n",
    "  $\\quad G (\\sigma_i^x \\sigma_j^x) G^{-1} = \\sigma_i^x \\sigma_j^x \\quad (\\text{invariant}).$\n",
    "\n",
    "Transverse field term $\\sigma_i^x$:\n",
    "  $\\quad G (\\sigma_i^z) G^{-1} = \\sigma_i^z \\quad (\\text{invariant}).$\n",
    "\n",
    "The Hamiltonian $H$ is invariant under $G$, confirming $\\mathbb{Z}_2$ symmetry."
   ]
  },
  {
   "cell_type": "markdown",
   "id": "ae0d7881",
   "metadata": {},
   "source": [
    "*The goal of this tutorial will be implementing Transverse Field Ising Models using QURI-Parts. We will approximate the ground state energy, wavefunction of the TFIM Hamiltonian using VQE and further improving it using QSCI. Finally we will calculate the correlation length and show divergence at the critical point which are relevant to Condensed Matter Physicist.*"
   ]
  },
  {
   "cell_type": "markdown",
   "id": "6ee2dd26",
   "metadata": {},
   "source": [
    "### Setting up the QubitHamiltonian in QURI"
   ]
  },
  {
   "cell_type": "code",
   "execution_count": 212,
   "id": "a4c838d2",
   "metadata": {},
   "outputs": [],
   "source": [
    "import numpy as np\n",
    "import matplotlib.pyplot as plt\n",
    "from typing import Sequence\n",
    "from quri_parts.core.operator import Operator, pauli_label, get_sparse_matrix\n",
    "\n",
    "def construct_TFIM_hamiltonian(J, h, n_qubits):\n",
    "    hamiltonian = Operator()\n",
    "\n",
    "    # Add Ising interaction terms (-J Σ X_i X_{i+1}) (Assuming periodic boundary conditions)\n",
    "    for i in range(n_qubits):\n",
    "        pauli_index = pauli_label('X'+str(i)+' X'+str((i+1)%n_qubits))\n",
    "        hamiltonian.add_term(pauli_index, -J)\n",
    "\n",
    "    # Add transverse field terms (-h Σ Z_i)\n",
    "    for i in range(n_qubits):\n",
    "        pauli_index = pauli_label('Z'+str(i))\n",
    "        hamiltonian.add_term(pauli_index, -h)\n",
    "\n",
    "    return hamiltonian\n"
   ]
  },
  {
   "cell_type": "code",
   "execution_count": 213,
   "id": "64648346",
   "metadata": {},
   "outputs": [],
   "source": [
    "# Parameters\n",
    "n_qubits = 11        # Number of spins/qubits\n",
    "J = 1.0             # Interaction strength\n",
    "h = 1.0             # Transverse field strength\n",
    "\n",
    "hamiltonian = construct_TFIM_hamiltonian(J, h, n_qubits)"
   ]
  },
  {
   "cell_type": "markdown",
   "id": "7e4f4f3d",
   "metadata": {},
   "source": [
    "Since *n_qubits* is small, we can find the smallest eigenvalue (ground energy state) of the Hamiltonian matrix directly. This is only performed for benchmarking. For relistic physical systems involving large *n_qubits*, this computation is not feasible and we have to rely on Quantum Computing methods to find the approximate ground state."
   ]
  },
  {
   "cell_type": "code",
   "execution_count": 214,
   "id": "5f11c051",
   "metadata": {},
   "outputs": [
    {
     "name": "stdout",
     "output_type": "stream",
     "text": [
      "E_0: -14.053348366664528\n",
      "Delta (E_1 - E_0)): 0.14304282311756822\n"
     ]
    }
   ],
   "source": [
    "## Ground eigenvalue and eigenvector computation using numpy (Will be later used for benchmarking)\n",
    "vals, vecs = np.linalg.eigh(get_sparse_matrix(hamiltonian).toarray())\n",
    "\n",
    "EXACT_GS_ENERGY = np.min(vals)\n",
    "EXACT_GAP = vals[np.argsort(vals)][:2] @ [-1, 1]\n",
    "\n",
    "print(\"E_0:\", EXACT_GS_ENERGY)\n",
    "print(\"Delta (E_1 - E_0)):\", EXACT_GAP)"
   ]
  },
  {
   "cell_type": "markdown",
   "id": "900b1754",
   "metadata": {},
   "source": [
    "### Statistical Phase Estimation (SPE):\n",
    "\n",
    "Statistical Phase Estimation (SPE) is a ground state energy estimation (GSEE) algorithm meant to run on Early Fault Tolerant Quantum Computing (EFTQC) architectures. Essentially SPE estimates the ground state using a shorter depth circuit than Quantum Phase Estimation (QPE) which requires longer circuit depth and fully fault tolerant architecture. Also SPE has shorter fewer shot complexity than VQE. For further details, you can refer to this [notebook](https://github.com/QunaSys/quri-sdk-notebooks/blob/main/quri_sdk_notebooks/examples/0_quri-algo-vm/1_spe/1_spe.ipynb) or the [original paper](https://arxiv.org/abs/2409.07749)"
   ]
  },
  {
   "cell_type": "markdown",
   "id": "3a3ab9b2",
   "metadata": {},
   "source": [
    " In SPE to estimate the ground state of a Hamiltonian, we need to encode our Hamiltonian into a controlled time evolution circuit ($e^{-i H t}$). Here we will do this time evolution with Trotterization. In QURI Parts, we wrap the hamiltonian into QubitHamiltonianInput for encoding into a circuit later."
   ]
  },
  {
   "cell_type": "code",
   "execution_count": 61,
   "id": "c46af543",
   "metadata": {},
   "outputs": [],
   "source": [
    "from quri_algo.problem import QubitHamiltonianInput\n",
    "\n",
    "qubit_hamiltonian = QubitHamiltonianInput(n_qubits, hamiltonian)"
   ]
  },
  {
   "cell_type": "markdown",
   "id": "ff73c458",
   "metadata": {},
   "source": [
    "The SPE algorithm requires an esimtation of $<e^{-iHt}>$ on different evolution time $t$. We build the exact estimator and another one that based on Hadamard test with Trotterized time evolution operator."
   ]
  },
  {
   "cell_type": "code",
   "execution_count": 63,
   "id": "4d4b474a",
   "metadata": {},
   "outputs": [],
   "source": [
    "from quri_parts.qulacs.sampler import create_qulacs_vector_sampler\n",
    "from quri_algo.circuit.time_evolution.trotter_time_evo import TrotterControlledTimeEvolutionCircuitFactory\n",
    "from quri_algo.core.estimator.time_evolution_estimator.trotter import TrotterTimeEvolutionHadamardTest\n",
    "\n",
    "\n",
    "# Setting the num_trotter steps to 30\n",
    "trotter_concotrolled_time_evo_circuit_factory = (\n",
    "    TrotterControlledTimeEvolutionCircuitFactory(qubit_hamiltonian, n_trotter=30)\n",
    ")\n",
    "\n",
    "# Time-evolution with t=1\n",
    "c_time_evo = trotter_concotrolled_time_evo_circuit_factory(evolution_time=1)\n",
    "\n",
    "sampler = create_qulacs_vector_sampler()\n",
    "trotter_time_evolution_estimator = TrotterTimeEvolutionHadamardTest(qubit_hamiltonian, sampler, 50)"
   ]
  },
  {
   "cell_type": "markdown",
   "id": "c2a4b8d6",
   "metadata": {},
   "source": [
    "We pick a trial state $|\\psi\\rangle$ and compute the overlap with the ground state $|\\psi^0\\rangle$ of the Hamiltonian $H$."
   ]
  },
  {
   "cell_type": "code",
   "execution_count": 8,
   "id": "ca5668fe",
   "metadata": {},
   "outputs": [
    {
     "name": "stdout",
     "output_type": "stream",
     "text": [
      "Overlap between the chosen state and the exact grounds state vector:  6.8e-01\n"
     ]
    }
   ],
   "source": [
    "from quri_parts.core.state import quantum_state\n",
    "from quri_parts.qulacs.simulator import evaluate_state_to_vector\n",
    "\n",
    "\n",
    "trial_state = quantum_state(n_qubits, bits=0) \n",
    "gs_overlap = np.abs(evaluate_state_to_vector(trial_state).vector @ vecs[:, 0])**2\n",
    "print(f\"Overlap between the chosen state and the exact grounds state vector: {gs_overlap: .1e}\")"
   ]
  },
  {
   "cell_type": "code",
   "execution_count": 10,
   "id": "a038b31a",
   "metadata": {},
   "outputs": [
    {
     "name": "stdout",
     "output_type": "stream",
     "text": [
      "The obtained ground state energy is -7.260219928402891\n",
      "The error is = 0.03600988215586565\n"
     ]
    }
   ],
   "source": [
    "from quri_algo.algo.phase_estimation.spe import StepFunctionParam\n",
    "from quri_algo.algo.phase_estimation.spe.lt22 import SingleSignalLT22GSEE\n",
    "\n",
    "# Initializing the parameters for \n",
    "d_max = 1000\n",
    "delta = 1e-4\n",
    "n_sample = 10000\n",
    "tau = 1 / 20\n",
    "eta = 0.4\n",
    "\n",
    "signal_param = StepFunctionParam(d=d_max, delta=delta, n_sample=n_sample)\n",
    "lt22_algorithm = SingleSignalLT22GSEE(trotter_time_evolution_estimator, tau=tau)\n",
    "spe_result = lt22_algorithm(trial_state, signal_param, eta)\n",
    "\n",
    "lt22_gs_energy = spe_result.phase / tau\n",
    "print(f\"The obtained ground state energy is {lt22_gs_energy}\")\n",
    "print(f\"The error is = {abs(lt22_gs_energy - np.min(vals))}\")"
   ]
  },
  {
   "cell_type": "markdown",
   "id": "ece5c369",
   "metadata": {},
   "source": [
    "## **VQE Optimization**"
   ]
  },
  {
   "cell_type": "markdown",
   "id": "2766f2b0",
   "metadata": {},
   "source": [
    "As discussed previously, TFIM Hamiltonian is invariant under $\\mathbf{Z}_2$ symmetry. The ansatz we choose for  the VQE optimzation also respects this symmetry. For further details on the ansatz, refer to this [paper]()"
   ]
  },
  {
   "cell_type": "code",
   "execution_count": 215,
   "id": "5279c6d1",
   "metadata": {},
   "outputs": [
    {
     "name": "stdout",
     "output_type": "stream",
     "text": [
      "                           ___     ___     ___                             ___  \n",
      "                          |PR |   |PRZ|   |PR |                           |PR | \n",
      "--------------------------|20 |---|21 |---|23 |---------------------------|60 |-\n",
      "                          |   |   |___|   |   |                           |   | \n",
      "   ___     ___     ___    |   |    ___    |   |    ___     ___     ___    |   | \n",
      "  |PR |   |PRZ|   |PR |   |   |   |PRZ|   |   |   |PR |   |PRZ|   |PR |   |   | \n",
      "--|0  |---|1  |---|3  |---|   |---|22 |---|   |---|40 |---|41 |---|43 |---|   |-\n",
      "  |   |   |___|   |   |   |___|   |___|   |___|   |   |   |___|   |   |   |___| \n",
      "  |   |    ___    |   |    ___     ___     ___    |   |    ___    |   |    ___  \n",
      "  |   |   |PRZ|   |   |   |PR |   |PRZ|   |PR |   |   |   |PRZ|   |   |   |PR | \n",
      "--|   |---|2  |---|   |---|24 |---|25 |---|27 |---|   |---|42 |---|   |---|64 |-\n",
      "  |___|   |___|   |___|   |   |   |___|   |   |   |___|   |___|   |___|   |   | \n",
      "   ___     ___     ___    |   |    ___    |   |    ___     ___     ___    |   | \n",
      "  |PR |   |PRZ|   |PR |   |   |   |PRZ|   |   |   |PR |   |PRZ|   |PR |   |   | \n",
      "--|4  |---|5  |---|7  |---|   |---|26 |---|   |---|44 |---|45 |---|47 |---|   |-\n",
      "  |   |   |___|   |   |   |___|   |___|   |___|   |   |   |___|   |   |   |___| \n",
      "  |   |    ___    |   |    ___     ___     ___    |   |    ___    |   |    ___  \n",
      "  |   |   |PRZ|   |   |   |PR |   |PRZ|   |PR |   |   |   |PRZ|   |   |   |PR | \n",
      "--|   |---|6  |---|   |---|28 |---|29 |---|31 |---|   |---|46 |---|   |---|68 |-\n",
      "  |___|   |___|   |___|   |   |   |___|   |   |   |___|   |___|   |___|   |   | \n",
      "   ___     ___     ___    |   |    ___    |   |    ___     ___     ___    |   | \n",
      "  |PR |   |PRZ|   |PR |   |   |   |PRZ|   |   |   |PR |   |PRZ|   |PR |   |   | \n",
      "--|8  |---|9  |---|11 |---|   |---|30 |---|   |---|48 |---|49 |---|51 |---|   |-\n",
      "  |   |   |___|   |   |   |___|   |___|   |___|   |   |   |___|   |   |   |___| \n",
      "  |   |    ___    |   |    ___     ___     ___    |   |    ___    |   |    ___  \n",
      "  |   |   |PRZ|   |   |   |PR |   |PRZ|   |PR |   |   |   |PRZ|   |   |   |PR | \n",
      "--|   |---|10 |---|   |---|32 |---|33 |---|35 |---|   |---|50 |---|   |---|72 |-\n",
      "  |___|   |___|   |___|   |   |   |___|   |   |   |___|   |___|   |___|   |   | \n",
      "   ___     ___     ___    |   |    ___    |   |    ___     ___     ___    |   | \n",
      "  |PR |   |PRZ|   |PR |   |   |   |PRZ|   |   |   |PR |   |PRZ|   |PR |   |   | \n",
      "--|12 |---|13 |---|15 |---|   |---|34 |---|   |---|52 |---|53 |---|55 |---|   |-\n",
      "  |   |   |___|   |   |   |___|   |___|   |___|   |   |   |___|   |   |   |___| \n",
      "  |   |    ___    |   |    ___     ___     ___    |   |    ___    |   |    ___  \n",
      "  |   |   |PRZ|   |   |   |PR |   |PRZ|   |PR |   |   |   |PRZ|   |   |   |PR | \n",
      "--|   |---|14 |---|   |---|36 |---|37 |---|39 |---|   |---|54 |---|   |---|76 |-\n",
      "  |___|   |___|   |___|   |   |   |___|   |   |   |___|   |___|   |___|   |   | \n",
      "   ___     ___     ___    |   |    ___    |   |    ___     ___     ___    |   | \n",
      "  |PR |   |PRZ|   |PR |   |   |   |PRZ|   |   |   |PR |   |PRZ|   |PR |   |   | \n",
      "--|16 |---|17 |---|19 |---|   |---|38 |---|   |---|56 |---|57 |---|59 |---|   |-\n",
      "  |   |   |___|   |   |   |___|   |___|   |___|   |   |   |___|   |   |   |___| \n",
      "  |   |    ___    |   |                           |   |    ___    |   |         \n",
      "  |   |   |PRZ|   |   |                           |   |   |PRZ|   |   |         \n",
      "--|   |---|18 |---|   |---------------------------|   |---|58 |---|   |---------\n",
      "  |___|   |___|   |___|                           |___|   |___|   |___|         \n",
      "\n",
      "\n",
      "================================================================================\n",
      "\n",
      "   ___     ___                             ___     ___     ___                  \n",
      "  |PRZ|   |PR |                           |PR |   |PRZ|   |PR |                 \n",
      "--|61 |---|63 |---------------------------|100|---|101|---|103|-----------------\n",
      "  |___|   |   |                           |   |   |___|   |   |                 \n",
      "   ___    |   |    ___     ___     ___    |   |    ___    |   |    ___     ___  \n",
      "  |PRZ|   |   |   |PR |   |PRZ|   |PR |   |   |   |PRZ|   |   |   |PR |   |PRZ| \n",
      "--|62 |---|   |---|80 |---|81 |---|83 |---|   |---|102|---|   |---|120|---|121|-\n",
      "  |___|   |___|   |   |   |___|   |   |   |___|   |___|   |___|   |   |   |___| \n",
      "   ___     ___    |   |    ___    |   |    ___     ___     ___    |   |    ___  \n",
      "  |PRZ|   |PR |   |   |   |PRZ|   |   |   |PR |   |PRZ|   |PR |   |   |   |PRZ| \n",
      "--|65 |---|67 |---|   |---|82 |---|   |---|104|---|105|---|107|---|   |---|122|-\n",
      "  |___|   |   |   |___|   |___|   |___|   |   |   |___|   |   |   |___|   |___| \n",
      "   ___    |   |    ___     ___     ___    |   |    ___    |   |    ___     ___  \n",
      "  |PRZ|   |   |   |PR |   |PRZ|   |PR |   |   |   |PRZ|   |   |   |PR |   |PRZ| \n",
      "--|66 |---|   |---|84 |---|85 |---|87 |---|   |---|106|---|   |---|124|---|125|-\n",
      "  |___|   |___|   |   |   |___|   |   |   |___|   |___|   |___|   |   |   |___| \n",
      "   ___     ___    |   |    ___    |   |    ___     ___     ___    |   |    ___  \n",
      "  |PRZ|   |PR |   |   |   |PRZ|   |   |   |PR |   |PRZ|   |PR |   |   |   |PRZ| \n",
      "--|69 |---|71 |---|   |---|86 |---|   |---|108|---|109|---|111|---|   |---|126|-\n",
      "  |___|   |   |   |___|   |___|   |___|   |   |   |___|   |   |   |___|   |___| \n",
      "   ___    |   |    ___     ___     ___    |   |    ___    |   |    ___     ___  \n",
      "  |PRZ|   |   |   |PR |   |PRZ|   |PR |   |   |   |PRZ|   |   |   |PR |   |PRZ| \n",
      "--|70 |---|   |---|88 |---|89 |---|91 |---|   |---|110|---|   |---|128|---|129|-\n",
      "  |___|   |___|   |   |   |___|   |   |   |___|   |___|   |___|   |   |   |___| \n",
      "   ___     ___    |   |    ___    |   |    ___     ___     ___    |   |    ___  \n",
      "  |PRZ|   |PR |   |   |   |PRZ|   |   |   |PR |   |PRZ|   |PR |   |   |   |PRZ| \n",
      "--|73 |---|75 |---|   |---|90 |---|   |---|112|---|113|---|115|---|   |---|130|-\n",
      "  |___|   |   |   |___|   |___|   |___|   |   |   |___|   |   |   |___|   |___| \n",
      "   ___    |   |    ___     ___     ___    |   |    ___    |   |    ___     ___  \n",
      "  |PRZ|   |   |   |PR |   |PRZ|   |PR |   |   |   |PRZ|   |   |   |PR |   |PRZ| \n",
      "--|74 |---|   |---|92 |---|93 |---|95 |---|   |---|114|---|   |---|132|---|133|-\n",
      "  |___|   |___|   |   |   |___|   |   |   |___|   |___|   |___|   |   |   |___| \n",
      "   ___     ___    |   |    ___    |   |    ___     ___     ___    |   |    ___  \n",
      "  |PRZ|   |PR |   |   |   |PRZ|   |   |   |PR |   |PRZ|   |PR |   |   |   |PRZ| \n",
      "--|77 |---|79 |---|   |---|94 |---|   |---|116|---|117|---|119|---|   |---|134|-\n",
      "  |___|   |   |   |___|   |___|   |___|   |   |   |___|   |   |   |___|   |___| \n",
      "   ___    |   |    ___     ___     ___    |   |    ___    |   |    ___     ___  \n",
      "  |PRZ|   |   |   |PR |   |PRZ|   |PR |   |   |   |PRZ|   |   |   |PR |   |PRZ| \n",
      "--|78 |---|   |---|96 |---|97 |---|99 |---|   |---|118|---|   |---|136|---|137|-\n",
      "  |___|   |___|   |   |   |___|   |   |   |___|   |___|   |___|   |   |   |___| \n",
      "                  |   |    ___    |   |                           |   |    ___  \n",
      "                  |   |   |PRZ|   |   |                           |   |   |PRZ| \n",
      "------------------|   |---|98 |---|   |---------------------------|   |---|138|-\n",
      "                  |___|   |___|   |___|                           |___|   |___| \n",
      "\n",
      "\n",
      "================================================================================\n",
      "\n",
      "           ___     ___     ___                             ___     ___     ___  \n",
      "          |PR |   |PRZ|   |PR |                           |PR |   |PRZ|   |PR | \n",
      "----------|140|---|141|---|143|---------------------------|180|---|181|---|183|-\n",
      "          |   |   |___|   |   |                           |   |   |___|   |   | \n",
      "   ___    |   |    ___    |   |    ___     ___     ___    |   |    ___    |   | \n",
      "  |PR |   |   |   |PRZ|   |   |   |PR |   |PRZ|   |PR |   |   |   |PRZ|   |   | \n",
      "--|123|---|   |---|142|---|   |---|160|---|161|---|163|---|   |---|182|---|   |-\n",
      "  |   |   |___|   |___|   |___|   |   |   |___|   |   |   |___|   |___|   |___| \n",
      "  |   |    ___     ___     ___    |   |    ___    |   |    ___     ___     ___  \n",
      "  |   |   |PR |   |PRZ|   |PR |   |   |   |PRZ|   |   |   |PR |   |PRZ|   |PR | \n",
      "--|   |---|144|---|145|---|147|---|   |---|162|---|   |---|184|---|185|---|187|-\n",
      "  |___|   |   |   |___|   |   |   |___|   |___|   |___|   |   |   |___|   |   | \n",
      "   ___    |   |    ___    |   |    ___     ___     ___    |   |    ___    |   | \n",
      "  |PR |   |   |   |PRZ|   |   |   |PR |   |PRZ|   |PR |   |   |   |PRZ|   |   | \n",
      "--|127|---|   |---|146|---|   |---|164|---|165|---|167|---|   |---|186|---|   |-\n",
      "  |   |   |___|   |___|   |___|   |   |   |___|   |   |   |___|   |___|   |___| \n",
      "  |   |    ___     ___     ___    |   |    ___    |   |    ___     ___     ___  \n",
      "  |   |   |PR |   |PRZ|   |PR |   |   |   |PRZ|   |   |   |PR |   |PRZ|   |PR | \n",
      "--|   |---|148|---|149|---|151|---|   |---|166|---|   |---|188|---|189|---|191|-\n",
      "  |___|   |   |   |___|   |   |   |___|   |___|   |___|   |   |   |___|   |   | \n",
      "   ___    |   |    ___    |   |    ___     ___     ___    |   |    ___    |   | \n",
      "  |PR |   |   |   |PRZ|   |   |   |PR |   |PRZ|   |PR |   |   |   |PRZ|   |   | \n",
      "--|131|---|   |---|150|---|   |---|168|---|169|---|171|---|   |---|190|---|   |-\n",
      "  |   |   |___|   |___|   |___|   |   |   |___|   |   |   |___|   |___|   |___| \n",
      "  |   |    ___     ___     ___    |   |    ___    |   |    ___     ___     ___  \n",
      "  |   |   |PR |   |PRZ|   |PR |   |   |   |PRZ|   |   |   |PR |   |PRZ|   |PR | \n",
      "--|   |---|152|---|153|---|155|---|   |---|170|---|   |---|192|---|193|---|195|-\n",
      "  |___|   |   |   |___|   |   |   |___|   |___|   |___|   |   |   |___|   |   | \n",
      "   ___    |   |    ___    |   |    ___     ___     ___    |   |    ___    |   | \n",
      "  |PR |   |   |   |PRZ|   |   |   |PR |   |PRZ|   |PR |   |   |   |PRZ|   |   | \n",
      "--|135|---|   |---|154|---|   |---|172|---|173|---|175|---|   |---|194|---|   |-\n",
      "  |   |   |___|   |___|   |___|   |   |   |___|   |   |   |___|   |___|   |___| \n",
      "  |   |    ___     ___     ___    |   |    ___    |   |    ___     ___     ___  \n",
      "  |   |   |PR |   |PRZ|   |PR |   |   |   |PRZ|   |   |   |PR |   |PRZ|   |PR | \n",
      "--|   |---|156|---|157|---|159|---|   |---|174|---|   |---|196|---|197|---|199|-\n",
      "  |___|   |   |   |___|   |   |   |___|   |___|   |___|   |   |   |___|   |   | \n",
      "   ___    |   |    ___    |   |    ___     ___     ___    |   |    ___    |   | \n",
      "  |PR |   |   |   |PRZ|   |   |   |PR |   |PRZ|   |PR |   |   |   |PRZ|   |   | \n",
      "--|139|---|   |---|158|---|   |---|176|---|177|---|179|---|   |---|198|---|   |-\n",
      "  |   |   |___|   |___|   |___|   |   |   |___|   |   |   |___|   |___|   |___| \n",
      "  |   |                           |   |    ___    |   |                         \n",
      "  |   |                           |   |   |PRZ|   |   |                         \n",
      "--|   |---------------------------|   |---|178|---|   |-------------------------\n",
      "  |___|                           |___|   |___|   |___|                         \n",
      "\n",
      "\n",
      "================================================================================\n",
      "\n",
      "                           ___     ___     ___                             ___  \n",
      "                          |PR |   |PRZ|   |PR |                           |PR | \n",
      "--------------------------|220|---|221|---|223|---------------------------|260|-\n",
      "                          |   |   |___|   |   |                           |   | \n",
      "   ___     ___     ___    |   |    ___    |   |    ___     ___     ___    |   | \n",
      "  |PR |   |PRZ|   |PR |   |   |   |PRZ|   |   |   |PR |   |PRZ|   |PR |   |   | \n",
      "--|200|---|201|---|203|---|   |---|222|---|   |---|240|---|241|---|243|---|   |-\n",
      "  |   |   |___|   |   |   |___|   |___|   |___|   |   |   |___|   |   |   |___| \n",
      "  |   |    ___    |   |    ___     ___     ___    |   |    ___    |   |    ___  \n",
      "  |   |   |PRZ|   |   |   |PR |   |PRZ|   |PR |   |   |   |PRZ|   |   |   |PR | \n",
      "--|   |---|202|---|   |---|224|---|225|---|227|---|   |---|242|---|   |---|264|-\n",
      "  |___|   |___|   |___|   |   |   |___|   |   |   |___|   |___|   |___|   |   | \n",
      "   ___     ___     ___    |   |    ___    |   |    ___     ___     ___    |   | \n",
      "  |PR |   |PRZ|   |PR |   |   |   |PRZ|   |   |   |PR |   |PRZ|   |PR |   |   | \n",
      "--|204|---|205|---|207|---|   |---|226|---|   |---|244|---|245|---|247|---|   |-\n",
      "  |   |   |___|   |   |   |___|   |___|   |___|   |   |   |___|   |   |   |___| \n",
      "  |   |    ___    |   |    ___     ___     ___    |   |    ___    |   |    ___  \n",
      "  |   |   |PRZ|   |   |   |PR |   |PRZ|   |PR |   |   |   |PRZ|   |   |   |PR | \n",
      "--|   |---|206|---|   |---|228|---|229|---|231|---|   |---|246|---|   |---|268|-\n",
      "  |___|   |___|   |___|   |   |   |___|   |   |   |___|   |___|   |___|   |   | \n",
      "   ___     ___     ___    |   |    ___    |   |    ___     ___     ___    |   | \n",
      "  |PR |   |PRZ|   |PR |   |   |   |PRZ|   |   |   |PR |   |PRZ|   |PR |   |   | \n",
      "--|208|---|209|---|211|---|   |---|230|---|   |---|248|---|249|---|251|---|   |-\n",
      "  |   |   |___|   |   |   |___|   |___|   |___|   |   |   |___|   |   |   |___| \n",
      "  |   |    ___    |   |    ___     ___     ___    |   |    ___    |   |    ___  \n",
      "  |   |   |PRZ|   |   |   |PR |   |PRZ|   |PR |   |   |   |PRZ|   |   |   |PR | \n",
      "--|   |---|210|---|   |---|232|---|233|---|235|---|   |---|250|---|   |---|272|-\n",
      "  |___|   |___|   |___|   |   |   |___|   |   |   |___|   |___|   |___|   |   | \n",
      "   ___     ___     ___    |   |    ___    |   |    ___     ___     ___    |   | \n",
      "  |PR |   |PRZ|   |PR |   |   |   |PRZ|   |   |   |PR |   |PRZ|   |PR |   |   | \n",
      "--|212|---|213|---|215|---|   |---|234|---|   |---|252|---|253|---|255|---|   |-\n",
      "  |   |   |___|   |   |   |___|   |___|   |___|   |   |   |___|   |   |   |___| \n",
      "  |   |    ___    |   |    ___     ___     ___    |   |    ___    |   |    ___  \n",
      "  |   |   |PRZ|   |   |   |PR |   |PRZ|   |PR |   |   |   |PRZ|   |   |   |PR | \n",
      "--|   |---|214|---|   |---|236|---|237|---|239|---|   |---|254|---|   |---|276|-\n",
      "  |___|   |___|   |___|   |   |   |___|   |   |   |___|   |___|   |___|   |   | \n",
      "   ___     ___     ___    |   |    ___    |   |    ___     ___     ___    |   | \n",
      "  |PR |   |PRZ|   |PR |   |   |   |PRZ|   |   |   |PR |   |PRZ|   |PR |   |   | \n",
      "--|216|---|217|---|219|---|   |---|238|---|   |---|256|---|257|---|259|---|   |-\n",
      "  |   |   |___|   |   |   |___|   |___|   |___|   |   |   |___|   |   |   |___| \n",
      "  |   |    ___    |   |                           |   |    ___    |   |         \n",
      "  |   |   |PRZ|   |   |                           |   |   |PRZ|   |   |         \n",
      "--|   |---|218|---|   |---------------------------|   |---|258|---|   |---------\n",
      "  |___|   |___|   |___|                           |___|   |___|   |___|         \n",
      "\n",
      "\n",
      "================================================================================\n",
      "\n",
      "   ___     ___  \n",
      "  |PRZ|   |PR | \n",
      "--|261|---|263|-\n",
      "  |___|   |   | \n",
      "   ___    |   | \n",
      "  |PRZ|   |   | \n",
      "--|262|---|   |-\n",
      "  |___|   |___| \n",
      "   ___     ___  \n",
      "  |PRZ|   |PR | \n",
      "--|265|---|267|-\n",
      "  |___|   |   | \n",
      "   ___    |   | \n",
      "  |PRZ|   |   | \n",
      "--|266|---|   |-\n",
      "  |___|   |___| \n",
      "   ___     ___  \n",
      "  |PRZ|   |PR | \n",
      "--|269|---|271|-\n",
      "  |___|   |   | \n",
      "   ___    |   | \n",
      "  |PRZ|   |   | \n",
      "--|270|---|   |-\n",
      "  |___|   |___| \n",
      "   ___     ___  \n",
      "  |PRZ|   |PR | \n",
      "--|273|---|275|-\n",
      "  |___|   |   | \n",
      "   ___    |   | \n",
      "  |PRZ|   |   | \n",
      "--|274|---|   |-\n",
      "  |___|   |___| \n",
      "   ___     ___  \n",
      "  |PRZ|   |PR | \n",
      "--|277|---|279|-\n",
      "  |___|   |   | \n",
      "   ___    |   | \n",
      "  |PRZ|   |   | \n",
      "--|278|---|   |-\n",
      "  |___|   |___| \n",
      "                \n",
      "                \n",
      "----------------\n",
      "                \n"
     ]
    }
   ],
   "source": [
    "from quri_parts.algo.ansatz import Z2SymmetryPreservingReal\n",
    "from quri_parts.circuit.utils.circuit_drawer import draw_circuit\n",
    "\n",
    "parametric_circuit = Z2SymmetryPreservingReal(n_qubits, 7)\n",
    "draw_circuit(parametric_circuit)"
   ]
  },
  {
   "cell_type": "markdown",
   "id": "94861898",
   "metadata": {},
   "source": [
    "Setting up the parameteric state for the VQE Optimization."
   ]
  },
  {
   "cell_type": "code",
   "execution_count": 216,
   "id": "5eb2fe8c",
   "metadata": {},
   "outputs": [],
   "source": [
    "from quri_parts.core.state import quantum_state, apply_circuit\n",
    "\n",
    "cb_state = quantum_state(n_qubits, bits=0)\n",
    "parametric_state = apply_circuit(parametric_circuit, cb_state)"
   ]
  },
  {
   "cell_type": "markdown",
   "id": "ba8c1f79",
   "metadata": {},
   "source": [
    "We define closures (higher-order functions) that takes the Hamiltonian as the parameter and returns cost and gradient estimators for the VQE optimization. The cost estimator computes the expectation value of the Hamiltonian with respect to the parametric state, while the gradient estimator computes the gradient of the expectation value with respect to the parameters of the parametric state."
   ]
  },
  {
   "cell_type": "code",
   "execution_count": 217,
   "id": "4e7d9f9d",
   "metadata": {},
   "outputs": [],
   "source": [
    "from quri_parts.core.estimator.gradient import create_parameter_shift_gradient_estimator\n",
    "from quri_parts.qulacs.estimator import create_qulacs_vector_concurrent_parametric_estimator, create_qulacs_vector_parametric_estimator\n",
    "\n",
    "\n",
    "estimator = create_qulacs_vector_parametric_estimator()\n",
    "\n",
    "def H_cost_fn(hamiltonian):\n",
    "    def cost_fn(param_values: Sequence[float]):\n",
    "        estimate = estimator(hamiltonian, parametric_state, param_values)\n",
    "        return estimate.value.real\n",
    "    return cost_fn"
   ]
  },
  {
   "cell_type": "code",
   "execution_count": 218,
   "id": "c9f1959f",
   "metadata": {},
   "outputs": [],
   "source": [
    "concurrent_parametric_estimator = create_qulacs_vector_concurrent_parametric_estimator()\n",
    "gradient_estimator = create_parameter_shift_gradient_estimator(concurrent_parametric_estimator)\n",
    "\n",
    "def H_grad_fn(hamiltonian):\n",
    "    def grad_fn(param_values: Sequence[float]) -> Sequence[float]:\n",
    "        estimate = gradient_estimator(hamiltonian, parametric_state, param_values)\n",
    "        return np.asarray([g.real for g in estimate.values])\n",
    "    return grad_fn"
   ]
  },
  {
   "cell_type": "markdown",
   "id": "7d6c63ba",
   "metadata": {},
   "source": [
    "Setting up the VQE optimization loop."
   ]
  },
  {
   "cell_type": "code",
   "execution_count": 75,
   "id": "3c111794",
   "metadata": {},
   "outputs": [],
   "source": [
    "from quri_parts.algo.optimizer import Adam, OptimizerStatus\n",
    "\n",
    "def vqe(\n",
    "    init_params: Sequence[float],\n",
    "    cost_fn,\n",
    "    grad_fn,\n",
    "    optimizer,\n",
    "    hamiltonian\n",
    "):\n",
    "\n",
    "    cost_fn = H_cost_fn(hamiltonian)\n",
    "    grad_fn = H_grad_fn(hamiltonian)\n",
    "\n",
    "    opt_state = optimizer.get_init_state(init_params)\n",
    "    while True:\n",
    "        opt_state = optimizer.step(opt_state, cost_fn, grad_fn)\n",
    "        if opt_state.status == OptimizerStatus.FAILED:\n",
    "            print(\"Optimizer failed\")\n",
    "            break\n",
    "        if opt_state.status == OptimizerStatus.CONVERGED:\n",
    "            print(\"Optimizer converged\")\n",
    "            break\n",
    "    return opt_state"
   ]
  },
  {
   "cell_type": "code",
   "execution_count": 219,
   "id": "7b6c2d2a",
   "metadata": {},
   "outputs": [
    {
     "name": "stdout",
     "output_type": "stream",
     "text": [
      "Optimizer converged\n",
      "Optimized value: -13.950391364532244\n",
      "Optimized parameter: [ 0.70736558  0.48053615  0.84418981  0.40358891  0.09494895  0.88792201\n",
      "  0.20334894  0.36172874  0.02854943  0.55688924  0.14325401  0.18579428\n",
      "  0.88114586  1.22612937  0.22699486  0.24632779 -0.19722183  0.21022044\n",
      "  0.34146882  0.55759545  0.72003076  0.65425888  1.50465412  0.9184075\n",
      "  0.15485146  0.15090107 -0.15629045  0.24899512  1.260525    0.45420649\n",
      "  0.22355148  0.42620163  1.42310764  1.13858022  0.04340455  0.2005506\n",
      "  0.95210587  1.53508937  0.97666041  0.01043898  0.86620536  1.02020328\n",
      "  1.5927295   1.12613882  0.33846658  1.05294299  0.72233456 -0.46697982\n",
      "  0.76181798  0.47055485  0.51413945 -0.15584679  0.10125264  0.27913915\n",
      " -0.0789319   0.52708242 -0.29184704  0.45623595  0.05676062  0.49677566\n",
      "  0.78859331  0.1921365  -0.33610705  0.20746666  1.02850929  0.48738245\n",
      "  0.61561716  0.46759985  0.45323672  0.37021682  0.08773126  0.22105015\n",
      "  0.17441044  0.571826    0.67715525  0.79142819  0.24499405 -0.02907004\n",
      "  0.37864574  0.94469417 -0.25170416  0.08300047  1.10811995  1.15036246\n",
      "  0.35789795  0.6202055   0.55061779  0.47318583  0.38487743  0.80615472\n",
      "  0.89719759  0.6135005  -0.11748467  0.18016797  0.33937847  1.16958364\n",
      "  0.06499568  0.07359777  0.91194726  0.99766858  0.99455426  0.35863635\n",
      "  0.07066117  0.62624638  0.02355852 -0.29520912 -0.00636175  0.08728991\n",
      " -0.11602221  0.51923467  0.35878129  1.32951274  0.62780753  0.62389194\n",
      "  0.9543272   0.68453067 -0.03195957  0.40699493  1.21087554  1.02695092\n",
      "  0.73341514  0.7719074  -0.18441422  0.95160007  1.28348665  1.1795371\n",
      "  0.44062409 -0.28077371  0.54731494  0.79528299  0.39655835  0.66295409\n",
      "  0.72508244  0.17424539  0.75305321  0.2742124  -0.6978602   0.75331762\n",
      "  0.39333979  0.82982566]\n",
      "Iterations: 70\n"
     ]
    }
   ],
   "source": [
    "adam_optimizer = Adam()\n",
    "init_params = np.random.random(parametric_circuit.parameter_count)\n",
    "vqe_state = vqe(init_params, H_cost_fn, H_grad_fn, adam_optimizer, hamiltonian)\n",
    "bound_state = parametric_state.bind_parameters(vqe_state.params)\n",
    "\n",
    "print(\"Optimized value:\", vqe_state.cost)\n",
    "print(\"Optimized parameter:\", vqe_state.params)\n",
    "print(\"Iterations:\", vqe_state.niter)"
   ]
  },
  {
   "cell_type": "markdown",
   "id": "19d3ac06",
   "metadata": {},
   "source": [
    "### **QSCI**"
   ]
  },
  {
   "cell_type": "markdown",
   "id": "f1a1a2c0",
   "metadata": {},
   "source": [
    "Quantum Selected Configuration Interaction (QSCI) is a hybrid quantum-classical algorithms for calculating the ground- and excited-state energies for a given Hamiltonian. It works on top of an approximate ground state estimated using VQE or by some other method. Then, by sampling the state in the computational basis, which is hard for classical computation in general, one can identify the basis states that are important for reproducing the ground state. The Hamiltonian in the subspace spanned by those important configurations is diagonalized on classical computers to output the ground-state energy and the corresponding eigenvector. The excited-state energies can be obtained similarly. The result is robust against statistical and physical errors. For further details, refer to this [notebook](https://github.com/QunaSys/quri-sdk-notebooks/blob/main/quri_sdk_notebooks/examples/0_quri-algo-vm/0_qsci/0_qsci.ipynb) or the [original paper](https://arxiv.org/abs/2302.11320)."
   ]
  },
  {
   "cell_type": "code",
   "execution_count": 223,
   "id": "6725855c",
   "metadata": {},
   "outputs": [],
   "source": [
    "BASIS_STATES = 1000\n",
    "TOTAL_SHOTS = 1000000"
   ]
  },
  {
   "cell_type": "code",
   "execution_count": 224,
   "id": "82b59093",
   "metadata": {},
   "outputs": [],
   "source": [
    "from quri_parts.qulacs.sampler import create_qulacs_vector_concurrent_sampler\n",
    "from quri_parts_qsci import qsci\n",
    "\n",
    "sampler = create_qulacs_vector_concurrent_sampler()\n",
    "eigs, ground_state = qsci(\n",
    "    hamiltonian, [bound_state], sampler, total_shots=TOTAL_SHOTS, num_states_pick_out=BASIS_STATES\n",
    ")"
   ]
  },
  {
   "cell_type": "code",
   "execution_count": 225,
   "id": "ee2b19ef",
   "metadata": {},
   "outputs": [
    {
     "name": "stdout",
     "output_type": "stream",
     "text": [
      "Ground state energy as per QSCI: -14.050027300028702\n",
      "Error (QSCI Ground energy - Actual Ground State energy): 0.0033210666358254315\n"
     ]
    }
   ],
   "source": [
    "print(\"Ground state energy as per QSCI:\", eigs[0])\n",
    "print(\"Error (QSCI Ground energy - Actual Ground State energy):\", np.abs(eigs[0] - np.min(vals)))"
   ]
  },
  {
   "cell_type": "markdown",
   "id": "171a7352",
   "metadata": {},
   "source": [
    "## **Quantum Phase Transition**:\n",
    "\n",
    "Quantum phase transition is defined as the phenomenon where a major re-structuring of the ground state of a Quantum mechanical system occurs as a parameter of the Hamiltonian of the system is varied.\n",
    "\n",
    "In Transverse Field Ising Model between the limits, $h << J$ and $h >> J$, the nature of the ground state changes. When $h >> J$ there are two ground states, with opposite signs of magnetization. When $J >> h$ there is a single ground state with zero magnetization. The transverse Ising model is interesting because it exhibits a second order “quantum phase transition” at a critical value of $\\frac{h}{J}$. Here, a doublet of degenerate ground states, each with nonzero spontaneous magnetization must merge to form a unique ground state with zero magnetization. The quantum phase transition is of “second order” because the ground state energy, as a function of the parameter which is being varied to find the phase transition, has a discontinuous second derivative."
   ]
  },
  {
   "cell_type": "markdown",
   "id": "c4c4aa77",
   "metadata": {},
   "source": [
    "### **Magnetization**\n",
    "\n",
    "The magnetization of the system is the sum of magnetic moment per spin. Here by magnetization we mean the Longitudinal Magnetization along the X-axis.\n",
    "\n",
    "$$\n",
    "M_x = \\langle \\sum_{n=1}^N \\sigma_n^x \\rangle\n",
    "$$"
   ]
  },
  {
   "cell_type": "code",
   "execution_count": 241,
   "id": "a38cafdf",
   "metadata": {},
   "outputs": [],
   "source": [
    "from quri_parts.qulacs.estimator import create_qulacs_vector_estimator\n",
    "qulacs_estimator = create_qulacs_vector_estimator()\n",
    "\n",
    "magnetization_operator = Operator()\n",
    "for i in range(n_qubits):\n",
    "    pauli_index = pauli_label('Z'+str(i))\n",
    "    magnetization_operator.add_term(pauli_index, 1)\n",
    "\n",
    "def calculate_magnetization(quantum_state):\n",
    "    return qulacs_estimator(magnetization_operator, quantum_state)\n",
    "    "
   ]
  },
  {
   "cell_type": "code",
   "execution_count": 242,
   "id": "17ba3034",
   "metadata": {},
   "outputs": [
    {
     "name": "stdout",
     "output_type": "stream",
     "text": [
      "Magnetization for Ground State Obtained: (11+0j)\n"
     ]
    }
   ],
   "source": [
    "print(\"Magnetization for Ground State Obtained:\", calculate_magnetization(ground_state[0][1][0]).value)"
   ]
  },
  {
   "cell_type": "markdown",
   "id": "a764755d",
   "metadata": {},
   "source": [
    "### Correlation Length and Divergence at Critical point\n",
    "\n",
    "The *Correlation length* of a Quantum many body system quantifies how spins at different lattice sites are correlated for the ground state. For the *Transverse Field Ising Model (TFIM)*, it is defined as:\n",
    "\n",
    "$$\n",
    "C(r) = \\langle \\sigma_i^x \\sigma_{i+r}^x \\rangle - \\langle \\sigma_i^x \\rangle \\langle \\sigma_{i+r}^x \\rangle,\n",
    "$$\n",
    "\n",
    "where $r = |i - j|$ is the distance between spins. The *correlation length* $\\xi$ is the characteristic length scale over which these correlations decay."
   ]
  },
  {
   "cell_type": "code",
   "execution_count": null,
   "id": "9b562373",
   "metadata": {},
   "outputs": [],
   "source": [
    "def C_r(quantum_state, r):\n",
    "    pair_corr_operator = Operator()\n",
    "    for i in range(n_qubits):\n",
    "        if i+r >= n_qubits:\n",
    "            break\n",
    "        pauli_index = pauli_label('X'+str(i)+' X'+str(i+r))\n",
    "        pair_corr_operator.add_term(pauli_index, 1)  \n",
    "\n",
    "    normal_corr_operator = Operator()\n",
    "    for i in range(n_qubits):\n",
    "        pauli_index = pauli_label('X'+str(i))\n",
    "        normal_corr_operator.add_term(pauli_index, 1) \n",
    "\n",
    "    shifted_corr_operator = Operator()\n",
    "    for i in range(n_qubits):\n",
    "            if i+r >= n_qubits:\n",
    "                break   \n",
    "            pauli_index = pauli_label('X'+str(i+r))\n",
    "            shifted_corr_operator.add_term(pauli_index, 1)\n",
    "\n",
    "    return (\n",
    "        qulacs_estimator(pair_corr_operator, quantum_state).value - \n",
    "        qulacs_estimator(normal_corr_operator, quantum_state).value * qulacs_estimator(shifted_corr_operator, quantum_state).value\n",
    "    )/n_qubits"
   ]
  },
  {
   "cell_type": "code",
   "execution_count": 229,
   "id": "6754dcdc",
   "metadata": {},
   "outputs": [
    {
     "data": {
      "text/plain": [
       "[<matplotlib.lines.Line2D at 0x147b2edb0>]"
      ]
     },
     "execution_count": 229,
     "metadata": {},
     "output_type": "execute_result"
    },
    {
     "data": {
      "image/png": "[encoded data removed]",
      "text/plain": [
       "<Figure size 640x480 with 1 Axes>"
      ]
     },
     "metadata": {},
     "output_type": "display_data"
    }
   ],
   "source": [
    "r = np.arange(1, n_qubits)\n",
    "correlation = []\n",
    "\n",
    "for i in r:\n",
    "    correlation.append(C_r(bound_state, i))\n",
    "\n",
    "plt.xlabel('Distance (r)')\n",
    "plt.ylabel('Correlation C(r)')\n",
    "plt.plot(r, np.real(correlation))"
   ]
  },
  {
   "cell_type": "markdown",
   "id": "ce115429",
   "metadata": {},
   "source": [
    "Fitting the correlation function to an exponential decay form:\n",
    "$$\n",
    "C(r) \\sim e^{-r/\\xi},\n",
    "$$\n",
    "the correlation length $\\xi$ can be extracted from the decay rate. Near the critical point, the correlation length diverges, indicating long-range correlations in the system."
   ]
  },
  {
   "cell_type": "code",
   "execution_count": 230,
   "id": "b6b14ffa",
   "metadata": {},
   "outputs": [
    {
     "name": "stdout",
     "output_type": "stream",
     "text": [
      "The correlation length ξ is: 3.729359692085465\n"
     ]
    }
   ],
   "source": [
    "from scipy.optimize import curve_fit\n",
    "\n",
    "def exp_decay(r, xi): \n",
    "    return np.exp(-r/xi)\n",
    "\n",
    "popt, _ = curve_fit(exp_decay, r, np.real(correlation))\n",
    "print(\"The correlation length ξ is:\", popt[0])\n"
   ]
  },
  {
   "cell_type": "markdown",
   "id": "c56f0b37",
   "metadata": {},
   "source": [
    "Now we will be calculating the correlation length for the Transverse Field Ising Model using the VQE optimized ground state wavefunction further improved using QSCI for different values of h i.e. different J/h ratios. The correlation length should diverge at the critical point, which is a characteristic feature of quantum phase transitions."
   ]
  },
  {
   "cell_type": "code",
   "execution_count": 233,
   "id": "ad0ec577",
   "metadata": {},
   "outputs": [
    {
     "name": "stdout",
     "output_type": "stream",
     "text": [
      "Optimizer converged\n",
      "Optimizer converged\n",
      "Optimizer converged\n",
      "Optimizer converged\n",
      "Optimizer converged\n",
      "Optimizer converged\n",
      "Optimizer converged\n",
      "Optimizer converged\n",
      "Optimizer converged\n",
      "Optimizer converged\n",
      "Optimizer converged\n",
      "Optimizer converged\n",
      "Optimizer converged\n",
      "Optimizer converged\n",
      "Optimizer converged\n"
     ]
    }
   ],
   "source": [
    "h = np.linspace(0.95, 1.05, 15)\n",
    "correlation_len = []\n",
    "\n",
    "for i in h:\n",
    "    # Initializing the Hamiltonian Operator\n",
    "    hamiltonian = construct_TFIM_hamiltonian(J, i, n_qubits)\n",
    "    \n",
    "    # VQE Optimization\n",
    "    vqe_state = vqe(vqe_state.params, H_cost_fn, H_grad_fn, adam_optimizer, hamiltonian)\n",
    "    state = parametric_state.bind_parameters(vqe_state.params)\n",
    "    eigs, ground_state = qsci(\n",
    "        hamiltonian, [state], sampler, total_shots=TOTAL_SHOTS, num_states_pick_out=BASIS_STATES\n",
    "    )\n",
    "    zero_eigvec = ground_state[0][1][0]\n",
    "\n",
    "    # Computing the C(r) curve\n",
    "    correlation = []\n",
    "    for i in range(1, n_qubits):\n",
    "        correlation.append(C_r(zero_eigvec, i))\n",
    "\n",
    "    #Fitting to exponential decay curve\n",
    "    popt, _ = curve_fit(exp_decay, r, np.real(correlation))\n",
    "    correlation_len.append(popt[0])\n"
   ]
  },
  {
   "cell_type": "code",
   "execution_count": 210,
   "id": "e499e653",
   "metadata": {},
   "outputs": [
    {
     "data": {
      "text/plain": [
       "[<matplotlib.lines.Line2D at 0x1670cb4d0>]"
      ]
     },
     "execution_count": 210,
     "metadata": {},
     "output_type": "execute_result"
    },
    {
     "data": {
      "image/png": "[encoded data removed]",
      "text/plain": [
       "<Figure size 640x480 with 1 Axes>"
      ]
     },
     "metadata": {},
     "output_type": "display_data"
    }
   ],
   "source": [
    "plt.title('Correlation length (ξ) vs h/J')\n",
    "plt.xlabel('h/J')\n",
    "plt.ylabel('Correlation length ξ')\n",
    "plt.plot(h, correlation_len)"
   ]
  },
  {
   "cell_type": "markdown",
   "id": "c911e54e",
   "metadata": {},
   "source": [
    "#### Magntic Susceptibility\n",
    "\n",
    "The *magnetic susceptibility* $\\chi$ is a measure of how the magnetization of a system responds to an external magnetic field. It is defined as:\n",
    "$$\n",
    "\\chi = \\frac{\\partial M}{\\partial h}\n",
    "$$\n",
    "where $M$ is the magnetization and $h$ is the transverse field. The magnetic susceptibility diverges at the critical point, indicating a phase transition."
   ]
  },
  {
   "cell_type": "code",
   "execution_count": 235,
   "id": "6ef17d12",
   "metadata": {},
   "outputs": [
    {
     "name": "stdout",
     "output_type": "stream",
     "text": [
      "Optimizer converged\n",
      "Optimizer converged\n",
      "Optimizer converged\n",
      "Optimizer converged\n",
      "Optimizer converged\n",
      "Optimizer converged\n",
      "Optimizer converged\n",
      "Optimizer converged\n",
      "Optimizer converged\n",
      "Optimizer converged\n"
     ]
    }
   ],
   "source": [
    "magnetization = []\n",
    "h = np.linspace(0.95, 1.05, 10)\n",
    "\n",
    "for i in h:\n",
    "    hamiltonian = construct_TFIM_hamiltonian(J, i, n_qubits)\n",
    "    vqe_state = vqe(vqe_state.params, H_cost_fn, H_grad_fn, adam_optimizer, hamiltonian)\n",
    "    state = parametric_state.bind_parameters(vqe_state.params)\n",
    "    eigs, ground_state = qsci(\n",
    "        hamiltonian, [state], sampler, total_shots=TOTAL_SHOTS, num_states_pick_out=BASIS_STATES\n",
    "    )\n",
    "    zero_eigvec = ground_state[0][1][0]\n",
    "\n",
    "    magnetization.append(calculate_magnetization(zero_eigvec).value)"
   ]
  },
  {
   "cell_type": "code",
   "execution_count": 236,
   "id": "e746f126",
   "metadata": {},
   "outputs": [
    {
     "data": {
      "text/plain": [
       "[<matplotlib.lines.Line2D at 0x16771e1b0>]"
      ]
     },
     "execution_count": 236,
     "metadata": {},
     "output_type": "execute_result"
    },
    {
     "data": {
      "image/png": "[encoded data removed]",
      "text/plain": [
       "<Figure size 640x480 with 1 Axes>"
      ]
     },
     "metadata": {},
     "output_type": "display_data"
    }
   ],
   "source": [
    "plt.plot(h, np.abs(magnetization))"
   ]
  },
  {
   "cell_type": "code",
   "execution_count": 237,
   "id": "38a7db09",
   "metadata": {},
   "outputs": [
    {
     "data": {
      "text/plain": [
       "[<matplotlib.lines.Line2D at 0x16225fc20>]"
      ]
     },
     "execution_count": 237,
     "metadata": {},
     "output_type": "execute_result"
    },
    {
     "data": {
      "image/png": "[encoded data removed]",
      "text/plain": [
       "<Figure size 640x480 with 1 Axes>"
      ]
     },
     "metadata": {},
     "output_type": "display_data"
    }
   ],
   "source": [
    "\n",
    "plt.plot(h, np.gradient(np.abs(magnetization), h[1] - h[0]))"
   ]
  },
  {
   "cell_type": "markdown",
   "id": "34e8fd3c",
   "metadata": {},
   "source": [
    "### **Exact Solution via Jordan-Wigner Transformation**  \n",
    "\n",
    "Jordan-Wigner transformation maps qubits to fermions and vice versa, allowing us to express the TFIM Hamiltonian in terms of fermionic operators. This transformation is crucial for diagonalizing the Hamiltonian and finding the exact ground state energy.\n",
    "\n",
    "#### *Map spins to fermions:*  \n",
    "$$\n",
    "a_n = \\sigma_n^- \\prod_{m=1}^{n-1} (-\\sigma_m^z), \\quad \n",
    "a_n^\\dagger = \\sigma_n^+ \\prod_{m=1}^{n-1} (-\\sigma_m^z)\n",
    "$$\n",
    "\n",
    "where $\\sigma_n^{\\pm} = \\frac{1}{2}(\\sigma_n^x \\pm i\\sigma_n^y)$. The string operator $\\prod_{m=1}^{n-1} (-\\sigma_m^z)$ ensures fermionic anti-commutation relations:\n",
    "\n",
    "$$\n",
    "\\{a_m, a_n^\\dagger\\} = \\delta_{mn}, \\quad \\{a_m, a_n\\} = 0.\n",
    "$$\n",
    "\n",
    "Inverse relations:\n",
    "  $$\n",
    "  \\sigma_n^z = 1 - 2a_n^\\dagger a_n, \\quad\n",
    "  \\sigma_n^x = (a_n^\\dagger + a_n) \\prod_{m=1}^{n-1} (1 - 2a_m^\\dagger a_m)\n",
    "  $$\n",
    "\n",
    "\n",
    "#### *Hamiltonian in Fermionic Terms*:  \n",
    "Substituting into the TFIM Hamiltonian $H = -J\\sum_{n=1}^{N} \\sigma_n^z \\sigma_{n+1}^z - h\\sum_{n=1}^N \\sigma_n^x$:\n",
    "\n",
    "$$\n",
    "H = J\\sum_{n=1}^{N} (a_n^\\dagger - a_n)(a_{n+1}^\\dagger + a_{n+1}) + h\\sum_{n=1}^N (1 - 2a_n^\\dagger a_n)\n",
    "$$\n",
    "\n",
    "This represents:\n",
    "- **Pairing terms**: $(a_n^\\dagger a_{n+1}^\\dagger - a_n a_{n+1} + \\text{h.c.})$\n",
    "- **Hopping terms**: $(a_n^\\dagger a_{n+1} + a_{n+1}^\\dagger a_n)$\n",
    "- **On-site potential**: $h(1 - 2a_n^\\dagger a_n)$\n",
    "\n",
    "#### *Diagonalization via Fourier and Bogoliubov Transforms*\n",
    "Diagonalized Hamiltonian:\n",
    "$$\n",
    "H = \\sum_k \\epsilon_k \\left( \\gamma_k^\\dagger \\gamma_k - \\frac{1}{2} \\right)\n",
    "$$\n",
    "\n",
    "where $\\gamma_k = u_k a_k - iv_k a_{-k}^\\dagger, \\quad |u_k|^2 + |v_k|^2 = 1$. And $u_k = \\cos\\theta_k$, $v_k = \\sin\\theta_k$ with $\\tan(2\\theta_k) = \\frac{J \\sin k}{h - J \\cos k}$.\n",
    "\n",
    "#### *Energy Spectrum and Quantum Phase Transition*\n",
    "Dispersion Relation\n",
    "$$\n",
    "\\epsilon_k = 2\\sqrt{h^2 + J^2 - 2hJ \\cos k}\n",
    "$$\n",
    "\n",
    "Energy Gap\n",
    "$$\n",
    "\\Delta = \\min_k \\epsilon_k = 2|J - h|\n",
    "$$\n",
    "\n",
    "| **Phase**          | **Condition** | **Gap** | **Order Parameter**       |\n",
    "|--------------------|---------------|---------|---------------------------|\n",
    "| Ferromagnetic (FM) | $h < J$       | $2(J-h)$| $\\langle \\sigma^z \\rangle \\neq 0$ |\n",
    "| Paramagnetic (PM)  | $h > J$       | $2(h-J)$| $\\langle \\sigma^z \\rangle = 0$    |\n",
    "| **Critical Point** | $h = J$       | 0       | Conformal field theory    |\n",
    "\n",
    "At criticality ($h = J$), the dispersion becomes linear: $\\epsilon_k \\approx 2J|k|$ for $k \\approx 0$.\n",
    "\n",
    "\n",
    "#### *Critical Exponents*\n",
    "From exact solution:\n",
    "\n",
    "| Exponent | Value | Definition                     |\n",
    "|----------|-------|--------------------------------|\n",
    "| $\\nu$    | 1     | $\\xi \\approx |h-J|^{-\\nu}$         |\n",
    "| $\\beta$  | 1/8   | $\\langle \\sigma^z \\rangle \\approx |J-h|^\\beta$ |\n",
    "| $\\gamma$ | 7/4   | $\\chi \\approx |h-J|^{-\\gamma}$       |\n",
    "\n",
    "Matching the 2D classical Ising universality class."
   ]
  },
  {
   "cell_type": "markdown",
   "id": "3ac2d95d",
   "metadata": {},
   "source": [
    "---\n",
    "## **Reference*:*\n",
    "\n",
    "[TFIM Tutorial](https://phas.ubc.ca/~seme/516/smtutorial2.pdf)"
   ]
  },
  {
   "cell_type": "markdown",
   "id": "24feac59",
   "metadata": {},
   "source": [
    "## **Applications of TFIM**"
   ]
  },
  {
   "cell_type": "markdown",
   "id": "a5ee4126",
   "metadata": {},
   "source": [
    "### 1. Quantum Annealing\n",
    "**Mechanism**:  \n",
    "The TFIM Hamiltonian is used as a \"driver\" in adiabatic quantum computing. As explained previously, the solution to many NP-hard problems can be mapped to the ground state of the Ising model. The TFIM Hamiltonian can then be evolved using quantum annealing, where the system is evolved from an initial Hamiltonian to a final Hamiltonian that encodes the optimization problem.  \n",
    "$$\n",
    "H(t) = A(t) H_{\\text{driver}} + B(t) H_{\\text{problem}}\n",
    "$$\n",
    "\n",
    "where:\n",
    "\n",
    "- $H_{\\text{driver}} = -\\sum_{n} \\sigma_n^x$ is the driver Hamiltonian, which is chosen because its ground state is easy to prepare (a uniform superposition of all states in the computational basis).\n",
    "\n",
    "- $H_{\\text{problem}} = -\\sum_{n} J_{n,n+1} \\sigma_n^z \\sigma_{n+1}^z - \\sum_n h_n \\sigma_n^z$ encodes the optimization problem we wish to solve. The ground state of $H_{\\text{problem}}$ is the solution to the optimization problem.\n",
    "\n",
    "The functions $A(t)$ and $B(t)$ are designed such that:\n",
    "\n",
    "- At $t=0$, $A(0)$ is large and $B(0)=0$. The system starts in the ground state of $H_{\\text{driver}}$, which is $|\\psi(0)\\rangle = |+\\rangle^{\\otimes N}$.\n",
    "\n",
    "- At $t=T$ (the final time), $A(T)=0$ and $B(T)$ is large. The system should then be in the ground state of $H_{\\text{problem}}$, provided the evolution is adiabatic (i.e., slow enough to avoid transitions to excited states).\n",
    "\n",
    "- The adiabatic theorem states that if the evolution is sufficiently slow, the system remains in the ground state of the instantaneous Hamiltonian throughout the process. The required time $T$ depends on the minimum energy gap between the ground state and the first excited state of $H(t)$.\n",
    "\n",
    "**Example: MAX-CUT Problem**:\n",
    "\n",
    "The MAX-CUT problem is a classic NP-hard problem. Given an undirected graph $G=(V,E)$, the goal is to partition the vertices into two sets such that the number of edges between the sets is maximized.\n",
    "\n",
    "*Mapping to TFIM*:\n",
    "\n",
    "For each vertex $i \\in V$, assign a spin variable $\\sigma_i^z = \\pm 1$ (depending which of the two sets they belong to).\n",
    "\n",
    "$$\n",
    "\\text{CUT} = \\frac{1}{2} \\sum_{\\langle i,j\\rangle \\in E} (1 - \\sigma_i^z \\sigma_j^z)\n",
    "$$\n",
    "\n",
    "Only if $\\sigma_i^z \\sigma_j^z$ have different spins i.e. they are in different sets, they contribute to the cut.The Hamiltonian that has the maximum cut as its ground state is:\n",
    "\n",
    "$$\n",
    "H_{\\text{problem}} = \\sum_{\\langle i,j\\rangle \\in E} \\sigma_i^z \\sigma_j^z\n",
    "$$\n",
    "\n",
    "Note: The ground state of $H_{\\text{problem}}$ minimizes the sum of $\\sigma_i^z \\sigma_j^z$, which maximizes the cut. Also the Ising model involved is a 2D Ising model, the hamiltonian for which can be constructed in a similar way as the TFIM Hamiltonian.\n",
    "\n",
    "---"
   ]
  },
  {
   "cell_type": "markdown",
   "id": "45aca783",
   "metadata": {},
   "source": [
    "### 2. Material Realization (CoNb₂O₆)\n",
    "\n",
    "CoNb₂O₆ (cobalt niobate) is a material that realizes a one-dimensional transverse field Ising model. It consists of chains of Co²⁺ ions with effective spin-1/2 moments.\n",
    "\n",
    "**Spin Chain Behavior**:\n",
    "\n",
    "- The spins are coupled ferromagnetically along the chains via Ising interactions (along the z-axis) and are subject to a transverse magnetic field (along the x-axis). The Hamiltonian is:\n",
    "\n",
    "$$\n",
    "H = -J \\sum_{n} \\sigma_n^z \\sigma_{n+1}^z - h \\sum_{n} \\sigma_n^x\n",
    "$$\n",
    "\n",
    "where $J>0$ is the ferromagnetic coupling and $h$ is the transverse field strength.\n",
    "\n",
    "**Neutron Scattering Experiments**:\n",
    "\n",
    "- Neutron scattering measures the dynamic structure factor, which reveals the excitation spectrum of the system. The dispersion relation for the TFIM is:\n",
    "\n",
    "$$\n",
    "\\omega(k) = 2\\sqrt{(J - h)^2 + 4Jh \\sin^2(k/2)}\n",
    "$$\n",
    "\n",
    "This formula is derived from the exact solution of the TFIM using the Jordan-Wigner transformation. The experiments on CoNb₂O₆ have confirmed this dispersion relation, validating the model.\n",
    "\n",
    "**Phase Transition**:\n",
    "\n",
    "- At zero temperature, the system undergoes a quantum phase transition at $h_c = J$ (in units where $\\hbar=1$).\n",
    "\n",
    "- For $h < h_c$, the system is in the ferromagnetic phase with long-range order along the z-axis (spontaneous magnetization $m_z \\neq 0$).\n",
    "\n",
    "- For $h > h_c$, the system is in the paramagnetic phase where the magnetization along z vanishes ($m_z=0$) and the spins are aligned along the x-axis due to the transverse field.\n",
    "\n",
    "- The critical point $h_c = J$ is characterized by the closing of the energy gap at momentum $k=\\pi$. At $h=h_c$, the dispersion becomes linear at $k=\\pi$ (i.e., relativistic dispersion), and the system is described by a conformal field theory (Ising CFT). In CoNb₂O₆, the critical field $h_c$ is found to be approximately 1.5 Tesla. At this field, the magnetization along the z-axis vanishes, and the excitation gap closes\n",
    "\n",
    "**Beyond the Linear Chain**:\n",
    "\n",
    "- CoNb₂O₆ has weakly coupled chains. At very low temperatures, three-dimensional ordering occurs, but the one-dimensional TFIM behavior is observed above the ordering temperature.\n",
    "\n",
    "Effectively many materials can be mapped to the TFIM Hamiltonian (and higher dimensional Ising Models), and the CoNb₂O₆ is one of the most studied materials that realizes the TFIM in a real physical system. The experimental results on CoNb₂O₆ have provided strong evidence for the validity of the TFIM as a model for quantum phase transitions in real materials.\n",
    "\n",
    "---"
   ]
  },
  {
   "cell_type": "markdown",
   "id": "36cd0b9e",
   "metadata": {},
   "source": [
    "### 3. Topological Edge States (Kitaev Chain)\n",
    "\n",
    "The Kitaev chain is a one-dimensional model of spinless fermions that exhibits topological superconductivity and Majorana zero modes. It can be mapped to the transverse field Ising model.\n",
    "\n",
    "**Mapping to Majorana Fermions**:\n",
    "\n",
    "- Consider a chain of $N$ sites with spinless fermions described by creation and annihilation operators $c_n^\\dagger, c_n$. The Kitaev Hamiltonian is:\n",
    "\n",
    "$$\n",
    "H = -\\mu \\sum_{n=1}^N c_n^\\dagger c_n - \\sum_{n=1}^{N-1} \\left( t c_n^\\dagger c_{n+1} + \\Delta c_n c_{n+1} + \\text{H.c.} \\right)\n",
    "$$\n",
    "\n",
    "where $\\mu$ is the chemical potential, $t$ is the hopping amplitude, and $\\Delta$ is the superconducting pairing amplitude.\n",
    "\n",
    "- Using the Jordan-Wigner transformation, we can map the TFIM to the Kitaev chain. Specifically, the TFIM Hamiltonian:\n",
    "\n",
    "$$\n",
    "H = -J \\sum_{n=1}^{N-1} \\sigma_n^z \\sigma_{n+1}^z - h \\sum_{n=1}^N \\sigma_n^x\n",
    "$$\n",
    "\n",
    "maps to the Kitaev chain with $\\mu = 2h$, $t = J$, and $\\Delta = J$ (after appropriate transformations).\n",
    "\n",
    "**Majorana Representation**:\n",
    "\n",
    "- Rewrite each fermion operator as two Majorana fermions:\n",
    "\n",
    "$$\n",
    "\\gamma_{2n-1} = c_n + c_n^\\dagger, \\quad \\gamma_{2n} = i(c_n^\\dagger - c_n)\n",
    "$$\n",
    "\n",
    "These operators satisfy $\\{\\gamma_i, \\gamma_j\\} = 2\\delta_{ij}$ and $\\gamma_i^\\dagger = \\gamma_i$ (they are Hermitian).\n",
    "\n",
    "- In terms of Majorana operators, the Kitaev Hamiltonian becomes:\n",
    "\n",
    "$$\n",
    "H = -\\mu \\sum_{n=1}^N \\left(\\frac{i}{2}\\gamma_{2n-1}\\gamma_{2n}\\right) - \\frac{i}{2} \\sum_{n=1}^{N-1} \\left[ (t + \\Delta) \\gamma_{2n} \\gamma_{2n+1} + (-t + \\Delta) \\gamma_{2n-1} \\gamma_{2n+2} \\right]\n",
    "$$\n",
    "\n",
    "For the special case $t=|\\Delta|$ and $\\mu=0$, the Hamiltonian simplifies to:\n",
    "\n",
    "$$\n",
    "H = -iJ \\sum_{n=1}^{N-1} \\gamma_{2n} \\gamma_{2n+1}\n",
    "$$\n",
    "\n",
    "**Edge Modes**:\n",
    "\n",
    "- In the topological phase ($\\mu < 2t$ and $\\Delta \\neq 0$), the Majorana operators at the ends of the chain, $\\gamma_1$ and $\\gamma_{2N}$, do not appear in the Hamiltonian. They are zero-energy modes that are decoupled from the bulk.\n",
    "\n",
    "- The presence of these unpaired Majorana modes leads to a degenerate ground state. The two ground states are distinguished by the fermion parity:\n",
    "\n",
    "$$\n",
    "\n",
    "|\\psi_0\\rangle = \\frac{1}{\\sqrt{2}} (|0\\rangle + |1\\rangle), \\quad |\\psi_1\\rangle = \\frac{1}{\\sqrt{2}} (|0\\rangle - |1\\rangle)\n",
    "\n",
    "$$\n",
    "\n",
    "where $|0\\rangle$ and $|1\\rangle$ are states with even and odd fermion parity, respectively.\n",
    "\n",
    "**Robust Qubits**:\n",
    "\n",
    "- The degenerate ground state subspace can be used to encode a qubit. The information is stored non-locally (in the two edge modes), making it robust against local perturbations (a key feature for topological quantum computing).\n",
    "\n",
    "- Quantum operations are performed by braiding Majorana modes (exchanging their positions in space), which is topologically protected."
   ]
  },
  {
   "cell_type": "markdown",
   "id": "6f9bbbea",
   "metadata": {},
   "source": []
  }
 ],
 "metadata": {
  "kernelspec": {
   "display_name": "qiskit",
   "language": "python",
   "name": "python3"
  },
  "language_info": {
   "codemirror_mode": {
    "name": "ipython",
    "version": 3
   },
   "file_extension": ".py",
   "mimetype": "text/x-python",
   "name": "python",
   "nbconvert_exporter": "python",
   "pygments_lexer": "ipython3",
   "version": "3.12.8"
  }
 },
 "nbformat": 4,
 "nbformat_minor": 5
}
