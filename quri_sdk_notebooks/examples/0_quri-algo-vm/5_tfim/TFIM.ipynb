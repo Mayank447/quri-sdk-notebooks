{
  "cells": [
    {
      "cell_type": "markdown",
      "id": "cafbce7b",
      "metadata": {},
      "source": [
        "# **Transverse Field Ising Model**"
      ]
    },
    {
      "cell_type": "markdown",
      "id": "982b234a",
      "metadata": {},
      "source": [
        "## Index\n",
        "\n",
        "- [Transverse Field Ising Model](#transverse-field-ising-model)\n",
        "    - [Introduction](#introduction)\n",
        "    - [Ground States and Symmetry](#ground-states-and-symmetry)\n",
        "    - [Setting up the Hamiltonian](#setting-up-the-qubithamiltonian-in-quri)\n",
        "- [VQE Optimization](#vqe-optimization)\n",
        "    - [Cost and Gradient Estimators](#cost-function-and-gradient-estimator)\n",
        "    - [Setting up VQE Optimization loop](#setting-up-vqe-optimization-loop)\n",
        "    - [Benchmarking with different Ansatz](#benchmarking-with-different-ansatz)\n",
        "- [Statistical Phase Estimation](#statistical-phase-estimation-spe)\n",
        "    - [Picking the Trial State](#trial-state)\n",
        "    - [Hadamard Test](#hadamard-test)\n",
        "    - [Qubit Hamiltonian and Trotterization](#qubit-hamiltonian-and-trotterization)\n",
        "    - [LT22](#lt22)\n",
        "- [QSCI](#qsci)\n",
        "- [Quantum Phase Transition](#quantum-phase-transition)\n",
        "    - [Magnetization](#magnetization)\n",
        "    - [Correlation Length](#correlation-length-and-divergence-at-critical-point)\n",
        "    - [Magnetic Susceptibility](#magnetic-susceptibility)\n",
        "- [Reference](#reference)"
      ]
    },
    {
      "cell_type": "markdown",
      "id": "ae0d7881",
      "metadata": {},
      "source": [
        "*The goal of this tutorial will be to implement Transverse Field Ising Models (TFIM) using QURI-SDK. We will approximate the ground state of the TFIM Hamiltonian using VQE and further improving it using SPE, QSCI. Finally we will calculate the magnetization, magentic susceptibiluty, Correlation length and show divergence at the critical point (Quantum Phase Transition) which are relevant to Condensed Matter Physicist.*"
      ]
    },
    {
      "cell_type": "markdown",
      "id": "0673060f",
      "metadata": {},
      "source": [
        "## Introduction"
      ]
    },
    {
      "cell_type": "markdown",
      "id": "a261131f",
      "metadata": {},
      "source": [
        "Ising Model is a theoretical model to describe ferromagnetism in solids. It simplifies the complex properties of solids by assuming only nearest neighbor interaction between lattice sites and allowing only two opposite pointing orientations of each lattice site’s magnetic moment. Physically it's the opposite of an Ideal gas, as the particles are fixed but can interact compared to non-interacting moving particles in the Ideal gas. For details, see [Ising model](https://www.thphys.uni-heidelberg.de/~wolschin/statsem20_3s.pdf).\n",
        "\n",
        "From a Computer Science perspective, NP-hard problems, including all of Karp's 21 NP-complete problems can be mapped to the Ising model with a polynomial overhead. Thus, any NP-hard problem can be reduced to finding the ground state of the Ising model. For further reference, look at [Ising formulations of NP-Complete problems](https://www.frontiersin.org/journals/physics/articles/10.3389/fphy.2014.00005/full).\n",
        "\n",
        "Over time, Ising models have been applied to various other fields such as *Machine Learning (Hopfield networks)*, *Biology (Protein folding)*, and *Physics (Quantum phase transitions)*. The **Transverse Field Ising Model (TFIM)** is a quantum version of the Ising model, where spins are replaced by qubits and the interaction between spins is modified by a transverse magnetic field. This model is used to study quantum phase transitions and has applications in Quantum Computing and Condensed Matter Physics."
      ]
    },
    {
      "cell_type": "markdown",
      "id": "7f276a14",
      "metadata": {},
      "source": [
        "\n",
        "The Hamiltonian of the Transverse Field Ising Model is given by:\n",
        "\n",
        "$$H = -J\\sum_{i=1}^{N} X_i X_{i+1} - h\\sum_{i=1}^N Z_i$$\n",
        "\n",
        "- *$X$:* The Pauli $\\sigma_x$ matrix (for spin measurement)\n",
        "- *$Z$:* The Pauli $\\sigma_z$ matrix (for transverse field) \n",
        "- *Ferromagnetic coupling ($J$)*: Favors alignment of neighboring spins along X.  \n",
        "- *Transverse field ($h$)*: Induces quantum fluctuations, polarizing spins along J.\n",
        "- The boundary condition is periodic, meaning the last spin interacts with the first spin.\n",
        "\n",
        "**Note:** In most references, the Hamiltonian will have Pauli matrices in the opposite order, i.e., $H = -J\\sum_{i=1}^{N-1} Z_{i+1} Z_i - h\\sum_{i=1}^N X_i$. This is due to the convention of defining the spin along Z axis in Condensed Matter Physics. The reason we switch Pauli X and Z is due to the Z2 ansatz we will be using for the VQE. Everything else remains the same, if you are doing any calculation wrt to the standard TFIM Hamiltonian, just switch the Pauli matrices."
      ]
    },
    {
      "cell_type": "markdown",
      "id": "384e309e",
      "metadata": {},
      "source": [
        "### Ground States and Symmetry\n",
        "\n",
        "##### *h >> J (Paramagnetic Phase):* \n",
        "When h is much larger than J, the spins tend to align along the Z-axis, leading to magnetization in the Z direction (ferromagnetic phase). Thus, the two degenerate ground states are:\n",
        "$$\n",
        "|\\psi^{0+}\\rangle = \\otimes_{n=1}^N | \\uparrow \\rangle_n, \\quad |\\psi^{0-}\\rangle = \\otimes_{n=1}^N | \\downarrow \\rangle_n\n",
        "$$  \n",
        "These exhibit non-zero magnetization $M =\\pm N$, where $N$ is the number of spins.\n",
        "\n",
        "##### *J >> h (Ferromagnetic Phase):* \n",
        "When J is much larger than h, the spins are polarized along the X-axis, leading to disordered state. \n",
        "Here Magnetization M = 0 and $\\mathbf{Z}_2$ symmetry is preserved. The unique symmetric ground state is:\n",
        "$$\n",
        "|\\psi^{0\\to}\\rangle = \\bigotimes_{n=1}^N \\frac{1}{\\sqrt{2}} \\left( | \\uparrow \\rangle_n + | \\downarrow \\rangle_n \\right) = \\otimes_{n=1}^N | \\rightarrow \\rangle_n\n",
        "$$\n",
        "\n",
        "The $\\mathbb{Z}_2$ symmetry corresponds to a *global spin-flip* operation:\n",
        "$ G = \\otimes_i \\sigma_i^z, $\n",
        "which satisfies $G^2 = 1$, forming the cyclic group $\\mathbb{Z}_2$.\n",
        "\n",
        "Interaction term $\\sigma_i^x \\sigma_j^x$:\n",
        "  $\\quad G (\\sigma_i^x \\sigma_j^x) G^{-1} = \\sigma_i^x \\sigma_j^x \\quad (\\text{invariant}).$\n",
        "\n",
        "Transverse field term $\\sigma_i^x$:\n",
        "  $\\quad G (\\sigma_i^z) G^{-1} = \\sigma_i^z \\quad (\\text{invariant}).$\n",
        "\n",
        "The Hamiltonian $H$ is invariant under $G$, confirming $\\mathbb{Z}_2$ symmetry."
      ]
    },
    {
      "cell_type": "markdown",
      "id": "6ee2dd26",
      "metadata": {},
      "source": [
        "### Setting up the QubitHamiltonian in QURI"
      ]
    },
    {
      "cell_type": "code",
      "execution_count": null,
      "id": "a4c838d2",
      "metadata": {},
      "outputs": [],
      "source": [
        "import numpy as np\n",
        "import matplotlib.pyplot as plt\n",
        "from typing import Sequence\n",
        "from quri_parts.core.operator import Operator, pauli_label, get_sparse_matrix\n",
        "\n",
        "def construct_TFIM_hamiltonian(J, h, n_qubits):\n",
        "    hamiltonian = Operator()\n",
        "\n",
        "    # Add Ising interaction terms (-J Σ X_i X_{i+1}) (Assuming periodic boundary conditions)\n",
        "    for i in range(n_qubits):\n",
        "        pauli_index = pauli_label('X'+str(i)+' X'+str((i+1)%n_qubits))\n",
        "        hamiltonian.add_term(pauli_index, -J)\n",
        "\n",
        "    # Add transverse field terms (-h Σ Z_i)\n",
        "    for i in range(n_qubits):\n",
        "        pauli_index = pauli_label('Z'+str(i))\n",
        "        hamiltonian.add_term(pauli_index, -h)\n",
        "\n",
        "    return hamiltonian"
      ]
    },
    {
      "cell_type": "code",
      "execution_count": null,
      "id": "64648346",
      "metadata": {},
      "outputs": [],
      "source": [
        "# Parameters\n",
        "n_qubits = 12       # Number of spins/qubits\n",
        "J = 1.0             # Interaction strength\n",
        "h = 1.0             # Transverse field strength\n",
        "\n",
        "hamiltonian = construct_TFIM_hamiltonian(J, h, n_qubits)"
      ]
    },
    {
      "cell_type": "markdown",
      "id": "7e4f4f3d",
      "metadata": {},
      "source": [
        "Since *n_qubits* is small, we can find the smallest eigenvalue (ground energy state) of the Hamiltonian matrix directly. This is only performed for benchmarking. For relistic physical systems involving large *n_qubits*, this computation is not feasible and we have to rely on Quantum Computing methods to find the approximate ground state."
      ]
    },
    {
      "cell_type": "code",
      "execution_count": null,
      "id": "5f11c051",
      "metadata": {},
      "outputs": [
        {
          "name": "stdout",
          "output_type": "stream",
          "text": [
            "E_0: -15.322595151080778\n",
            "Delta (E_1 - E_0)): 0.1310869256304681\n"
          ]
        }
      ],
      "source": [
        "## Ground eigenvalue and eigenvector computation using numpy (Will be later used for benchmarking)\n",
        "vals, vecs = np.linalg.eigh(get_sparse_matrix(hamiltonian).toarray())\n",
        "\n",
        "EXACT_GS_ENERGY = np.min(vals)\n",
        "EXACT_GAP = vals[np.argsort(vals)][:2] @ [-1, 1]\n",
        "\n",
        "print(\"E_0:\", EXACT_GS_ENERGY)\n",
        "print(\"Delta (E_1 - E_0)):\", EXACT_GAP)"
      ]
    },
    {
      "cell_type": "markdown",
      "id": "ece5c369",
      "metadata": {},
      "source": [
        "## **VQE Optimization**"
      ]
    },
    {
      "cell_type": "markdown",
      "id": "2463af56",
      "metadata": {},
      "source": [
        "In case you're new to variational algorithms in QURI SDK, you should refer to this tutorial first on [Variational Algorithms](https://quri-sdk.qunasys.com/docs/tutorials/quri-parts/advanced/variational/)."
      ]
    },
    {
      "cell_type": "markdown",
      "id": "9705e6d3",
      "metadata": {},
      "source": [
        "### Cost Function and Gradient Estimator"
      ]
    },
    {
      "cell_type": "markdown",
      "id": "ba8c1f79",
      "metadata": {},
      "source": [
        "We will first define closures (higher-order functions) that takes the Hamiltonian and parametric state as the parameter and returns cost function and gradient estimators for the VQE optimization. The `cost estimator` computes the expectation value of the Hamiltonian with respect to the parametric state, while the `gradient estimator` computes the gradient of the expectation value with respect to the parameters of the parametric state."
      ]
    },
    {
      "cell_type": "code",
      "execution_count": null,
      "id": "4e7d9f9d",
      "metadata": {},
      "outputs": [],
      "source": [
        "from quri_parts.core.estimator.gradient import create_parameter_shift_gradient_estimator\n",
        "from quri_parts.qulacs.estimator import create_qulacs_vector_concurrent_parametric_estimator, create_qulacs_vector_parametric_estimator\n",
        "\n",
        "\n",
        "estimator = create_qulacs_vector_parametric_estimator()\n",
        "\n",
        "def H_cost_fn(hamiltonian, parametric_state):\n",
        "    def cost_fn(param_values: Sequence[float]) -> Sequence[float]:\n",
        "        estimate = estimator(hamiltonian, parametric_state, param_values)\n",
        "        return estimate.value.real\n",
        "    return cost_fn"
      ]
    },
    {
      "cell_type": "code",
      "execution_count": null,
      "id": "c9f1959f",
      "metadata": {},
      "outputs": [],
      "source": [
        "concurrent_parametric_estimator = create_qulacs_vector_concurrent_parametric_estimator()\n",
        "gradient_estimator = create_parameter_shift_gradient_estimator(concurrent_parametric_estimator)\n",
        "\n",
        "def H_grad_fn(hamiltonian, parametric_state):\n",
        "    def grad_fn(param_values: Sequence[float]) -> Sequence[float]:\n",
        "        estimate = gradient_estimator(hamiltonian, parametric_state, param_values)\n",
        "        return np.asarray([g.real for g in estimate.values])\n",
        "    return grad_fn"
      ]
    },
    {
      "cell_type": "markdown",
      "id": "391e9a03",
      "metadata": {},
      "source": [
        "### Setting up VQE Optimization loop"
      ]
    },
    {
      "cell_type": "markdown",
      "id": "7d6c63ba",
      "metadata": {},
      "source": [
        "Next we will set up the VQE optimization loop, essentially updating the parameters of the parametric state using the gradient descent method along with ADAM Optimizer. QURI Parts provides a convenient `OptimizerStatus` class that will handle the optimizer convergence for us. The below `vqe` function takes the parametric circuit (Ansatz), hamiltonian, initial parameters, optimizer (e.g. Adam) and returns the optimzied ground state, log of ground state energy, optimized params and the number of iterations taken to converge."
      ]
    },
    {
      "cell_type": "code",
      "execution_count": null,
      "id": "5eb2fe8c",
      "metadata": {},
      "outputs": [],
      "source": [
        "from quri_parts.core.state import quantum_state, apply_circuit\n",
        "from quri_parts.algo.optimizer import Adam, OptimizerStatus\n",
        "\n",
        "def vqe(\n",
        "    parametric_circuit, \n",
        "    hamiltonian,\n",
        "    init_params: Sequence[float] = None,\n",
        "    optimizer = Adam()\n",
        "):\n",
        "    # Setting up the parametric state, initializing the parameters\n",
        "    cb_state = quantum_state(n_qubits, bits=0)\n",
        "    parametric_state = apply_circuit(parametric_circuit, cb_state)\n",
        "\n",
        "    if init_params is None:\n",
        "        init_params = np.random.random(parametric_circuit.parameter_count)\n",
        "    \n",
        "\n",
        "    # Defining the cost and gradient estimators based on the hamiltonian and parametric state\n",
        "    cost_fn = H_cost_fn(hamiltonian, parametric_state)\n",
        "    grad_fn = H_grad_fn(hamiltonian, parametric_state)\n",
        "    energy = []\n",
        "\n",
        "\n",
        "    # Running the VQE Optimization loop\n",
        "    opt_state = optimizer.get_init_state(init_params)\n",
        "\n",
        "    while True:\n",
        "        opt_state = optimizer.step(opt_state, cost_fn, grad_fn)\n",
        "        energy.append(opt_state.cost)\n",
        "\n",
        "        if opt_state.status == OptimizerStatus.FAILED:\n",
        "            print(\"Optimizer failed\")\n",
        "            break\n",
        "        if opt_state.status == OptimizerStatus.CONVERGED:\n",
        "            # print(\"Optimizer converged\")\n",
        "            break\n",
        "\n",
        "    bound_state = parametric_state.bind_parameters(opt_state.params)\n",
        "    return bound_state, energy, opt_state.params, opt_state.niter"
      ]
    },
    {
      "cell_type": "markdown",
      "id": "b81daf42",
      "metadata": {},
      "source": [
        "### Benchmarking with different Ansatz"
      ]
    },
    {
      "cell_type": "markdown",
      "id": "fce66667",
      "metadata": {},
      "source": [
        "#### *Symmetry Preserving Real Ansatz*"
      ]
    },
    {
      "cell_type": "markdown",
      "id": "fef022f6",
      "metadata": {},
      "source": [
        "The `SymmetryPreservingReal` respects particle number, total spin, spin projection, and time-reversal symmetries of the initial state. For further details, refer to this [paper](https://www.nature.com/articles/s41534-019-0240-1)"
      ]
    },
    {
      "cell_type": "code",
      "execution_count": null,
      "id": "0027a767",
      "metadata": {},
      "outputs": [],
      "source": [
        "from quri_parts.algo.ansatz import SymmetryPreserving\n",
        "from quri_parts.circuit.utils.circuit_drawer import draw_circuit\n",
        "\n",
        "spr_parametric_circuit = SymmetryPreserving(n_qubits, 7)\n",
        "#draw_circuit(spr_parametric_circuit)"
      ]
    },
    {
      "cell_type": "code",
      "execution_count": null,
      "id": "fd118a3c",
      "metadata": {},
      "outputs": [
        {
          "name": "stdout",
          "output_type": "stream",
          "text": [
            "Optimized value: -11.999999999999964\n",
            "Error: 3.3225951510808134\n",
            "Iterations: 1\n"
          ]
        }
      ],
      "source": [
        "spr_bound_state, spr_ground_energy, spr_params, spr_num_iter = vqe(spr_parametric_circuit, hamiltonian)\n",
        "print(\"Optimized value:\", spr_ground_energy[-1])\n",
        "print(\"Error:\", np.abs(EXACT_GS_ENERGY - spr_ground_energy[-1]))\n",
        "print(\"Iterations:\", spr_num_iter)"
      ]
    },
    {
      "cell_type": "markdown",
      "id": "958ee962",
      "metadata": {},
      "source": [
        "#### *Z2 Symmetry Preserving Real Ansatz*"
      ]
    },
    {
      "cell_type": "markdown",
      "id": "2452b31d",
      "metadata": {},
      "source": [
        "The `Z2SymmetryPreservingReal` ansatz is based of preserving the $\\mathbb{Z}_2$ symmetry of the TFIM Hamiltonian we had defined at the start. For further details on the Z2 ansatz, refer to this [paper](https://arxiv.org/abs/2404.08548)."
      ]
    },
    {
      "cell_type": "code",
      "execution_count": null,
      "id": "5279c6d1",
      "metadata": {},
      "outputs": [
        {
          "name": "stdout",
          "output_type": "stream",
          "text": [
            "                           ___     ___     ___                             ___  \n",
            "                          |PR |   |PRZ|   |PR |                           |PR | \n",
            "--------------------------|20 |---|21 |---|23 |---------------------------|64 |-\n",
            "                          |   |   |___|   |   |                           |   | \n",
            "   ___     ___     ___    |   |    ___    |   |    ___     ___     ___    |   | \n",
            "  |PR |   |PRZ|   |PR |   |   |   |PRZ|   |   |   |PR |   |PRZ|   |PR |   |   | \n",
            "--|0  |---|1  |---|3  |---|   |---|22 |---|   |---|44 |---|45 |---|47 |---|   |-\n",
            "  |   |   |___|   |   |   |___|   |___|   |___|   |   |   |___|   |   |   |___| \n",
            "  |   |    ___    |   |    ___     ___     ___    |   |    ___    |   |    ___  \n",
            "  |   |   |PRZ|   |   |   |PR |   |PRZ|   |PR |   |   |   |PRZ|   |   |   |PR | \n",
            "--|   |---|2  |---|   |---|24 |---|25 |---|27 |---|   |---|46 |---|   |---|68 |-\n",
            "  |___|   |___|   |___|   |   |   |___|   |   |   |___|   |___|   |___|   |   | \n",
            "   ___     ___     ___    |   |    ___    |   |    ___     ___     ___    |   | \n",
            "  |PR |   |PRZ|   |PR |   |   |   |PRZ|   |   |   |PR |   |PRZ|   |PR |   |   | \n",
            "--|4  |---|5  |---|7  |---|   |---|26 |---|   |---|48 |---|49 |---|51 |---|   |-\n",
            "  |   |   |___|   |   |   |___|   |___|   |___|   |   |   |___|   |   |   |___| \n",
            "  |   |    ___    |   |    ___     ___     ___    |   |    ___    |   |    ___  \n",
            "  |   |   |PRZ|   |   |   |PR |   |PRZ|   |PR |   |   |   |PRZ|   |   |   |PR | \n",
            "--|   |---|6  |---|   |---|28 |---|29 |---|31 |---|   |---|50 |---|   |---|72 |-\n",
            "  |___|   |___|   |___|   |   |   |___|   |   |   |___|   |___|   |___|   |   | \n",
            "   ___     ___     ___    |   |    ___    |   |    ___     ___     ___    |   | \n",
            "  |PR |   |PRZ|   |PR |   |   |   |PRZ|   |   |   |PR |   |PRZ|   |PR |   |   | \n",
            "--|8  |---|9  |---|11 |---|   |---|30 |---|   |---|52 |---|53 |---|55 |---|   |-\n",
            "  |   |   |___|   |   |   |___|   |___|   |___|   |   |   |___|   |   |   |___| \n",
            "  |   |    ___    |   |    ___     ___     ___    |   |    ___    |   |    ___  \n",
            "  |   |   |PRZ|   |   |   |PR |   |PRZ|   |PR |   |   |   |PRZ|   |   |   |PR | \n",
            "--|   |---|10 |---|   |---|32 |---|33 |---|35 |---|   |---|54 |---|   |---|76 |-\n",
            "  |___|   |___|   |___|   |   |   |___|   |   |   |___|   |___|   |___|   |   | \n",
            "   ___     ___     ___    |   |    ___    |   |    ___     ___     ___    |   | \n",
            "  |PR |   |PRZ|   |PR |   |   |   |PRZ|   |   |   |PR |   |PRZ|   |PR |   |   | \n",
            "--|12 |---|13 |---|15 |---|   |---|34 |---|   |---|56 |---|57 |---|59 |---|   |-\n",
            "  |   |   |___|   |   |   |___|   |___|   |___|   |   |   |___|   |   |   |___| \n",
            "  |   |    ___    |   |    ___     ___     ___    |   |    ___    |   |    ___  \n",
            "  |   |   |PRZ|   |   |   |PR |   |PRZ|   |PR |   |   |   |PRZ|   |   |   |PR | \n",
            "--|   |---|14 |---|   |---|36 |---|37 |---|39 |---|   |---|58 |---|   |---|80 |-\n",
            "  |___|   |___|   |___|   |   |   |___|   |   |   |___|   |___|   |___|   |   | \n",
            "   ___     ___     ___    |   |    ___    |   |    ___     ___     ___    |   | \n",
            "  |PR |   |PRZ|   |PR |   |   |   |PRZ|   |   |   |PR |   |PRZ|   |PR |   |   | \n",
            "--|16 |---|17 |---|19 |---|   |---|38 |---|   |---|60 |---|61 |---|63 |---|   |-\n",
            "  |   |   |___|   |   |   |___|   |___|   |___|   |   |   |___|   |   |   |___| \n",
            "  |   |    ___    |   |    ___     ___     ___    |   |    ___    |   |    ___  \n",
            "  |   |   |PRZ|   |   |   |PR |   |PRZ|   |PR |   |   |   |PRZ|   |   |   |PR | \n",
            "--|   |---|18 |---|   |---|40 |---|41 |---|43 |---|   |---|62 |---|   |---|84 |-\n",
            "  |___|   |___|   |___|   |   |   |___|   |   |   |___|   |___|   |___|   |   | \n",
            "                          |   |    ___    |   |                           |   | \n",
            "                          |   |   |PRZ|   |   |                           |   | \n",
            "--------------------------|   |---|42 |---|   |---------------------------|   |-\n",
            "                          |___|   |___|   |___|                           |___| \n",
            "\n",
            "\n",
            "================================================================================\n",
            "\n",
            "   ___     ___                             ___     ___     ___                  \n",
            "  |PRZ|   |PR |                           |PR |   |PRZ|   |PR |                 \n",
            "--|65 |---|67 |---------------------------|108|---|109|---|111|-----------------\n",
            "  |___|   |   |                           |   |   |___|   |   |                 \n",
            "   ___    |   |    ___     ___     ___    |   |    ___    |   |    ___     ___  \n",
            "  |PRZ|   |   |   |PR |   |PRZ|   |PR |   |   |   |PRZ|   |   |   |PR |   |PRZ| \n",
            "--|66 |---|   |---|88 |---|89 |---|91 |---|   |---|110|---|   |---|132|---|133|-\n",
            "  |___|   |___|   |   |   |___|   |   |   |___|   |___|   |___|   |   |   |___| \n",
            "   ___     ___    |   |    ___    |   |    ___     ___     ___    |   |    ___  \n",
            "  |PRZ|   |PR |   |   |   |PRZ|   |   |   |PR |   |PRZ|   |PR |   |   |   |PRZ| \n",
            "--|69 |---|71 |---|   |---|90 |---|   |---|112|---|113|---|115|---|   |---|134|-\n",
            "  |___|   |   |   |___|   |___|   |___|   |   |   |___|   |   |   |___|   |___| \n",
            "   ___    |   |    ___     ___     ___    |   |    ___    |   |    ___     ___  \n",
            "  |PRZ|   |   |   |PR |   |PRZ|   |PR |   |   |   |PRZ|   |   |   |PR |   |PRZ| \n",
            "--|70 |---|   |---|92 |---|93 |---|95 |---|   |---|114|---|   |---|136|---|137|-\n",
            "  |___|   |___|   |   |   |___|   |   |   |___|   |___|   |___|   |   |   |___| \n",
            "   ___     ___    |   |    ___    |   |    ___     ___     ___    |   |    ___  \n",
            "  |PRZ|   |PR |   |   |   |PRZ|   |   |   |PR |   |PRZ|   |PR |   |   |   |PRZ| \n",
            "--|73 |---|75 |---|   |---|94 |---|   |---|116|---|117|---|119|---|   |---|138|-\n",
            "  |___|   |   |   |___|   |___|   |___|   |   |   |___|   |   |   |___|   |___| \n",
            "   ___    |   |    ___     ___     ___    |   |    ___    |   |    ___     ___  \n",
            "  |PRZ|   |   |   |PR |   |PRZ|   |PR |   |   |   |PRZ|   |   |   |PR |   |PRZ| \n",
            "--|74 |---|   |---|96 |---|97 |---|99 |---|   |---|118|---|   |---|140|---|141|-\n",
            "  |___|   |___|   |   |   |___|   |   |   |___|   |___|   |___|   |   |   |___| \n",
            "   ___     ___    |   |    ___    |   |    ___     ___     ___    |   |    ___  \n",
            "  |PRZ|   |PR |   |   |   |PRZ|   |   |   |PR |   |PRZ|   |PR |   |   |   |PRZ| \n",
            "--|77 |---|79 |---|   |---|98 |---|   |---|120|---|121|---|123|---|   |---|142|-\n",
            "  |___|   |   |   |___|   |___|   |___|   |   |   |___|   |   |   |___|   |___| \n",
            "   ___    |   |    ___     ___     ___    |   |    ___    |   |    ___     ___  \n",
            "  |PRZ|   |   |   |PR |   |PRZ|   |PR |   |   |   |PRZ|   |   |   |PR |   |PRZ| \n",
            "--|78 |---|   |---|100|---|101|---|103|---|   |---|122|---|   |---|144|---|145|-\n",
            "  |___|   |___|   |   |   |___|   |   |   |___|   |___|   |___|   |   |   |___| \n",
            "   ___     ___    |   |    ___    |   |    ___     ___     ___    |   |    ___  \n",
            "  |PRZ|   |PR |   |   |   |PRZ|   |   |   |PR |   |PRZ|   |PR |   |   |   |PRZ| \n",
            "--|81 |---|83 |---|   |---|102|---|   |---|124|---|125|---|127|---|   |---|146|-\n",
            "  |___|   |   |   |___|   |___|   |___|   |   |   |___|   |   |   |___|   |___| \n",
            "   ___    |   |    ___     ___     ___    |   |    ___    |   |    ___     ___  \n",
            "  |PRZ|   |   |   |PR |   |PRZ|   |PR |   |   |   |PRZ|   |   |   |PR |   |PRZ| \n",
            "--|82 |---|   |---|104|---|105|---|107|---|   |---|126|---|   |---|148|---|149|-\n",
            "  |___|   |___|   |   |   |___|   |   |   |___|   |___|   |___|   |   |   |___| \n",
            "   ___     ___    |   |    ___    |   |    ___     ___     ___    |   |    ___  \n",
            "  |PRZ|   |PR |   |   |   |PRZ|   |   |   |PR |   |PRZ|   |PR |   |   |   |PRZ| \n",
            "--|85 |---|87 |---|   |---|106|---|   |---|128|---|129|---|131|---|   |---|150|-\n",
            "  |___|   |   |   |___|   |___|   |___|   |   |   |___|   |   |   |___|   |___| \n",
            "   ___    |   |                           |   |    ___    |   |                 \n",
            "  |PRZ|   |   |                           |   |   |PRZ|   |   |                 \n",
            "--|86 |---|   |---------------------------|   |---|130|---|   |-----------------\n",
            "  |___|   |___|                           |___|   |___|   |___|                 \n",
            "\n",
            "\n",
            "================================================================================\n",
            "\n",
            "           ___     ___     ___                             ___     ___     ___  \n",
            "          |PR |   |PRZ|   |PR |                           |PR |   |PRZ|   |PR | \n",
            "----------|152|---|153|---|155|---------------------------|196|---|197|---|199|-\n",
            "          |   |   |___|   |   |                           |   |   |___|   |   | \n",
            "   ___    |   |    ___    |   |    ___     ___     ___    |   |    ___    |   | \n",
            "  |PR |   |   |   |PRZ|   |   |   |PR |   |PRZ|   |PR |   |   |   |PRZ|   |   | \n",
            "--|135|---|   |---|154|---|   |---|176|---|177|---|179|---|   |---|198|---|   |-\n",
            "  |   |   |___|   |___|   |___|   |   |   |___|   |   |   |___|   |___|   |___| \n",
            "  |   |    ___     ___     ___    |   |    ___    |   |    ___     ___     ___  \n",
            "  |   |   |PR |   |PRZ|   |PR |   |   |   |PRZ|   |   |   |PR |   |PRZ|   |PR | \n",
            "--|   |---|156|---|157|---|159|---|   |---|178|---|   |---|200|---|201|---|203|-\n",
            "  |___|   |   |   |___|   |   |   |___|   |___|   |___|   |   |   |___|   |   | \n",
            "   ___    |   |    ___    |   |    ___     ___     ___    |   |    ___    |   | \n",
            "  |PR |   |   |   |PRZ|   |   |   |PR |   |PRZ|   |PR |   |   |   |PRZ|   |   | \n",
            "--|139|---|   |---|158|---|   |---|180|---|181|---|183|---|   |---|202|---|   |-\n",
            "  |   |   |___|   |___|   |___|   |   |   |___|   |   |   |___|   |___|   |___| \n",
            "  |   |    ___     ___     ___    |   |    ___    |   |    ___     ___     ___  \n",
            "  |   |   |PR |   |PRZ|   |PR |   |   |   |PRZ|   |   |   |PR |   |PRZ|   |PR | \n",
            "--|   |---|160|---|161|---|163|---|   |---|182|---|   |---|204|---|205|---|207|-\n",
            "  |___|   |   |   |___|   |   |   |___|   |___|   |___|   |   |   |___|   |   | \n",
            "   ___    |   |    ___    |   |    ___     ___     ___    |   |    ___    |   | \n",
            "  |PR |   |   |   |PRZ|   |   |   |PR |   |PRZ|   |PR |   |   |   |PRZ|   |   | \n",
            "--|143|---|   |---|162|---|   |---|184|---|185|---|187|---|   |---|206|---|   |-\n",
            "  |   |   |___|   |___|   |___|   |   |   |___|   |   |   |___|   |___|   |___| \n",
            "  |   |    ___     ___     ___    |   |    ___    |   |    ___     ___     ___  \n",
            "  |   |   |PR |   |PRZ|   |PR |   |   |   |PRZ|   |   |   |PR |   |PRZ|   |PR | \n",
            "--|   |---|164|---|165|---|167|---|   |---|186|---|   |---|208|---|209|---|211|-\n",
            "  |___|   |   |   |___|   |   |   |___|   |___|   |___|   |   |   |___|   |   | \n",
            "   ___    |   |    ___    |   |    ___     ___     ___    |   |    ___    |   | \n",
            "  |PR |   |   |   |PRZ|   |   |   |PR |   |PRZ|   |PR |   |   |   |PRZ|   |   | \n",
            "--|147|---|   |---|166|---|   |---|188|---|189|---|191|---|   |---|210|---|   |-\n",
            "  |   |   |___|   |___|   |___|   |   |   |___|   |   |   |___|   |___|   |___| \n",
            "  |   |    ___     ___     ___    |   |    ___    |   |    ___     ___     ___  \n",
            "  |   |   |PR |   |PRZ|   |PR |   |   |   |PRZ|   |   |   |PR |   |PRZ|   |PR | \n",
            "--|   |---|168|---|169|---|171|---|   |---|190|---|   |---|212|---|213|---|215|-\n",
            "  |___|   |   |   |___|   |   |   |___|   |___|   |___|   |   |   |___|   |   | \n",
            "   ___    |   |    ___    |   |    ___     ___     ___    |   |    ___    |   | \n",
            "  |PR |   |   |   |PRZ|   |   |   |PR |   |PRZ|   |PR |   |   |   |PRZ|   |   | \n",
            "--|151|---|   |---|170|---|   |---|192|---|193|---|195|---|   |---|214|---|   |-\n",
            "  |   |   |___|   |___|   |___|   |   |   |___|   |   |   |___|   |___|   |___| \n",
            "  |   |    ___     ___     ___    |   |    ___    |   |    ___     ___     ___  \n",
            "  |   |   |PR |   |PRZ|   |PR |   |   |   |PRZ|   |   |   |PR |   |PRZ|   |PR | \n",
            "--|   |---|172|---|173|---|175|---|   |---|194|---|   |---|216|---|217|---|219|-\n",
            "  |___|   |   |   |___|   |   |   |___|   |___|   |___|   |   |   |___|   |   | \n",
            "          |   |    ___    |   |                           |   |    ___    |   | \n",
            "          |   |   |PRZ|   |   |                           |   |   |PRZ|   |   | \n",
            "----------|   |---|174|---|   |---------------------------|   |---|218|---|   |-\n",
            "          |___|   |___|   |___|                           |___|   |___|   |___| \n",
            "\n",
            "\n",
            "================================================================================\n",
            "\n",
            "                           ___     ___     ___                             ___  \n",
            "                          |PR |   |PRZ|   |PR |                           |PR | \n",
            "--------------------------|240|---|241|---|243|---------------------------|284|-\n",
            "                          |   |   |___|   |   |                           |   | \n",
            "   ___     ___     ___    |   |    ___    |   |    ___     ___     ___    |   | \n",
            "  |PR |   |PRZ|   |PR |   |   |   |PRZ|   |   |   |PR |   |PRZ|   |PR |   |   | \n",
            "--|220|---|221|---|223|---|   |---|242|---|   |---|264|---|265|---|267|---|   |-\n",
            "  |   |   |___|   |   |   |___|   |___|   |___|   |   |   |___|   |   |   |___| \n",
            "  |   |    ___    |   |    ___     ___     ___    |   |    ___    |   |    ___  \n",
            "  |   |   |PRZ|   |   |   |PR |   |PRZ|   |PR |   |   |   |PRZ|   |   |   |PR | \n",
            "--|   |---|222|---|   |---|244|---|245|---|247|---|   |---|266|---|   |---|288|-\n",
            "  |___|   |___|   |___|   |   |   |___|   |   |   |___|   |___|   |___|   |   | \n",
            "   ___     ___     ___    |   |    ___    |   |    ___     ___     ___    |   | \n",
            "  |PR |   |PRZ|   |PR |   |   |   |PRZ|   |   |   |PR |   |PRZ|   |PR |   |   | \n",
            "--|224|---|225|---|227|---|   |---|246|---|   |---|268|---|269|---|271|---|   |-\n",
            "  |   |   |___|   |   |   |___|   |___|   |___|   |   |   |___|   |   |   |___| \n",
            "  |   |    ___    |   |    ___     ___     ___    |   |    ___    |   |    ___  \n",
            "  |   |   |PRZ|   |   |   |PR |   |PRZ|   |PR |   |   |   |PRZ|   |   |   |PR | \n",
            "--|   |---|226|---|   |---|248|---|249|---|251|---|   |---|270|---|   |---|292|-\n",
            "  |___|   |___|   |___|   |   |   |___|   |   |   |___|   |___|   |___|   |   | \n",
            "   ___     ___     ___    |   |    ___    |   |    ___     ___     ___    |   | \n",
            "  |PR |   |PRZ|   |PR |   |   |   |PRZ|   |   |   |PR |   |PRZ|   |PR |   |   | \n",
            "--|228|---|229|---|231|---|   |---|250|---|   |---|272|---|273|---|275|---|   |-\n",
            "  |   |   |___|   |   |   |___|   |___|   |___|   |   |   |___|   |   |   |___| \n",
            "  |   |    ___    |   |    ___     ___     ___    |   |    ___    |   |    ___  \n",
            "  |   |   |PRZ|   |   |   |PR |   |PRZ|   |PR |   |   |   |PRZ|   |   |   |PR | \n",
            "--|   |---|230|---|   |---|252|---|253|---|255|---|   |---|274|---|   |---|296|-\n",
            "  |___|   |___|   |___|   |   |   |___|   |   |   |___|   |___|   |___|   |   | \n",
            "   ___     ___     ___    |   |    ___    |   |    ___     ___     ___    |   | \n",
            "  |PR |   |PRZ|   |PR |   |   |   |PRZ|   |   |   |PR |   |PRZ|   |PR |   |   | \n",
            "--|232|---|233|---|235|---|   |---|254|---|   |---|276|---|277|---|279|---|   |-\n",
            "  |   |   |___|   |   |   |___|   |___|   |___|   |   |   |___|   |   |   |___| \n",
            "  |   |    ___    |   |    ___     ___     ___    |   |    ___    |   |    ___  \n",
            "  |   |   |PRZ|   |   |   |PR |   |PRZ|   |PR |   |   |   |PRZ|   |   |   |PR | \n",
            "--|   |---|234|---|   |---|256|---|257|---|259|---|   |---|278|---|   |---|300|-\n",
            "  |___|   |___|   |___|   |   |   |___|   |   |   |___|   |___|   |___|   |   | \n",
            "   ___     ___     ___    |   |    ___    |   |    ___     ___     ___    |   | \n",
            "  |PR |   |PRZ|   |PR |   |   |   |PRZ|   |   |   |PR |   |PRZ|   |PR |   |   | \n",
            "--|236|---|237|---|239|---|   |---|258|---|   |---|280|---|281|---|283|---|   |-\n",
            "  |   |   |___|   |   |   |___|   |___|   |___|   |   |   |___|   |   |   |___| \n",
            "  |   |    ___    |   |    ___     ___     ___    |   |    ___    |   |    ___  \n",
            "  |   |   |PRZ|   |   |   |PR |   |PRZ|   |PR |   |   |   |PRZ|   |   |   |PR | \n",
            "--|   |---|238|---|   |---|260|---|261|---|263|---|   |---|282|---|   |---|304|-\n",
            "  |___|   |___|   |___|   |   |   |___|   |   |   |___|   |___|   |___|   |   | \n",
            "                          |   |    ___    |   |                           |   | \n",
            "                          |   |   |PRZ|   |   |                           |   | \n",
            "--------------------------|   |---|262|---|   |---------------------------|   |-\n",
            "                          |___|   |___|   |___|                           |___| \n",
            "\n",
            "\n",
            "================================================================================\n",
            "\n",
            "   ___     ___  \n",
            "  |PRZ|   |PR | \n",
            "--|285|---|287|-\n",
            "  |___|   |   | \n",
            "   ___    |   | \n",
            "  |PRZ|   |   | \n",
            "--|286|---|   |-\n",
            "  |___|   |___| \n",
            "   ___     ___  \n",
            "  |PRZ|   |PR | \n",
            "--|289|---|291|-\n",
            "  |___|   |   | \n",
            "   ___    |   | \n",
            "  |PRZ|   |   | \n",
            "--|290|---|   |-\n",
            "  |___|   |___| \n",
            "   ___     ___  \n",
            "  |PRZ|   |PR | \n",
            "--|293|---|295|-\n",
            "  |___|   |   | \n",
            "   ___    |   | \n",
            "  |PRZ|   |   | \n",
            "--|294|---|   |-\n",
            "  |___|   |___| \n",
            "   ___     ___  \n",
            "  |PRZ|   |PR | \n",
            "--|297|---|299|-\n",
            "  |___|   |   | \n",
            "   ___    |   | \n",
            "  |PRZ|   |   | \n",
            "--|298|---|   |-\n",
            "  |___|   |___| \n",
            "   ___     ___  \n",
            "  |PRZ|   |PR | \n",
            "--|301|---|303|-\n",
            "  |___|   |   | \n",
            "   ___    |   | \n",
            "  |PRZ|   |   | \n",
            "--|302|---|   |-\n",
            "  |___|   |___| \n",
            "   ___     ___  \n",
            "  |PRZ|   |PR | \n",
            "--|305|---|307|-\n",
            "  |___|   |   | \n",
            "   ___    |   | \n",
            "  |PRZ|   |   | \n",
            "--|306|---|   |-\n",
            "  |___|   |___| \n"
          ]
        }
      ],
      "source": [
        "from quri_parts.algo.ansatz import Z2SymmetryPreservingReal\n",
        "\n",
        "z2_parametric_circuit = Z2SymmetryPreservingReal(n_qubits, 7)\n",
        "draw_circuit(z2_parametric_circuit)"
      ]
    },
    {
      "cell_type": "code",
      "execution_count": null,
      "id": "089aaff0",
      "metadata": {},
      "outputs": [
        {
          "name": "stdout",
          "output_type": "stream",
          "text": [
            "Optimized value: -15.310112522662902\n",
            "Error: 0.012482628417876285\n",
            "Iterations: 193\n"
          ]
        }
      ],
      "source": [
        "Z2_bound_state, Z2_ground_energy, Z2_params, Z2_num_iter = vqe(z2_parametric_circuit, hamiltonian)\n",
        "print(\"Optimized value:\", Z2_ground_energy[-1])\n",
        "print(\"Error:\", np.abs(EXACT_GS_ENERGY - Z2_ground_energy[-1]))\n",
        "print(\"Iterations:\", Z2_num_iter)"
      ]
    },
    {
      "cell_type": "markdown",
      "id": "d9cad749",
      "metadata": {},
      "source": [
        "#### *Hardware Efficient Real Ansatz*"
      ]
    },
    {
      "cell_type": "markdown",
      "id": "b48ef71b",
      "metadata": {},
      "source": [
        "The `HardwareEfficientReal` ansatz is a variational ansatz that is specifically meant for small molecules and quantum magnets. For further details on the HardwareEfficientReal ansatz, refer to this [paper](https://www.nature.com/articles/nature23879)."
      ]
    },
    {
      "cell_type": "code",
      "execution_count": null,
      "id": "d5fd42b2",
      "metadata": {},
      "outputs": [],
      "source": [
        "from quri_parts.algo.ansatz import HardwareEfficientReal\n",
        "\n",
        "hardware_parametric_circuit = HardwareEfficientReal(n_qubits, 7)\n",
        "#draw_circuit(hardware_parametric_circuit)"
      ]
    },
    {
      "cell_type": "code",
      "execution_count": null,
      "id": "189f451c",
      "metadata": {},
      "outputs": [
        {
          "name": "stdout",
          "output_type": "stream",
          "text": [
            "Optimized value: -15.194860596846603\n",
            "Error: 0.12773455423417523\n",
            "Iterations: 67\n"
          ]
        }
      ],
      "source": [
        "he_bound_state, he_ground_energy, he_params, he_num_iter = vqe(hardware_parametric_circuit, hamiltonian)\n",
        "print(\"Optimized value:\", he_ground_energy[-1])\n",
        "print(\"Error:\", np.abs(EXACT_GS_ENERGY - he_ground_energy[-1]))\n",
        "print(\"Iterations:\", he_num_iter)"
      ]
    },
    {
      "cell_type": "markdown",
      "id": "c139c680",
      "metadata": {},
      "source": [
        "Based on the above test runs, we can clearly rule out `SymmetryPreservingReal` ansatz."
      ]
    },
    {
      "cell_type": "markdown",
      "id": "759ddad2",
      "metadata": {},
      "source": [
        "#### *Ground State Energy Convergence Plot*"
      ]
    },
    {
      "cell_type": "code",
      "execution_count": null,
      "id": "fcdd9873",
      "metadata": {},
      "outputs": [
        {
          "data": {
            "image/png": "[encoded data removed]",
            "text/plain": [
              "<Figure size 640x480 with 1 Axes>"
            ]
          },
          "metadata": {},
          "output_type": "display_data"
        }
      ],
      "source": [
        "plt.title(\"Ground State Energy Error vs Iterations\")\n",
        "plt.xlabel(\"Iterations\")\n",
        "plt.ylabel(\"Error\")\n",
        "\n",
        "x = min(len(he_ground_energy), len(Z2_ground_energy))\n",
        "plt.plot(np.abs(EXACT_GS_ENERGY - he_ground_energy[:x]), label=\"Hardware Efficient ansatz\")\n",
        "plt.plot(np.abs(EXACT_GS_ENERGY - Z2_ground_energy[:x]), label=\"Z2 Symmetry ansatz\")\n",
        "plt.legend()\n",
        "plt.show()"
      ]
    },
    {
      "cell_type": "markdown",
      "id": "6d21638d",
      "metadata": {},
      "source": [
        "From the convergence plot for ground state energy for the `Z2SymmetryPreservingReal` and `HardwareEfficientReal` ansatz, we can see that the `Z2SymmetryPreservingReal` ansatz performs the best in terms of convergence and accuracy of the ground state energy. The `HardwareEfficientReal` ansatz also performs well, but has slower convergence which become a bottleneck for higher number of qubits.\n",
        "\n",
        "We will be using the `Z2SymmetryPreservingReal` ansatz for the rest of the tutorial i.e. optimizing the ground state obtained from VQE further using SPE and QSCI."
      ]
    },
    {
      "cell_type": "markdown",
      "id": "900b1754",
      "metadata": {},
      "source": [
        "## **Statistical Phase Estimation (SPE):**\n",
        "\n",
        "Statistical Phase Estimation (SPE) is a ground state energy estimation (GSEE) algorithm meant to run on Early Fault Tolerant Quantum Computing (EFTQC) architectures. It's a NISQ-friendly variant of the Quantum Phase Estimation (QPE) algorithm. Instead of using quantum Fourier transform, it uses repeated measurements and classical postprocessing to estimate the phase.\n",
        "\n",
        "Essentially SPE needs a shorter depth circuit than Quantum Phase Estimation (QPE) which requires longer circuit depth and fully fault tolerant architecture due to full Quantum Fourier Transform (QFT). For further details, you can refer to this [notebook](https://github.com/QunaSys/quri-sdk-notebooks/blob/main/quri_sdk_notebooks/examples/0_quri-algo-vm/1_spe/1_spe.ipynb) or the [original paper](https://arxiv.org/abs/2409.07749)"
      ]
    },
    {
      "cell_type": "markdown",
      "id": "6e4a1283",
      "metadata": {},
      "source": [
        "### Trial State"
      ]
    },
    {
      "cell_type": "markdown",
      "id": "c2a4b8d6",
      "metadata": {},
      "source": [
        "The goal of phase estimation is to estimate the phase $\\phi$ in \n",
        "$U|\\psi\\rangle = e^{2\\pi i \\phi} |\\psi\\rangle$. But this only makes sense if we have a trial state $|\\psi\\rangle$ is an eigenstate of $U$.\n",
        "\n",
        "In practice, we don't have access to the exact eigenstate of the Hamiltonian $H$, so we need to use a trial state which we hope has some overlap with the ground state.\n",
        "\n",
        "$$U|\\psi_{\\text{trial}}\\rangle = \\sum_{j} c_j |\\phi_j\\rangle$$\n",
        "\n",
        "$$U^k|\\psi_{\\text{trial}}\\rangle = \\sum_{j} c_j e^{2\\pi i k \\phi_j} |\\phi_j\\rangle$$\n",
        "\n",
        "When you measure and statistically analyze the results, the phase estimation algorithm **amplifies the dominant phase(s)** — especially those for which $|c_j|^2$ is largest. We will be using the ground state obtained from the VQE optimization as the trial state for the SPE algorithm."
      ]
    },
    {
      "cell_type": "code",
      "execution_count": null,
      "id": "3edb6cec",
      "metadata": {},
      "outputs": [
        {
          "name": "stdout",
          "output_type": "stream",
          "text": [
            "Overlap between the chosen state and the exact grounds state vector:  9.4e-01\n"
          ]
        }
      ],
      "source": [
        "from quri_parts.qulacs.simulator import evaluate_state_to_vector\n",
        "\n",
        "gs_overlap = np.abs(evaluate_state_to_vector(Z2_bound_state).vector @ vecs[:, 0])**2\n",
        "print(f\"Overlap between the chosen state and the exact grounds state vector: {gs_overlap: .1e}\")"
      ]
    },
    {
      "cell_type": "markdown",
      "id": "3f82b2d0",
      "metadata": {},
      "source": [
        "### Hadamard Test"
      ]
    },
    {
      "cell_type": "markdown",
      "id": "675b296c",
      "metadata": {},
      "source": [
        "The **Hadamard test** is the core measurement primitive in SPE. It enables estimation of the complex-valued function:\n",
        "\n",
        "$$\n",
        "\\hat{\\mu}(t) = \\langle \\psi | U(t) |\\psi \\rangle = \\langle \\psi | e^{-iHt} | \\psi \\rangle = \\sum_j |c_j|^2 e^{-i \\lambda_j t}\n",
        "$$\n",
        "where $ |\\psi\\rangle = \\sum_j c_j |\\phi_j\\rangle $ is the trial state, and $ U(t) $ evolves under the Hamiltonian $ H $."
      ]
    },
    {
      "cell_type": "markdown",
      "id": "3a3ab9b2",
      "metadata": {},
      "source": [
        "To perform the Hadamard test we first calculate the state  $\\frac{1}{\\sqrt{2}} \\left( |0\\rangle + |1\\rangle \\right) \\otimes |\\psi\\rangle$ We then apply the unitary operator on $|\\psi\\rangle$ conditioned on the first qubit to obtain the state  $\\frac{1}{\\sqrt{2}} \\left( |0\\rangle \\otimes |\\psi\\rangle + |1\\rangle \\otimes U |\\psi\\rangle \\right).$  \n",
        "\n",
        "We then apply the **Hadamard gate** to the first qubit, yielding  $\\frac{1}{2} \\left( |0\\rangle \\otimes (I + U) |\\psi\\rangle + |1\\rangle \\otimes (I - U) |\\psi\\rangle \\right).$\n",
        "\n",
        "Measuring the first qubit, the result is $|0\\rangle$ with probability $\\frac{1}{4} \\langle \\psi | (I + U^\\dagger)(I + U) | \\psi \\rangle $ in which case we output 1. \n",
        "\n",
        "The result is $|1\\rangle$ with probability $\\frac{1}{4} \\langle \\psi | (I - U^\\dagger)(I - U) | \\psi \\rangle $\n",
        ", in which case we output -1.  \n",
        "\n",
        "The expected value of the output will then be the difference between the two probabilities, which is $\\frac{1}{2} \\langle \\psi | (U^\\dagger + U) | \\psi \\rangle = \\text{Re} \\langle \\psi | U | \\psi \\rangle.$\n",
        "\n",
        "To obtain a random variable whose expectation is  $\\text{Im} \\langle \\psi | U | \\psi \\rangle$  follow exactly the same procedure but start with $\\frac{1}{\\sqrt{2}} \\left( |0\\rangle - i |1\\rangle \\right) \\otimes |\\psi\\rangle$"
      ]
    },
    {
      "cell_type": "markdown",
      "id": "ba4ded19",
      "metadata": {},
      "source": [
        "#### Qubit Hamiltonian and Trotterization\n",
        "\n",
        "The SPE algorithm esimtates $<e^{-iHt}>$ using Hadamard Test on different evolution time $t$ to obtain $\\hat{\\mu}(t)$. We can then take the Fourier transform of $\\hat{\\mu}(t)$ to find the spectral denisty $\\mu(\\lambda)$ — the phases (eigenvalues) weighted by $|c_j|^2$. \n",
        "\n",
        "Now, in order to perform $U = e^{-iHt}$ in Hadamard test, we require Trotterization on near term devices to approximate the exponential of a Hamiltonian as a sequence of simple unitary operations. In QURI SDK we need to encode our Hamiltonian into a controlled time evolution circuit U = $e^{-i H t}$ using time evolution with Trotterization. This is done by wrapping the hamiltonian into `QubitHamiltonianInput` for encoding into a circuit later."
      ]
    },
    {
      "cell_type": "code",
      "execution_count": null,
      "id": "c46af543",
      "metadata": {},
      "outputs": [],
      "source": [
        "from quri_algo.problem import QubitHamiltonianInput\n",
        "\n",
        "qubit_hamiltonian = QubitHamiltonianInput(n_qubits, hamiltonian)"
      ]
    },
    {
      "cell_type": "markdown",
      "id": "ff73c458",
      "metadata": {},
      "source": [
        "The SPE algorithm requires an esimtation of $<e^{-iHt}>$ on different evolution time $t$. We build an estimator based on Hadamard test with Trotterized time evolution operator."
      ]
    },
    {
      "cell_type": "code",
      "execution_count": null,
      "id": "4d4b474a",
      "metadata": {},
      "outputs": [],
      "source": [
        "from quri_parts.qulacs.sampler import create_qulacs_vector_sampler\n",
        "from quri_algo.circuit.time_evolution.trotter_time_evo import TrotterControlledTimeEvolutionCircuitFactory\n",
        "from quri_algo.core.estimator.time_evolution_estimator.trotter import TrotterTimeEvolutionHadamardTest\n",
        "\n",
        "\n",
        "# Setting the num_trotter steps to 30\n",
        "trotter_concotrolled_time_evo_circuit_factory = (\n",
        "    TrotterControlledTimeEvolutionCircuitFactory(qubit_hamiltonian, n_trotter=30)\n",
        ")\n",
        "\n",
        "# Time-evolution with t=1\n",
        "c_time_evo = trotter_concotrolled_time_evo_circuit_factory(evolution_time=1)\n",
        "\n",
        "sampler = create_qulacs_vector_sampler()\n",
        "trotter_time_evolution_estimator = TrotterTimeEvolutionHadamardTest(qubit_hamiltonian, sampler, 50)"
      ]
    },
    {
      "cell_type": "markdown",
      "id": "bb996b41",
      "metadata": {},
      "source": [
        "### LT22"
      ]
    },
    {
      "cell_type": "markdown",
      "id": "fa108586",
      "metadata": {},
      "source": [
        "LT22 refers to the Low-Tensor 2022 method for spectral estimation. The core idea is to take the Fourier transform of the estimated spectral density $\\mu(\\lambda)$ to obtain the eigenvalues of the Hamiltonian. From the Fourier transform, the spectrum ${E_j}$ appears as peaks, and the heights of the peaks estimate $|c_j|^2$, i.e., the overlap of $|\\psi\\rangle$ with each eigenstate.ute the Fourier transform."
      ]
    },
    {
      "cell_type": "code",
      "execution_count": null,
      "id": "a038b31a",
      "metadata": {},
      "outputs": [
        {
          "name": "stdout",
          "output_type": "stream",
          "text": [
            "The obtained ground state energy is -15.321354631241611\n",
            "The error is = 0.0012405198391665095\n"
          ]
        }
      ],
      "source": [
        "from quri_algo.algo.phase_estimation.spe import StepFunctionParam\n",
        "from quri_algo.algo.phase_estimation.spe.lt22 import SingleSignalLT22GSEE\n",
        "\n",
        "# Initializing the parameters for \n",
        "d_max = 1000\n",
        "delta = 1e-4\n",
        "n_sample = 10000\n",
        "tau = 1 / 20\n",
        "eta = 0.4\n",
        "\n",
        "signal_param = StepFunctionParam(d=d_max, delta=delta, n_sample=n_sample)\n",
        "lt22_algorithm = SingleSignalLT22GSEE(trotter_time_evolution_estimator, tau=tau)\n",
        "spe_result = lt22_algorithm(Z2_bound_state, signal_param, eta)\n",
        "\n",
        "lt22_gs_energy = spe_result.phase / tau\n",
        "print(f\"The obtained ground state energy is {lt22_gs_energy}\")\n",
        "print(f\"The error is = {abs(lt22_gs_energy - np.min(vals))}\")"
      ]
    },
    {
      "cell_type": "markdown",
      "id": "65858ec6",
      "metadata": {},
      "source": [
        "Add summary of the results.\n",
        "\n",
        "The obatined ground state energy is really close to the exact ground state energy. But SPE is extremely slow and does not return the ground state wavefunction needed for calculating properties e.g. magnetic susceptibility, correlation length etc. To resolve this, we will be using QSCI (Quantum Selected Configuration Interaction) as explained in the next section."
      ]
    },
    {
      "cell_type": "markdown",
      "id": "19d3ac06",
      "metadata": {},
      "source": [
        "## **QSCI**"
      ]
    },
    {
      "cell_type": "markdown",
      "id": "f1a1a2c0",
      "metadata": {},
      "source": [
        "Quantum Selected Configuration Interaction (QSCI) is a hybrid quantum-classical algorithms for calculating the ground- and excited-state energies for a given Hamiltonian. It works on top of an approximate ground state estimated using VQE or by some other method. Then, by sampling the state in the computational basis, which is hard for classical computation in general, one can identify the basis states that are important for reproducing the ground state. The Hamiltonian in the subspace spanned by those important configurations is diagonalized on classical computers to output the ground-state energy and the corresponding eigenvector. The excited-state energies can be obtained similarly. The result is robust against statistical and physical errors. For further details, refer to this [notebook](https://github.com/QunaSys/quri-sdk-notebooks/blob/main/quri_sdk_notebooks/examples/0_quri-algo-vm/0_qsci/0_qsci.ipynb) or the [original paper](https://arxiv.org/abs/2302.11320)."
      ]
    },
    {
      "cell_type": "code",
      "execution_count": null,
      "id": "6725855c",
      "metadata": {},
      "outputs": [],
      "source": [
        "BASIS_STATES = 2000\n",
        "TOTAL_SHOTS = 2000000"
      ]
    },
    {
      "cell_type": "code",
      "execution_count": null,
      "id": "82b59093",
      "metadata": {},
      "outputs": [],
      "source": [
        "from quri_parts.qulacs.sampler import create_qulacs_vector_concurrent_sampler\n",
        "from quri_parts_qsci import qsci\n",
        "\n",
        "sampler = create_qulacs_vector_concurrent_sampler()\n",
        "eigs, ground_state = qsci(\n",
        "    hamiltonian, [Z2_bound_state], sampler, total_shots=TOTAL_SHOTS, num_states_pick_out=BASIS_STATES\n",
        ")"
      ]
    },
    {
      "cell_type": "code",
      "execution_count": null,
      "id": "ee2b19ef",
      "metadata": {},
      "outputs": [
        {
          "name": "stdout",
          "output_type": "stream",
          "text": [
            "Ground state energy as per QSCI: -15.32059341957612\n",
            "Error (QSCI Ground energy - Actual Ground State energy): 0.0020017315046576556\n"
          ]
        }
      ],
      "source": [
        "print(\"Ground state energy as per QSCI:\", eigs[0])\n",
        "print(\"Error (QSCI Ground energy - Actual Ground State energy):\", np.abs(eigs[0] - np.min(vals)))"
      ]
    },
    {
      "cell_type": "markdown",
      "id": "b5afee6d",
      "metadata": {},
      "source": [
        "As you can observe, QSCI is extremely fast with accuracy comparable to SPE. To further increase the accuracy, you can increase the number of basis state or total shots. "
      ]
    },
    {
      "cell_type": "markdown",
      "id": "171a7352",
      "metadata": {},
      "source": [
        "## **Quantum Phase Transition**:\n",
        "\n",
        "Quantum phase transition is defined as the phenomenon where a major re-structuring of the ground state of a Quantum mechanical system occurs as a parameter of the Hamiltonian of the system is varied.\n",
        "\n",
        "In Transverse Field Ising Model between the limits, $h << J$ and $h >> J$, the nature of the ground state changes. When $h >> J$ there are two ground states, with opposite signs of magnetization. When $J >> h$ there is a single ground state with zero magnetization. The transverse Ising model is interesting because it exhibits a second order “quantum phase transition” at a critical value of $\\frac{h}{J}$. Here, a doublet of degenerate ground states, each with nonzero spontaneous magnetization must merge to form a unique ground state with zero magnetization. The quantum phase transition is of “second order” because the ground state energy, as a function of the parameter which is being varied to find the phase transition, has a discontinuous second derivative."
      ]
    },
    {
      "cell_type": "markdown",
      "id": "86b53ec9",
      "metadata": {},
      "source": [
        "#### Computing ground state for J/h ratio in [0.90, 1.10]"
      ]
    },
    {
      "cell_type": "code",
      "execution_count": null,
      "id": "81fb5a0b",
      "metadata": {},
      "outputs": [],
      "source": [
        "from quri_parts.core.state import QuantumStateVector\n",
        "\n",
        "def convert_to_qsv(ground_state):\n",
        "    vec = np.zeros(2**n_qubits)\n",
        "    coeff, cb_states = ground_state[0]\n",
        "\n",
        "    for i in range(len(coeff)):\n",
        "        vec[cb_states[i].bits] = coeff[i]\n",
        "\n",
        "    qsv = QuantumStateVector(n_qubits, vec)\n",
        "    return qsv\n",
        "\n",
        "qsv = convert_to_qsv(ground_state)\n"
      ]
    },
    {
      "cell_type": "code",
      "execution_count": null,
      "id": "6ef17d12",
      "metadata": {},
      "outputs": [],
      "source": [
        "ground_states = []\n",
        "h = np.linspace(0.92, 1.08, 50)\n",
        "params = Z2_params\n",
        "\n",
        "for i in h:\n",
        "    hamiltonian = construct_TFIM_hamiltonian(J, i, n_qubits)\n",
        "    vqe_state = vqe(z2_parametric_circuit, hamiltonian, init_params=params)\n",
        "    params = vqe_state[2]\n",
        "    eigs, ground_state = qsci(\n",
        "        hamiltonian, [vqe_state[0]], sampler, total_shots=TOTAL_SHOTS, num_states_pick_out=BASIS_STATES\n",
        "    )\n",
        "    ground_states.append(convert_to_qsv(ground_state))"
      ]
    },
    {
      "cell_type": "markdown",
      "id": "c4c4aa77",
      "metadata": {},
      "source": [
        "### **Magnetization**\n",
        "\n",
        "The magnetization of the system is the sum of magnetic moment per spin. Here by magnetization we mean the Longitudinal Magnetization along the Z-axis.\n",
        "\n",
        "$$\n",
        "M_z = \\langle \\sum_{n=1}^N \\sigma_n^z \\rangle\n",
        "$$"
      ]
    },
    {
      "cell_type": "code",
      "execution_count": null,
      "id": "a38cafdf",
      "metadata": {},
      "outputs": [],
      "source": [
        "from quri_parts.qulacs.estimator import create_qulacs_vector_estimator\n",
        "qulacs_estimator = create_qulacs_vector_estimator()\n",
        "\n",
        "magnetization_operator = Operator()\n",
        "for i in range(n_qubits):\n",
        "    pauli_index = pauli_label('Z'+str(i))\n",
        "    magnetization_operator.add_term(pauli_index, 1)\n",
        "\n",
        "def calculate_magnetization(quantum_state):\n",
        "    return 1/n_qubits * np.real(qulacs_estimator(magnetization_operator, quantum_state))[0]\n",
        "    "
      ]
    },
    {
      "cell_type": "code",
      "execution_count": null,
      "id": "17ba3034",
      "metadata": {},
      "outputs": [
        {
          "name": "stdout",
          "output_type": "stream",
          "text": [
            "Magnetization for Z2 Ansatz Ground State Obtained: 0.6399753275994098\n"
          ]
        }
      ],
      "source": [
        "print(\"Magnetization for Z2 Ansatz Ground State Obtained:\", calculate_magnetization(Z2_bound_state))"
      ]
    },
    {
      "cell_type": "code",
      "execution_count": null,
      "id": "335c573f",
      "metadata": {},
      "outputs": [
        {
          "name": "stdout",
          "output_type": "stream",
          "text": [
            "Magnetization for QSCI Ground State Obtained: 0.7091375379629709\n"
          ]
        }
      ],
      "source": [
        "print(\"Magnetization for QSCI Ground State Obtained:\", calculate_magnetization(convert_to_qsv(ground_state)))"
      ]
    },
    {
      "cell_type": "markdown",
      "id": "c911e54e",
      "metadata": {},
      "source": [
        "#### **Magnetic Susceptibility**\n",
        "\n",
        "The *magnetic susceptibility* $\\chi$ is a measure of how the magnetization of a system responds to an external magnetic field. It is defined as:\n",
        "$$\n",
        "\\chi = \\frac{\\partial M}{\\partial h}\n",
        "$$\n",
        "where $M$ is the magnetization and $h$ is the transverse field. The magnetic susceptibility diverges at the critical point, indicating a phase transition."
      ]
    },
    {
      "cell_type": "code",
      "execution_count": null,
      "id": "e746f126",
      "metadata": {},
      "outputs": [
        {
          "data": {
            "text/plain": [
              "[<matplotlib.lines.Line2D at 0x1696c1970>]"
            ]
          },
          "execution_count": 93,
          "metadata": {},
          "output_type": "execute_result"
        },
        {
          "data": {
            "image/png": "[encoded data removed]",
            "text/plain": [
              "<Figure size 640x480 with 1 Axes>"
            ]
          },
          "metadata": {},
          "output_type": "display_data"
        }
      ],
      "source": [
        "magnetization = []\n",
        "s = np.linspace(0.985, 1.025, 13)\n",
        "\n",
        "for i in range(20, 33):\n",
        "    magnetization.append(calculate_magnetization(ground_states[i]))\n",
        "\n",
        "plt.xlabel('h')\n",
        "plt.ylabel('M')\n",
        "plt.plot(s, magnetization)"
      ]
    },
    {
      "cell_type": "code",
      "execution_count": null,
      "id": "38a7db09",
      "metadata": {},
      "outputs": [
        {
          "data": {
            "text/plain": [
              "[<matplotlib.lines.Line2D at 0x16973d160>]"
            ]
          },
          "execution_count": 94,
          "metadata": {},
          "output_type": "execute_result"
        },
        {
          "data": {
            "image/png": "[encoded data removed]",
            "text/plain": [
              "<Figure size 640x480 with 1 Axes>"
            ]
          },
          "metadata": {},
          "output_type": "display_data"
        }
      ],
      "source": [
        "plt.xlabel('h')\n",
        "plt.ylabel('Χ')\n",
        "plt.plot(s, np.gradient(magnetization, h[1] - h[0]))"
      ]
    },
    {
      "cell_type": "markdown",
      "id": "a764755d",
      "metadata": {},
      "source": [
        "### **Correlation Length and Divergence at Critical point**\n",
        "\n",
        "The *Correlation length* of a Quantum many body system quantifies how spins at different lattice sites are correlated for the ground state. For the *Transverse Field Ising Model (TFIM)*, it is defined as:\n",
        "\n",
        "$$\n",
        "C(r) = \\langle \\sigma_i^x \\sigma_{i+r}^x \\rangle - \\langle \\sigma_i^x \\rangle \\langle \\sigma_{i+r}^x \\rangle,\n",
        "$$\n",
        "\n",
        "where $r = |i - j|$ is the distance between spins. The *correlation length* $\\xi$ is the characteristic length scale over which these correlations decay."
      ]
    },
    {
      "cell_type": "markdown",
      "id": "cebe8211",
      "metadata": {},
      "source": [
        "We will first define the various operators, you see in the above formula"
      ]
    },
    {
      "cell_type": "code",
      "execution_count": null,
      "id": "731be0a4",
      "metadata": {},
      "outputs": [],
      "source": [
        "def C_r(quantum_state, r):\n",
        "    pair_corr_operator = Operator()\n",
        "    for i in range(n_qubits):\n",
        "        if i+r >= n_qubits:\n",
        "            break\n",
        "        pauli_index = pauli_label('X'+str(i)+' X'+str(i+r))\n",
        "        pair_corr_operator.add_term(pauli_index, 1)  \n",
        "\n",
        "    normal_corr_operator = Operator()\n",
        "    for i in range(n_qubits):\n",
        "        pauli_index = pauli_label('X'+str(i))\n",
        "        normal_corr_operator.add_term(pauli_index, 1) \n",
        "\n",
        "    shifted_corr_operator = Operator()\n",
        "    for i in range(n_qubits):\n",
        "            if i+r >= n_qubits:\n",
        "                break   \n",
        "            pauli_index = pauli_label('X'+str(i+r))\n",
        "            shifted_corr_operator.add_term(pauli_index, 1)\n",
        "            \n",
        "    return (\n",
        "        qulacs_estimator(pair_corr_operator, quantum_state).value -\n",
        "        qulacs_estimator(normal_corr_operator, quantum_state).value * qulacs_estimator(shifted_corr_operator, quantum_state).value\n",
        "    )/n_qubits"
      ]
    },
    {
      "cell_type": "code",
      "execution_count": null,
      "id": "0d51692c",
      "metadata": {},
      "outputs": [
        {
          "data": {
            "text/plain": [
              "[<matplotlib.lines.Line2D at 0x145e26270>]"
            ]
          },
          "execution_count": 37,
          "metadata": {},
          "output_type": "execute_result"
        },
        {
          "data": {
            "image/png": "[encoded data removed]",
            "text/plain": [
              "<Figure size 640x480 with 1 Axes>"
            ]
          },
          "metadata": {},
          "output_type": "display_data"
        }
      ],
      "source": [
        "r = np.arange(1, n_qubits)\n",
        "correlation = []\n",
        "\n",
        "for i in r:\n",
        "    correlation.append(np.real(C_r(qsv, i)))\n",
        "\n",
        "plt.xlabel('Distance (r)')\n",
        "plt.ylabel('Correlation C(r)')\n",
        "plt.plot(r, correlation)"
      ]
    },
    {
      "cell_type": "markdown",
      "id": "ce115429",
      "metadata": {},
      "source": [
        "Fitting the correlation function to an exponential decay form:\n",
        "$$\n",
        "C(r) \\sim e^{-r/\\xi},\n",
        "$$\n",
        "the correlation length $\\xi$ can be extracted from the decay rate. Near the critical point, the correlation length diverges, indicating long-range correlations in the system."
      ]
    },
    {
      "cell_type": "code",
      "execution_count": null,
      "id": "b6b14ffa",
      "metadata": {},
      "outputs": [
        {
          "name": "stdout",
          "output_type": "stream",
          "text": [
            "The correlation length ξ is: 1.4493443902829155\n"
          ]
        }
      ],
      "source": [
        "from scipy.optimize import curve_fit\n",
        "\n",
        "def exp_decay(r, xi, A): \n",
        "    return A + np.exp(-r/xi)\n",
        "\n",
        "popt, _ = curve_fit(exp_decay, r, np.real(correlation))\n",
        "print(\"The correlation length ξ is:\", popt[0])\n"
      ]
    },
    {
      "cell_type": "markdown",
      "id": "c56f0b37",
      "metadata": {},
      "source": [
        "Now we will be calculating the correlation length for the Transverse Field Ising Model using the VQE optimized ground state wavefunction further improved using QSCI for different values of h i.e. different J/h ratios. The correlation length should diverge at the critical point, which is a characteristic feature of quantum phase transitions."
      ]
    },
    {
      "cell_type": "code",
      "execution_count": null,
      "id": "ad0ec577",
      "metadata": {},
      "outputs": [],
      "source": [
        "params = Z2_params\n",
        "h = np.linspace(0.95, 1.05, 25)\n",
        "correlation_len = []\n",
        "\n",
        "for i in range(len(h)):\n",
        "    correlation = []\n",
        "    for j in range(1, n_qubits):\n",
        "        corr = C_r(ground_states[i], j)\n",
        "        correlation.append(corr)\n",
        "\n",
        "    #Fitting to exponential decay curve\n",
        "    popt, _ = curve_fit(exp_decay, r, np.real(correlation))\n",
        "    correlation_len.append(popt[0])"
      ]
    },
    {
      "cell_type": "code",
      "execution_count": null,
      "id": "e499e653",
      "metadata": {},
      "outputs": [
        {
          "data": {
            "text/plain": [
              "[<matplotlib.lines.Line2D at 0x168a6c2c0>]"
            ]
          },
          "execution_count": 58,
          "metadata": {},
          "output_type": "execute_result"
        },
        {
          "data": {
            "image/png": "[encoded data removed]",
            "text/plain": [
              "<Figure size 640x480 with 1 Axes>"
            ]
          },
          "metadata": {},
          "output_type": "display_data"
        }
      ],
      "source": [
        "plt.title('Correlation length (ξ) vs h/J')\n",
        "plt.xlabel('h/J')\n",
        "plt.ylabel('Correlation length ξ')\n",
        "plt.plot(h, correlation_len)"
      ]
    },
    {
      "cell_type": "markdown",
      "id": "405ea39f",
      "metadata": {},
      "source": [
        "This indicates that the system has an ordered state for $h/J<1$ and becomes disordered as $h/J>1$. The above graph shows that $h/J = 1$ is the critical point where the correlation length diverges."
      ]
    },
    {
      "cell_type": "markdown",
      "id": "3ac2d95d",
      "metadata": {},
      "source": [
        "## **Reference*:*\n",
        "\n",
        "[Transverse Field Ising Model Tutorial](https://phas.ubc.ca/~seme/516/smtutorial2.pdf)"
      ]
    }
  ],
  "metadata": {
    "language_info": {
      "name": "python",
      "pygments_lexer": "ipython3"
    }
  },
  "nbformat": 4,
  "nbformat_minor": 5
}
