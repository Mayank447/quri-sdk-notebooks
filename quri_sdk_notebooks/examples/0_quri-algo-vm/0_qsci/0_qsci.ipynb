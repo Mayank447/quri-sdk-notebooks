{
  "cells": [
    {
      "cell_type": "markdown",
      "metadata": {},
      "source": [
        "# Quantum Selected Configuration Interaction\n",
        "\n",
        "In this tutorial we will introduce Quantum Selected Configuration Interaction (QSCI) from the quri-parts-qsci package in the context of early fault tolerant quantum computing (EFTQC)\n",
        "\n",
        "## Overview\n",
        "\n",
        "[QSCI](https://arxiv.org/abs/2302.11320) is a quantum algorithm that produces approximate ground states of some quantum Hamiltonian. This is done by sampling a trial wave-function that is believed to be an approximate solution to the problem and then reconstructing the Hamiltonian in the space spanned by the most significant computational basis states sampled.\n",
        "\n",
        "- QSCI is sometimes considered an EFTQC algorithm because it benefits from using deep ansatze\n",
        "- The accuracy of QSCI comes from the matrix diagonalization which is performed on classical hardware\n",
        "\n",
        "In this notebook, we will use qsci to solve a small quantum chemistry problem. First we use coupled cluster (CC) theory to obtain an approximate solution, which we encode with the unitary coupled cluster singles and doubles (UCCSD) ansatz. Finally we will estimate the fidelity of the final state obtained by real devices. The flow and major take-aways from this notebook will be\n",
        "\n",
        "1. Using `pyscf` to define an small molecule and obtain its qubit Hamiltonian as well as the CC ground state\n",
        "2. Importing the `TrotterUCCSD` ansatz from `quri_parts.openfermion.ansatz` and populating its variational parameters using the CC solution\n",
        "3. By using the `TrotterUCCSD` ansatz state, use `qsci` from `quri_parts_qsci` to obtain the QSCI ground state and ground state energy\n",
        "4. Using QURI Parts' transpiler library to transpile the resulting circuits\n",
        "5. Estimating the fidelity using QURI VM\n",
        "\n",
        "To check out the source-code we use for qsci please have a look at our [open source repository](https://github.com/QunaSys/quri-parts-qsci/)\n",
        "\n",
        "## Prerequisites\n",
        "\n",
        "Although this notebook is pretty self-contained, users will benefit from first studying\n",
        "\n",
        "- [Molecular Hamiltonian generation](https://quri-parts.qunasys.com/docs/tutorials/quantum-chemistry/hamiltonian/hamiltonian/)\n",
        "- [Sampling estimation](https://quri-parts.qunasys.com/docs/tutorials/basics/sampling_estimation/)"
      ]
    },
    {
      "cell_type": "markdown",
      "metadata": {},
      "source": [
        "## Setup and methodology testing\n",
        "\n",
        "We start with a simple problem to test our setup and methodology. This is more like a sanity check than a real test, but we want to\n",
        "\n",
        "* Define a $\\textup{H}_2$ molecule\n",
        "* Verify that CC solution works\n",
        "* Verify that the trotterUCCSD solution (almost) replicates the CC energy\n",
        "* Verify that QSCI improves on the CC energy\n",
        "\n",
        "We first define the molecule below using `pyscf` and then using the `openfermion` submodule of `quri_parts` we convert it from a fermionic Hamiltonian to one that can operate on qubits. A lot of steps, such as applying the Jordan-Wigner transformation are performed for us automatically. If you are interested in learning about them in more detail, please see the QURI Parts documentation on the [fermion-to-qubit mapping](https://quri-parts.qunasys.com/docs/tutorials/basics/mapping/) and [molecular Hamiltonians](https://quri-parts.qunasys.com/docs/tutorials/quantum-chemistry/hamiltonian/hamiltonian/)."
      ]
    },
    {
      "cell_type": "code",
      "execution_count": null,
      "metadata": {},
      "outputs": [
        {
          "name": "stdout",
          "output_type": "stream",
          "text": [
            "The exact ground state energy is: -1.1011503302326187\n",
            "The coupled cluster singles and doubles energy is: -1.1011503302444787\n"
          ]
        }
      ],
      "source": [
        "import numpy as np\n",
        "\n",
        "from pyscf import gto, scf, cc\n",
        "\n",
        "from quri_parts.core.operator import get_sparse_matrix\n",
        "from quri_parts.pyscf.mol import get_spin_mo_integrals_from_mole\n",
        "from quri_parts.openfermion.mol import get_qubit_mapped_hamiltonian\n",
        "from quri_parts.openfermion.ansatz import TrotterUCCSD\n",
        "\n",
        "\n",
        "mole = gto.M(atom=\"H 0 0 0; H 0 0 1\")\n",
        "mf = scf.RHF(mole).run(verbose=0)\n",
        "hamiltonian, mapping = get_qubit_mapped_hamiltonian(\n",
        "    *get_spin_mo_integrals_from_mole(mole, mf.mo_coeff)\n",
        ")\n",
        "\n",
        "\n",
        "vals, vecs = np.linalg.eigh(get_sparse_matrix(hamiltonian).toarray())\n",
        "\n",
        "casci_gs_e = np.min(vals)\n",
        "ccsd = cc.CCSD(mf).run(verbose=0)\n",
        "\n",
        "print(\"The exact ground state energy is:\", casci_gs_e)\n",
        "print(\"The coupled cluster singles and doubles energy is:\", ccsd.e_tot)"
      ]
    },
    {
      "cell_type": "markdown",
      "metadata": {},
      "source": [
        "The coupled cluster energy is almost identical to the exact ground state energy. This is not surprising for a small problem like $\\textup{H}_2$, but in general we expect there to be some error in the CCSD result."
      ]
    },
    {
      "cell_type": "markdown",
      "metadata": {},
      "source": [
        "### TrotterUCCSD\n",
        "\n",
        "In QURI Parts the `TrotterUCCSD` ansatz is available. It is a quantum circuit version of the CCSD state which is generated by applying an excitation operator to a reference state (usually the Hartree-Fock state). The singles and doubles cluster operators\n",
        "$$\n",
        "\\hat{T}_1 = \\sum_i \\sum_a t^i_a \\hat{a}_a^\\dagger\\hat{a}_i\n",
        "$$\n",
        "$$\n",
        "\\hat{T}_2 = \\frac{1}{4} \\sum_i \\sum_a t^{ij}_{ab} \\hat{a}_a^\\dagger\\hat{a}_b^\\dagger\\hat{a}_j\\hat{a}_i\n",
        "$$\n",
        "are used to generate the excitation operator\n",
        "$$\n",
        "e^T \\approx e^{\\hat{T}_1 + \\hat{T}_2}\n",
        "$$\n",
        "in CCSD. The RHS is an approximation because $T$ may include higher order terms representing triple or higher excitations, which are not accounted for in CCSD. The ground state energy in coupled cluster theory is then\n",
        "$$\n",
        "\\braket{\\Psi_0|e^{-\\hat{T}_1-\\hat{T}_2}\\hat{H}e^{\\hat{T}_1 + \\hat{T}_2}|\\Psi_0} = E_\\textup{CCSD}\n",
        "$$\n",
        "\n",
        "The excitation operator generates a set of states from a set of excited reference states, which must be orthogonal. This condition taken together with the above equation results in a set of non-linear algebraic equations, the coupled cluster equations, which are solved in order to obtain tensors $t^i_a$ and $t^{ij}_{ab}$ so as to minimize the ground state energy.\n",
        "\n",
        "The Unitary coupled cluster (UCC) ansatz constructs unitary operators by taking a modified approach using anti-Hermitian cluster operators, constructed from the cluster operators from CC theory. Generically, the UCC energy is then obtained as\n",
        "$$\n",
        "\\braket{\\Psi_0|e^{-\\hat{T}+\\hat{T}^\\dagger}\\hat{H}e^{\\hat{T} - \\hat{T}^\\dagger}|\\Psi_0} = E_\\textup{UCC},\n",
        "$$\n",
        "and $\\hat{T}$ may again be truncated to include only singles and doubles if needed. The excitation operator can be generated through a Trotter decomposition, [which can be realized as a quantum circuit ansatz](https://pubs.acs.org/doi/10.1021/acs.jpca.3c02781). That is the `TrotterUCCSD` ansatz, which we will use in the following."
      ]
    },
    {
      "cell_type": "markdown",
      "metadata": {},
      "source": [
        "First we need a function that can convert the one-body and two-body cluster operators into parameters for the `TrotterUCCSD` ansatz."
      ]
    },
    {
      "cell_type": "code",
      "execution_count": null,
      "metadata": {},
      "outputs": [],
      "source": [
        "from typing import Sequence\n",
        "\n",
        "import numpy.typing as npt\n",
        "\n",
        "\n",
        "def ccsd_param_to_circuit_param(\n",
        "    uccsd: TrotterUCCSD,\n",
        "    n_electrons: int,\n",
        "    t1: npt.NDArray[np.complex128],\n",
        "    t2: npt.NDArray[np.complex128],\n",
        ") -> Sequence[float]:\n",
        "    in_param_list = uccsd.param_mapping.in_params\n",
        "    param_list = []\n",
        "\n",
        "    for param in in_param_list:\n",
        "        name_split = param.name.split(\"_\")\n",
        "        if name_split[0] == \"s\":\n",
        "            _, i_str, j_str = name_split\n",
        "            i, j = int(i_str), int(j_str) - n_electrons // 2\n",
        "            param_list.append(t1[i, j])\n",
        "\n",
        "        if name_split[0] == \"d\":\n",
        "            _, i_str, j_str, a_str, b_str = name_split\n",
        "            i, j, b, a = (\n",
        "                int(i_str),\n",
        "                int(j_str),\n",
        "                int(b_str) - n_electrons // 2,\n",
        "                int(a_str) - n_electrons // 2,\n",
        "            )\n",
        "            param_list.append(t2[i, j, a, b])\n",
        "    return param_list"
      ]
    },
    {
      "cell_type": "markdown",
      "metadata": {},
      "source": [
        "We specify the numer of trotter steps and other metaparameters in the trotter UCCSD ansatz below"
      ]
    },
    {
      "cell_type": "code",
      "execution_count": null,
      "metadata": {},
      "outputs": [],
      "source": [
        "TROTTER_STEPS = 1\n",
        "USE_SINGLES = True\n",
        "REDUCE_PARAMETER = True"
      ]
    },
    {
      "cell_type": "markdown",
      "metadata": {},
      "source": [
        "Then the following code will generate the ansatz prepared with parameters obtained using coupled cluster theory"
      ]
    },
    {
      "cell_type": "code",
      "execution_count": null,
      "metadata": {},
      "outputs": [
        {
          "data": {
            "text/plain": [
              "2"
            ]
          },
          "execution_count": 4,
          "metadata": {},
          "output_type": "execute_result"
        }
      ],
      "source": [
        "mole.nelectron"
      ]
    },
    {
      "cell_type": "code",
      "execution_count": null,
      "metadata": {},
      "outputs": [],
      "source": [
        "uccsd = TrotterUCCSD(\n",
        "    mole.nao * 2,\n",
        "    mole.nelectron,\n",
        "    trotter_number=TROTTER_STEPS,\n",
        "    use_singles=USE_SINGLES,\n",
        "    singlet_excitation=REDUCE_PARAMETER,\n",
        ")\n",
        "param = ccsd_param_to_circuit_param(uccsd, mole.nelectron, ccsd.t1, ccsd.t2)"
      ]
    },
    {
      "cell_type": "markdown",
      "metadata": {},
      "source": [
        "Let's check the energy obtained by the Trotterized UCCSD"
      ]
    },
    {
      "cell_type": "code",
      "execution_count": null,
      "metadata": {},
      "outputs": [
        {
          "name": "stdout",
          "output_type": "stream",
          "text": [
            "The coupled cluster singles and doubles energy is: -1.1011503302444787\n",
            "The Trotter unitary coupled cluster singles and doubles energy is: -1.1011464405909301\n"
          ]
        }
      ],
      "source": [
        "from quri_parts.qulacs.estimator import (\n",
        "    create_qulacs_vector_concurrent_parametric_estimator,\n",
        ")\n",
        "from quri_parts.core.state import quantum_state, apply_circuit\n",
        "\n",
        "hf_state = quantum_state(mole.nao * 2, bits=2**mole.nelectron - 1)\n",
        "estimator = create_qulacs_vector_concurrent_parametric_estimator()\n",
        "state = apply_circuit(uccsd, hf_state)\n",
        "estimate = estimator(hamiltonian, state, [param])\n",
        "print(\"The coupled cluster singles and doubles energy is:\", ccsd.e_tot)\n",
        "print(\n",
        "    \"The Trotter unitary coupled cluster singles and doubles energy is:\",\n",
        "    estimate[0].value.real,\n",
        ")"
      ]
    },
    {
      "cell_type": "markdown",
      "metadata": {},
      "source": [
        "Here we see that the Trotter UCCSD energy is very close to the CCSD energy."
      ]
    },
    {
      "cell_type": "markdown",
      "metadata": {},
      "source": [
        "### Noise\n",
        "\n",
        "We will incorporate a simple noise-model where only 2-qubit gates are assigned a physical error rate. The probability of error accumulates with the number of 2-qubit gates and we identify it with the probability of measuring a random quantum state when the circuit is executed. This is an implementation of depolarizing noise. Although this sounds like a complicated task, in QURI Parts, there is a straightforward way to do this. All we have to do is define our own sampler. We will do this by defining the `ConcurrentNoisySampler` and `ConcurrentNoisySamplingEstimator` below.\n",
        "\n",
        "In QURI Parts, a call to a sampler looks like\n",
        "\n",
        "`samples = sampler(circuits_shots_tuples)`\n",
        "\n",
        "Here `samples` is a dictionary of readout values mapped to the number of times the given qubit register was measured. `circuits_shots_tuples` is an iterable of tuples, each tuple containing a quantum circuit and a number of sampling shots to assign to that quantum circuit. If `sampler` is an ideal sampler, i.e. it is unaffected by noise, but generates samples from a probability distribution obtained from the density of the wave-function, then we can create a noisy sampler from it by writing a wrapper for it. As mentioned in the last paragraph we identify the probability of error with the probability of measuring a random state. Therefore, in addition to the ideal sampler, we need a noise sampler that samples a random state regardless of the input it receives. Whether or not a circuit is sampled with the noise sampler or the ideal sampler is determined randomly based on the error probability.\n",
        "\n",
        "In the code below we show how to write such a sampler and an estimator based on it."
      ]
    },
    {
      "cell_type": "code",
      "execution_count": null,
      "metadata": {},
      "outputs": [],
      "source": [
        "from collections import Counter\n",
        "from typing import Iterable, Optional\n",
        "\n",
        "import numpy as np\n",
        "from numpy.random import default_rng\n",
        "from quri_parts.circuit import NonParametricQuantumCircuit\n",
        "from quri_parts.circuit.gate_names import TWO_QUBIT_GATE_NAMES\n",
        "from quri_parts.core.sampling import ConcurrentSampler, MeasurementCounts\n",
        "from quri_parts.core.estimator import (\n",
        "    Estimate,\n",
        ")\n",
        "from quri_parts.core.estimator.sampling import (\n",
        "    create_sampling_estimator,\n",
        ")\n",
        "from quri_parts.core.measurement import bitwise_commuting_pauli_measurement\n",
        "from quri_parts.core.operator import Operator\n",
        "from quri_parts.core.sampling import (\n",
        "    PauliSamplingShotsAllocator,\n",
        ")\n",
        "from quri_parts.core.state import CircuitQuantumState\n",
        "from quri_parts.qulacs.sampler import create_qulacs_vector_concurrent_sampler\n",
        "\n",
        "\n",
        "def get_total_error_rate(\n",
        "    gate_error_rate_2q: float,\n",
        "    circuit_shots_tuples: Iterable[tuple[NonParametricQuantumCircuit, int]],\n",
        ") -> float:\n",
        "    r\"\"\"Returns the total error rate :math:`R` calculated from the user\n",
        "    specified error rate :math:`r`. This noise model assumes that 1-qubit gate\n",
        "    error is negligible and so only takes into account 2-qubit gates.\n",
        "\n",
        "    The total error is given by\n",
        "    :math: `R = 1 - (1 - r)^n_{2q}` where :math:`n_{2q}` is the number of 2-qubit gates.\n",
        "    \"\"\"\n",
        "    gates = circuit_shots_tuples.__iter__().__next__()[0].gates\n",
        "    n_2q_gates = sum(g.name in TWO_QUBIT_GATE_NAMES for g in gates)\n",
        "    fidelity = 1 - gate_error_rate_2q\n",
        "    total_error_rate = 1 - fidelity**n_2q_gates\n",
        "\n",
        "    return total_error_rate\n",
        "\n",
        "\n",
        "def split_circuits_shots_tuples(\n",
        "    total_error_rate: float,\n",
        "    circuit_shots_tuples: Iterable[tuple[NonParametricQuantumCircuit, int]],\n",
        ") -> tuple[\n",
        "    Iterable[tuple[NonParametricQuantumCircuit, int]],\n",
        "    Iterable[tuple[NonParametricQuantumCircuit, int]],\n",
        "]:\n",
        "    noise_circuit_shots_tuples: list[tuple[NonParametricQuantumCircuit, int]] = []\n",
        "    noise_free_circuit_shots_tuples: list[tuple[NonParametricQuantumCircuit, int]] = []\n",
        "    for c, s in circuit_shots_tuples:\n",
        "        noise_shot_counts = int(np.round(s * total_error_rate))\n",
        "        noise_circuit_shots_tuples.append((c, noise_shot_counts))\n",
        "        noise_free_circuit_shots_tuples.append((c, s - noise_shot_counts))\n",
        "\n",
        "    return noise_free_circuit_shots_tuples, noise_circuit_shots_tuples\n",
        "\n",
        "\n",
        "class NoiseSampler:\n",
        "    def __init__(self, seed: Optional[int] = None) -> None:\n",
        "        self._seed = seed\n",
        "        self._rng = default_rng(seed)\n",
        "\n",
        "    def _get_uniform_samples(self, n_qubits: int, n_shots: int) -> MeasurementCounts:\n",
        "        dim = 2**n_qubits\n",
        "        samples = self._rng.multinomial(\n",
        "            n_shots,\n",
        "            [\n",
        "                1 / dim,\n",
        "            ]\n",
        "            * dim,  # Each computational basis state is equally likely\n",
        "        )\n",
        "        measurement_counts = {}\n",
        "        for i, s in enumerate(samples):\n",
        "            measurement_counts[i] = s\n",
        "\n",
        "        return measurement_counts\n",
        "\n",
        "    def __call__(\n",
        "        self, circuit_shots_tuples: Iterable[tuple[NonParametricQuantumCircuit, int]]\n",
        "    ) -> Iterable[MeasurementCounts]:\n",
        "        measurement_counts = []\n",
        "        n_qubits = circuit_shots_tuples.__iter__().__next__()[0].qubit_count\n",
        "        for _, s in circuit_shots_tuples:\n",
        "            measurement_counts.append(self._get_uniform_samples(n_qubits, s))\n",
        "\n",
        "        return measurement_counts\n",
        "\n",
        "\n",
        "class ConcurrentNoisySampler:\n",
        "    def __init__(\n",
        "        self,\n",
        "        sampler: ConcurrentSampler,\n",
        "        error_rate_2q: float = 0,\n",
        "        seed: Optional[int] = None,\n",
        "    ) -> None:\n",
        "        self._sampler = sampler\n",
        "        self._noise_sampler = NoiseSampler(seed)\n",
        "        self._error_rate_2q = error_rate_2q\n",
        "        self._seed = seed\n",
        "\n",
        "    def _sample_with_noise(\n",
        "        self, circuit_shots_tuples: Iterable[tuple[NonParametricQuantumCircuit, int]]\n",
        "    ) -> Iterable[MeasurementCounts]:\n",
        "        # Implement depolarizing noise channel by calculating effective error rate.\n",
        "        # Interpret the error rate as the probaility that a sample will be random.\n",
        "        # Split into noise and noise-free samples, which are sampled separately.\n",
        "        # These samples are combined to obtain noisy samples.\n",
        "        total_error_rate = get_total_error_rate(\n",
        "            self._error_rate_2q, circuit_shots_tuples\n",
        "        )\n",
        "        (\n",
        "            noise_free_circuit_shots_tuples,\n",
        "            noise_circuit_shots_tuples,\n",
        "        ) = split_circuits_shots_tuples(total_error_rate, circuit_shots_tuples)\n",
        "        noise_free_measurement_counts = self._sampler(noise_free_circuit_shots_tuples)\n",
        "        noise_measurement_counts = self._noise_sampler(noise_circuit_shots_tuples)\n",
        "        measurement_counts = [\n",
        "            Counter(t) + Counter(u)\n",
        "            for t, u in zip(noise_measurement_counts, noise_free_measurement_counts)\n",
        "        ]\n",
        "\n",
        "        return measurement_counts\n",
        "\n",
        "    def _sample_without_noise(\n",
        "        self, circuit_shots_tuples: Iterable[tuple[NonParametricQuantumCircuit, int]]\n",
        "    ) -> Iterable[MeasurementCounts]:\n",
        "        measurement_counts = self._sampler(circuit_shots_tuples)\n",
        "\n",
        "        return measurement_counts\n",
        "\n",
        "    def __call__(\n",
        "        self, circuit_shots_tuples: Iterable[tuple[NonParametricQuantumCircuit, int]]\n",
        "    ) -> Iterable[MeasurementCounts]:\n",
        "        if self._error_rate_2q:\n",
        "            measurement_counts = self._sample_with_noise(circuit_shots_tuples)\n",
        "        else:\n",
        "            measurement_counts = self._sample_without_noise(circuit_shots_tuples)\n",
        "\n",
        "        return measurement_counts\n",
        "\n",
        "\n",
        "class ConcurrentNoisySamplingEstimator:\n",
        "    def __init__(\n",
        "        self,\n",
        "        n_shots: int,\n",
        "        allocator: PauliSamplingShotsAllocator,\n",
        "        error_rate: float = 0,\n",
        "        seed: Optional[int] = None,\n",
        "    ) -> None:\n",
        "        self._n_shots = n_shots\n",
        "        measurement_factory = bitwise_commuting_pauli_measurement\n",
        "        sampler = create_qulacs_vector_concurrent_sampler()\n",
        "        self._sampler = ConcurrentNoisySampler(sampler, error_rate, seed)\n",
        "        self._estimator = create_sampling_estimator(\n",
        "            total_shots=n_shots,\n",
        "            sampler=self._sampler,\n",
        "            measurement_factory=measurement_factory,\n",
        "            shots_allocator=allocator,\n",
        "        )\n",
        "\n",
        "    def __call__(\n",
        "        self,\n",
        "        operator: Operator,\n",
        "        raw_param_state: CircuitQuantumState,\n",
        "    ) -> Iterable[Estimate[complex]]:\n",
        "        estimates = self._estimator(operator, raw_param_state)\n",
        "\n",
        "        return estimates"
      ]
    },
    {
      "cell_type": "markdown",
      "metadata": {},
      "source": [
        "Let's try to get an estimate of the UCCSD energy using the above circuit with a modest physical error rate"
      ]
    },
    {
      "cell_type": "code",
      "execution_count": null,
      "metadata": {},
      "outputs": [
        {
          "name": "stdout",
          "output_type": "stream",
          "text": [
            "The coupled cluster singles and doubles energy is: -1.1011503302444787\n",
            "The noisy Trotter unitary coupled cluster singles and doubles energy is: -1.1013475570262052\n"
          ]
        }
      ],
      "source": [
        "from quri_parts.core.sampling.shots_allocator import create_proportional_shots_allocator\n",
        "\n",
        "ERROR_RATE = 2.0 * 10**-5\n",
        "TOTAL_SHOTS = 50000\n",
        "hf_state = quantum_state(mole.nao * 2, bits=2**mole.nelectron - 1)\n",
        "shots_allocator = create_proportional_shots_allocator()\n",
        "estimator = ConcurrentNoisySamplingEstimator(\n",
        "    n_shots=TOTAL_SHOTS, allocator=shots_allocator, error_rate=ERROR_RATE\n",
        ")\n",
        "state = apply_circuit(uccsd, hf_state)\n",
        "bound_state = state.bind_parameters(param)\n",
        "estimate = estimator(hamiltonian, bound_state)\n",
        "print(\"The coupled cluster singles and doubles energy is:\", ccsd.e_tot)\n",
        "print(\n",
        "    \"The noisy Trotter unitary coupled cluster singles and doubles energy is:\",\n",
        "    estimate.value.real,\n",
        ")"
      ]
    },
    {
      "cell_type": "markdown",
      "metadata": {},
      "source": [
        "The error is clearly high compared to previously, but it's not too bad"
      ]
    },
    {
      "cell_type": "markdown",
      "metadata": {},
      "source": [
        "### QSCI\n",
        "\n",
        "We then run [qsci](https://arxiv.org/abs/2302.11320). To run it we have to specify the number of shots, the Hamiltonian, approximate ground states to draw samples from and the number of states to pick out. QSCI is especially sensitive to the number of states picked out as this both determines the accuracy of the end result as well as the complexity of the classical diagonalization. $\\textup{H}_2$ has 2 electrons and in the STO-3g atomic orbital basis therefore 4 molecular orbitals, which each are represented by a qubit.\n",
        "\n",
        "Since the logical value of each bit represents its occupancy, the number of states of interest is limited to those with a total occupation of $2$. For this reason, even though there are 16 basis states available in the quantum register, only 6 of them are relevant. Let us see how far we can get with only 4 of those 6 states."
      ]
    },
    {
      "cell_type": "code",
      "execution_count": null,
      "metadata": {},
      "outputs": [],
      "source": [
        "BASIS_STATES = 4\n",
        "TOTAL_SHOTS = 50000"
      ]
    },
    {
      "cell_type": "markdown",
      "metadata": {},
      "source": [
        "We will use an ideal sampler for now"
      ]
    },
    {
      "cell_type": "code",
      "execution_count": null,
      "metadata": {},
      "outputs": [],
      "source": [
        "from quri_parts_qsci import qsci\n",
        "from quri_parts.qulacs.sampler import create_qulacs_vector_concurrent_sampler\n",
        "\n",
        "sampler = create_qulacs_vector_concurrent_sampler()\n",
        "bound_state = state.bind_parameters(param)\n",
        "eigs, _ = qsci(\n",
        "    hamiltonian, [bound_state], sampler, total_shots=TOTAL_SHOTS, num_states_pick_out=4\n",
        ")"
      ]
    },
    {
      "cell_type": "markdown",
      "metadata": {},
      "source": [
        "So to summarize"
      ]
    },
    {
      "cell_type": "code",
      "execution_count": null,
      "metadata": {},
      "outputs": [
        {
          "name": "stdout",
          "output_type": "stream",
          "text": [
            "The exact GS energy is -1.1011503302326187\n",
            "The coupled cluster energy is -1.1011503302444787, with relative error 1.0770717651098494e-11\n",
            "The Trotter UCCSD energy is -1.1013475570262052, with relative error 0.0001791097801739916\n",
            "The qsci gs energy is -1.1011503302326187, with relative error 0.0\n"
          ]
        }
      ],
      "source": [
        "err = lambda x: abs(x / casci_gs_e - 1)\n",
        "print(f\"The exact GS energy is {casci_gs_e}\")\n",
        "print(\n",
        "    f\"The coupled cluster energy is {ccsd.e_tot}, with relative error {err(ccsd.e_tot)}\"\n",
        ")\n",
        "print(\n",
        "    f\"The Trotter UCCSD energy is {estimate.value.real}, with relative error {err(estimate.value.real)}\"\n",
        ")\n",
        "print(f\"The qsci gs energy is {eigs[0]}, with relative error {err(eigs[0])}\")"
      ]
    },
    {
      "cell_type": "markdown",
      "metadata": {},
      "source": [
        "In conclusion, for this simple system coupled cluster is enough to determine the GS energy with virtually no error. The Trotterized quantum gate version of the ansatz, i.e. Trotter UCCSD is still very accurate for this test case, but we can see that there is a finite error. Once we include noise, the error starts to become more noticable, however, it still produces a good enough quantum state to be used by QSCI later. QSCI then finds a ground state with virtually no error, even though the number of reference states sampled is 2/3 the total Hilbert space."
      ]
    },
    {
      "cell_type": "markdown",
      "metadata": {},
      "source": [
        "## $\\textup{H}_N$\n",
        "\n",
        "Let's try it again with a more interesting example, and let's add more qubits.\n",
        "\n",
        "First we define functions that we will need. For convenience, we again duplicate the function that gives us circuit parameters from CCSD."
      ]
    },
    {
      "cell_type": "code",
      "execution_count": null,
      "metadata": {},
      "outputs": [],
      "source": [
        "import numpy.typing as npt\n",
        "import numpy as np\n",
        "\n",
        "from typing import Sequence\n",
        "from quri_parts.openfermion.ansatz import TrotterUCCSD\n",
        "\n",
        "\n",
        "def ccsd_param_to_circuit_param(\n",
        "    uccsd: TrotterUCCSD,\n",
        "    n_electrons: int,\n",
        "    t1: npt.NDArray[np.complex128],\n",
        "    t2: npt.NDArray[np.complex128],\n",
        ") -> Sequence[float]:\n",
        "    in_param_list = uccsd.param_mapping.in_params\n",
        "    param_list = []\n",
        "\n",
        "    for param in in_param_list:\n",
        "        name_split = param.name.split(\"_\")\n",
        "        if name_split[0] == \"s\":\n",
        "            _, i_str, j_str = name_split\n",
        "            i, j = int(i_str), int(j_str) - n_electrons // 2\n",
        "            param_list.append(t1[i, j])\n",
        "\n",
        "        if name_split[0] == \"d\":\n",
        "            _, i_str, j_str, a_str, b_str = name_split\n",
        "            i, j, b, a = (\n",
        "                int(i_str),\n",
        "                int(j_str),\n",
        "                int(b_str) - n_electrons // 2,\n",
        "                int(a_str) - n_electrons // 2,\n",
        "            )\n",
        "            param_list.append(t2[i, j, a, b])\n",
        "    return param_list"
      ]
    },
    {
      "cell_type": "markdown",
      "metadata": {},
      "source": [
        "We also duplicate the noisy sampler and estimator"
      ]
    },
    {
      "cell_type": "code",
      "execution_count": null,
      "metadata": {},
      "outputs": [],
      "source": [
        "from collections import Counter\n",
        "from typing import Iterable, Optional\n",
        "\n",
        "import numpy as np\n",
        "from numpy.random import default_rng\n",
        "from quri_parts.circuit import NonParametricQuantumCircuit\n",
        "from quri_parts.circuit.gate_names import TWO_QUBIT_GATE_NAMES\n",
        "from quri_parts.core.sampling import ConcurrentSampler, MeasurementCounts\n",
        "from quri_parts.core.estimator import (\n",
        "    Estimate,\n",
        ")\n",
        "from quri_parts.core.estimator.sampling import (\n",
        "    create_sampling_estimator,\n",
        ")\n",
        "from quri_parts.core.measurement import bitwise_commuting_pauli_measurement\n",
        "from quri_parts.core.operator import Operator\n",
        "from quri_parts.core.sampling import (\n",
        "    PauliSamplingShotsAllocator,\n",
        ")\n",
        "from quri_parts.core.state import CircuitQuantumState\n",
        "from quri_parts.qulacs.sampler import create_qulacs_vector_concurrent_sampler\n",
        "\n",
        "\n",
        "def get_total_error_rate(\n",
        "    gate_error_rate_2q: float,\n",
        "    circuit_shots_tuples: Iterable[tuple[NonParametricQuantumCircuit, int]],\n",
        ") -> float:\n",
        "    r\"\"\"Returns the total error rate :math:`R` calculated from the user\n",
        "    specified error rate :math:`r`. This noise model assumes that 1-qubit gate\n",
        "    error is negligible and so only takes into account 2-qubit gates.\n",
        "\n",
        "    The total error is given by\n",
        "    :math: `R = 1 - (1 - r)^n_{2q}` where :math:`n_{2q}` is the number of 2-qubit gates.\n",
        "    \"\"\"\n",
        "    gates = circuit_shots_tuples.__iter__().__next__()[0].gates\n",
        "    n_2q_gates = sum(g.name in TWO_QUBIT_GATE_NAMES for g in gates)\n",
        "    fidelity = 1 - gate_error_rate_2q\n",
        "    total_error_rate = 1 - fidelity**n_2q_gates\n",
        "\n",
        "    return total_error_rate\n",
        "\n",
        "\n",
        "def split_circuits_shots_tuples(\n",
        "    total_error_rate: float,\n",
        "    circuit_shots_tuples: Iterable[tuple[NonParametricQuantumCircuit, int]],\n",
        ") -> tuple[\n",
        "    Iterable[tuple[NonParametricQuantumCircuit, int]],\n",
        "    Iterable[tuple[NonParametricQuantumCircuit, int]],\n",
        "]:\n",
        "    noise_circuit_shots_tuples: list[tuple[NonParametricQuantumCircuit, int]] = []\n",
        "    noise_free_circuit_shots_tuples: list[tuple[NonParametricQuantumCircuit, int]] = []\n",
        "    for c, s in circuit_shots_tuples:\n",
        "        noise_shot_counts = int(np.round(s * total_error_rate))\n",
        "        noise_circuit_shots_tuples.append((c, noise_shot_counts))\n",
        "        noise_free_circuit_shots_tuples.append((c, s - noise_shot_counts))\n",
        "\n",
        "    return noise_free_circuit_shots_tuples, noise_circuit_shots_tuples\n",
        "\n",
        "\n",
        "class NoiseSampler:\n",
        "    def __init__(self, seed: Optional[int] = None) -> None:\n",
        "        self._seed = seed\n",
        "        self._rng = default_rng(seed)\n",
        "\n",
        "    def _get_uniform_samples(self, n_qubits: int, n_shots: int) -> MeasurementCounts:\n",
        "        dim = 2**n_qubits\n",
        "        samples = self._rng.multinomial(\n",
        "            n_shots,\n",
        "            [\n",
        "                1 / dim,\n",
        "            ]\n",
        "            * dim,\n",
        "        )\n",
        "        measurement_counts = {}\n",
        "        for i, s in enumerate(samples):\n",
        "            measurement_counts[i] = s\n",
        "\n",
        "        return measurement_counts\n",
        "\n",
        "    def __call__(\n",
        "        self, circuit_shots_tuples: Iterable[tuple[NonParametricQuantumCircuit, int]]\n",
        "    ) -> Iterable[MeasurementCounts]:\n",
        "        measurement_counts = []\n",
        "        n_qubits = circuit_shots_tuples.__iter__().__next__()[0].qubit_count\n",
        "        for _, s in circuit_shots_tuples:\n",
        "            measurement_counts.append(self._get_uniform_samples(n_qubits, s))\n",
        "\n",
        "        return measurement_counts\n",
        "\n",
        "\n",
        "class ConcurrentNoisySampler:\n",
        "    def __init__(\n",
        "        self,\n",
        "        sampler: ConcurrentSampler,\n",
        "        error_rate_2q: float = 0,\n",
        "        seed: Optional[int] = None,\n",
        "    ) -> None:\n",
        "        self._sampler = sampler\n",
        "        self._noise_sampler = NoiseSampler(seed)\n",
        "        self._error_rate_2q = error_rate_2q\n",
        "        self._seed = seed\n",
        "\n",
        "    def _sample_with_noise(\n",
        "        self, circuit_shots_tuples: Iterable[tuple[NonParametricQuantumCircuit, int]]\n",
        "    ) -> Iterable[MeasurementCounts]:\n",
        "        # Implement depolarizing noise channel by calculating effective error rate.\n",
        "        # Interpret the error rate as the probaility that a sample will be random.\n",
        "        # Split into noise and noise-free samples, which are sampled separately.\n",
        "        # These samples are combined to obtain noisy samples.\n",
        "        total_error_rate = get_total_error_rate(\n",
        "            self._error_rate_2q, circuit_shots_tuples\n",
        "        )\n",
        "        (\n",
        "            noise_free_circuit_shots_tuples,\n",
        "            noise_circuit_shots_tuples,\n",
        "        ) = split_circuits_shots_tuples(total_error_rate, circuit_shots_tuples)\n",
        "        noise_free_measurement_counts = self._sampler(noise_free_circuit_shots_tuples)\n",
        "        noise_measurement_counts = self._noise_sampler(noise_circuit_shots_tuples)\n",
        "        measurement_counts = [\n",
        "            Counter(t) + Counter(u)\n",
        "            for t, u in zip(noise_measurement_counts, noise_free_measurement_counts)\n",
        "        ]\n",
        "\n",
        "        return measurement_counts\n",
        "\n",
        "    def _sample_without_noise(\n",
        "        self, circuit_shots_tuples: Iterable[tuple[NonParametricQuantumCircuit, int]]\n",
        "    ) -> Iterable[MeasurementCounts]:\n",
        "        measurement_counts = self._sampler(circuit_shots_tuples)\n",
        "\n",
        "        return measurement_counts\n",
        "\n",
        "    def __call__(\n",
        "        self, circuit_shots_tuples: Iterable[tuple[NonParametricQuantumCircuit, int]]\n",
        "    ) -> Iterable[MeasurementCounts]:\n",
        "        if self._error_rate_2q:\n",
        "            measurement_counts = self._sample_with_noise(circuit_shots_tuples)\n",
        "        else:\n",
        "            measurement_counts = self._sample_without_noise(circuit_shots_tuples)\n",
        "\n",
        "        return measurement_counts\n",
        "\n",
        "\n",
        "class ConcurrentNoisySamplingEstimator:\n",
        "    def __init__(\n",
        "        self,\n",
        "        n_shots: int,\n",
        "        allocator: PauliSamplingShotsAllocator,\n",
        "        error_rate: float = 0,\n",
        "        seed: Optional[int] = None,\n",
        "    ) -> None:\n",
        "        self._n_shots = n_shots  # This is not the same as shot_count!\n",
        "        measurement_factory = bitwise_commuting_pauli_measurement\n",
        "        sampler = create_qulacs_vector_concurrent_sampler()\n",
        "        self._sampler = ConcurrentNoisySampler(sampler, error_rate, seed)\n",
        "        self._estimator = create_sampling_estimator(\n",
        "            total_shots=n_shots,\n",
        "            sampler=self._sampler,\n",
        "            measurement_factory=measurement_factory,\n",
        "            shots_allocator=allocator,\n",
        "        )\n",
        "\n",
        "    def __call__(\n",
        "        self,\n",
        "        operator: Operator,\n",
        "        raw_param_state: CircuitQuantumState,\n",
        "    ) -> Iterable[Estimate[complex]]:\n",
        "        estimates = self._estimator(operator, raw_param_state)\n",
        "\n",
        "        return estimates"
      ]
    },
    {
      "cell_type": "markdown",
      "metadata": {},
      "source": [
        "We define metaparameters both for the `TrotterUCCSD` ansatz, but also `qsci` function."
      ]
    },
    {
      "cell_type": "code",
      "execution_count": null,
      "metadata": {},
      "outputs": [],
      "source": [
        "TROTTER_STEPS = 1\n",
        "USE_SINGLES = True\n",
        "REDUCE_PARAMETER = True\n",
        "TOTAL_SHOTS = 50000\n",
        "BASIS_STATES = 64\n",
        "ERROR_RATE = 2.0 * 10**-5"
      ]
    },
    {
      "cell_type": "markdown",
      "metadata": {},
      "source": [
        "The following function let's us obtain the Hamiltonian as well as derived objects such as the CCSD object, etc."
      ]
    },
    {
      "cell_type": "code",
      "execution_count": null,
      "metadata": {},
      "outputs": [],
      "source": [
        "from pyscf import gto, scf, cc\n",
        "from scipy.sparse.linalg import eigsh\n",
        "\n",
        "from quri_parts.core.operator import get_sparse_matrix\n",
        "from quri_parts.pyscf.mol import get_spin_mo_integrals_from_mole\n",
        "from quri_parts.openfermion.mol import get_qubit_mapped_hamiltonian\n",
        "from quri_parts.chem.mol import ActiveSpace\n",
        "from quri_parts.core.state import quantum_state, apply_circuit\n",
        "\n",
        "\n",
        "def get_hn_hamiltonian(n):\n",
        "    n_active_ele = n\n",
        "    n_active_orb = n\n",
        "    active_space = ActiveSpace(n_active_ele=n_active_ele, n_active_orb=n_active_orb)\n",
        "\n",
        "    mole = gto.M(atom=\"H 0 0 0\" + \"\".join([f\"; H 0 0 {i}\" for i in range(1, n)]))\n",
        "    mf = scf.RHF(mole).run(verbose=0)\n",
        "    hamiltonian, _ = get_qubit_mapped_hamiltonian(\n",
        "        *get_spin_mo_integrals_from_mole(mole, mf.mo_coeff, active_space)\n",
        "    )\n",
        "    sps_hamiltonian = get_sparse_matrix(hamiltonian)\n",
        "    gse = eigsh(sps_hamiltonian, k=1, which=\"SA\")[0][0]\n",
        "\n",
        "    ccsd = cc.CCSD(mf).run(verbose=0)\n",
        "\n",
        "    uccsd = TrotterUCCSD(\n",
        "        n_active_orb * 2,\n",
        "        n_active_ele,\n",
        "        trotter_number=TROTTER_STEPS,\n",
        "        use_singles=USE_SINGLES,\n",
        "        singlet_excitation=REDUCE_PARAMETER,\n",
        "    )\n",
        "    param = ccsd_param_to_circuit_param(uccsd, n_active_ele, ccsd.t1, ccsd.t2)\n",
        "    hf_state = quantum_state(n_active_orb * 2, bits=2**n_active_ele - 1)\n",
        "    state = apply_circuit(uccsd, hf_state)\n",
        "    bound_state = state.bind_parameters(param)\n",
        "\n",
        "    return gse, ccsd, bound_state, hamiltonian"
      ]
    },
    {
      "cell_type": "markdown",
      "metadata": {},
      "source": [
        "Let's quickly test it all out before moving on. We can again use $\\textup{H}_2$ for this."
      ]
    },
    {
      "cell_type": "code",
      "execution_count": null,
      "metadata": {},
      "outputs": [
        {
          "name": "stdout",
          "output_type": "stream",
          "text": [
            "The FCI GS energy is -1.1011503302326204\n",
            "The coupled cluster energy is -1.1011503302444787, with relative error 1.0768941294259093e-11\n",
            "The Trotter UCCSD energy is -1.1026549163467014, with relative error 0.001366376663360036\n",
            "The qsci gs energy is -1.1011503302326187, with relative error 1.6653345369377348e-15\n"
          ]
        }
      ],
      "source": [
        "from quri_parts_qsci import qsci\n",
        "from quri_parts.qulacs.sampler import create_qulacs_vector_concurrent_sampler\n",
        "from quri_parts.core.sampling.shots_allocator import create_proportional_shots_allocator\n",
        "\n",
        "sampler = ConcurrentNoisySampler(\n",
        "    sampler=create_qulacs_vector_concurrent_sampler(), error_rate_2q=ERROR_RATE\n",
        ")\n",
        "estimator = ConcurrentNoisySamplingEstimator(\n",
        "    n_shots=TOTAL_SHOTS,\n",
        "    allocator=create_proportional_shots_allocator(),\n",
        "    error_rate=ERROR_RATE,\n",
        ")\n",
        "\n",
        "gse, ccsd, bound_state, hamiltonian = get_hn_hamiltonian(2)\n",
        "gse_uccsd = estimator(hamiltonian, bound_state).value.real\n",
        "gse_qsci = qsci(\n",
        "    hamiltonian,\n",
        "    [bound_state],\n",
        "    sampler,\n",
        "    total_shots=TOTAL_SHOTS,\n",
        "    num_states_pick_out=BASIS_STATES,\n",
        ")[0][0]\n",
        "\n",
        "\n",
        "err = lambda x: abs(x / gse - 1)\n",
        "print(f\"The FCI GS energy is {gse}\")\n",
        "print(\n",
        "    f\"The coupled cluster energy is {ccsd.e_tot}, with relative error {err(ccsd.e_tot)}\"\n",
        ")\n",
        "print(f\"The Trotter UCCSD energy is {gse_uccsd}, with relative error {err(gse_uccsd)}\")\n",
        "print(f\"The qsci gs energy is {gse_qsci}, with relative error {err(gse_qsci)}\")"
      ]
    },
    {
      "cell_type": "markdown",
      "metadata": {},
      "source": [
        "### Resource estimation\n",
        "\n",
        "The noise model we used earlier was mainly in place to illustrate how to build noise models in `quri_parts`. However, we can utilize QURI VM to also elucidate on the fidelity obtained with real device parameters. These devices will have error rates that are different from the `ERROR_RATE` we defined earlier and the resulting fidelity will depend on whether the architecture performs error correction or not.\n",
        "\n",
        "We will look at the fidelity that we can expect with the STAR architecture for this example circuit and compare it to a NISQ architecture. We use the`VM` to obtain circuit fidelity estimates.\n",
        "\n",
        "`VM` contains both a transpiler, estimator and noise simulator depending on the device chosen, making it a very convenient tool. We will illustrate it below."
      ]
    },
    {
      "cell_type": "code",
      "execution_count": null,
      "metadata": {},
      "outputs": [
        {
          "name": "stdout",
          "output_type": "stream",
          "text": [
            "Circuit analysis obtained using STAR architecture:\n",
            "AnalyzeResult(lowering_level=<LoweringLevel.ArchLogicalCircuit: 1>,\n",
            "              qubit_count=4,\n",
            "              gate_count=320,\n",
            "              depth=174,\n",
            "              latency=TimeValue(value=2716000.0, unit=<TimeUnit.NANOSECOND>),\n",
            "              fidelity=0.9972588905235101)\n",
            "Circuit analysis obtained using NISQ architecture:\n",
            "AnalyzeResult(lowering_level=<LoweringLevel.ArchLogicalCircuit: 1>,\n",
            "              qubit_count=4,\n",
            "              gate_count=944,\n",
            "              depth=498,\n",
            "              latency=TimeValue(value=220080.0, unit=<TimeUnit.NANOSECOND>),\n",
            "              fidelity=0.7158217180125779)\n"
          ]
        }
      ],
      "source": [
        "from pprint import pprint\n",
        "\n",
        "from quri_parts.backend.devices import nisq_spcond_lattice, star_device\n",
        "from quri_parts.backend.units import TimeValue, TimeUnit\n",
        "from quri_parts.circuit.topology import SquareLattice\n",
        "from quri_vm import VM\n",
        "\n",
        "\n",
        "star_vm = VM.from_device_prop(\n",
        "    star_device.generate_device_property(\n",
        "        qubit_count=4,\n",
        "        code_distance=7,\n",
        "        qec_cycle=TimeValue(1, TimeUnit.MICROSECOND),\n",
        "        physical_error_rate=1e-4\n",
        "    )\n",
        ")\n",
        "\n",
        "nisq_vm = VM.from_device_prop(\n",
        "    nisq_spcond_lattice.generate_device_property(\n",
        "        lattice=SquareLattice(4, 4),\n",
        "        native_gates=(\"RZ\", \"SqrtX\", \"X\", \"CNOT\"),\n",
        "        gate_error_1q=1e-5,\n",
        "        gate_error_2q=1e-3,\n",
        "        gate_error_meas=1e-3,\n",
        "        gate_time_1q=TimeValue(60, TimeUnit.NANOSECOND),\n",
        "        gate_time_2q=TimeValue(660, TimeUnit.NANOSECOND),\n",
        "        gate_time_meas=TimeValue(1.4, TimeUnit.MICROSECOND),\n",
        "    )\n",
        ")\n",
        "\n",
        "decomposed_circuit = star_vm.transpile(bound_state.circuit)\n",
        "print(\n",
        "    f\"Circuit analysis obtained using STAR architecture:\"\n",
        ")\n",
        "pprint(star_vm.analyze(decomposed_circuit))\n",
        "print(\n",
        "    f\"Circuit analysis obtained using NISQ architecture:\"\n",
        ")\n",
        "pprint(nisq_vm.analyze(decomposed_circuit))"
      ]
    },
    {
      "cell_type": "markdown",
      "metadata": {},
      "source": [
        "Now lets see what happens when we try to solve some more complicated problems using the `TrotterUCCSD` ansatz. In general the circuits will be deeper as more terms in the CCSD solution result in more unitary rotations which must be encoded in quantum circuits, thus resulting in deeper circuits.\n",
        "\n",
        "Below we will do a series of calculations, the first is to obtain the `TrotterUCCSD` energy and error then compare it with that of `qsci`. These calculations are carried out using the `star_vm`."
      ]
    },
    {
      "cell_type": "code",
      "execution_count": null,
      "metadata": {},
      "outputs": [
        {
          "name": "stdout",
          "output_type": "stream",
          "text": [
            "The Trotter UCCSD energy of H2 molecule with logical depth 174 is -1.1009032470397861, with absolute error 0.00024708319283428537.\n",
            "The qsci gs energy is -1.1011503302326187, with absolute error 1.7763568394002505e-15\n"
          ]
        },
        {
          "name": "stdout",
          "output_type": "stream",
          "text": [
            "The Trotter UCCSD energy of H4 molecule with logical depth 2452 is -2.1628500392208103, with absolute error 0.0035374094139579704.\n",
            "The qsci gs energy is -2.166295891210198, with absolute error 9.155742457034322e-05\n"
          ]
        },
        {
          "name": "stdout",
          "output_type": "stream",
          "text": [
            "The Trotter UCCSD energy of H6 molecule with logical depth 14701 is -3.215907128190154, with absolute error 0.020159151702200173.\n",
            "The qsci gs energy is -3.233743199283761, with absolute error 0.0023230806085932088\n"
          ]
        }
      ],
      "source": [
        "trotter_uccsd_energy = []\n",
        "trotter_uccsd_energy_err = []\n",
        "qsci_energy = []\n",
        "qsci_energy_err = []\n",
        "circuit_fidelity_star = []\n",
        "circuit_fidelity_nisq = []\n",
        "n_list = [2, 4, 6]\n",
        "\n",
        "\n",
        "for n in n_list:\n",
        "    gse, ccsd, bound_state, hamiltonian = get_hn_hamiltonian(n)\n",
        "    err_abs = lambda x: abs(x - gse)\n",
        "    gse_uccsd = star_vm.estimate(hamiltonian, bound_state).value.real\n",
        "    gse_qsci = qsci(\n",
        "        hamiltonian,\n",
        "        [bound_state],\n",
        "        sampler,\n",
        "        total_shots=TOTAL_SHOTS,\n",
        "        num_states_pick_out=BASIS_STATES,\n",
        "    )[0][0]\n",
        "\n",
        "    decomposed_circuit = star_vm.transpile(bound_state.circuit)\n",
        "    fidelity_star = star_vm.analyze(decomposed_circuit).fidelity\n",
        "    fidelity_nisq = nisq_vm.analyze(decomposed_circuit).fidelity\n",
        "\n",
        "    trotter_uccsd_energy.append(gse_uccsd)\n",
        "    trotter_uccsd_energy_err.append(err_abs(gse_uccsd))\n",
        "    qsci_energy.append(gse_qsci)\n",
        "    qsci_energy_err.append(err_abs(gse_qsci))\n",
        "    circuit_fidelity_star.append(fidelity_star)\n",
        "    circuit_fidelity_nisq.append(fidelity_nisq)\n",
        "    print(\n",
        "        f\"The Trotter UCCSD energy of H{n} molecule with logical depth {decomposed_circuit.depth} is {gse_uccsd}, with absolute error {err_abs(gse_uccsd)}.\"\n",
        "    )\n",
        "    print(f\"The qsci gs energy is {gse_qsci}, with absolute error {err_abs(gse_qsci)}\")"
      ]
    },
    {
      "cell_type": "markdown",
      "metadata": {},
      "source": [
        "Let's plot energy error as a function of the molecular complexity, bearing in mind that the simulations carried out have not included noise"
      ]
    },
    {
      "cell_type": "code",
      "execution_count": null,
      "metadata": {},
      "outputs": [
        {
          "data": {
            "text/plain": [
              "Text(0, 0.5, 'Error')"
            ]
          },
          "execution_count": 19,
          "metadata": {},
          "output_type": "execute_result"
        },
        {
          "data": {
            "image/png": "[encoded data removed]",
            "text/plain": [
              "<Figure size 640x480 with 1 Axes>"
            ]
          },
          "metadata": {},
          "output_type": "display_data"
        }
      ],
      "source": [
        "import matplotlib.pyplot as plt\n",
        "from matplotlib.pyplot import Axes\n",
        "\n",
        "ax: Axes = plt.axes()\n",
        "\n",
        "ax.semilogy(n_list, trotter_uccsd_energy_err, \"b\")\n",
        "ax.semilogy(n_list, qsci_energy_err, \"r\")\n",
        "ax.legend(\n",
        "    [\n",
        "        \"Trotter UCCSD Energy Error\",\n",
        "        \"QSCI Energy Error\",\n",
        "    ]\n",
        ")\n",
        "ax.set_title(\"QSCI with TrotterUCCSD input state on STAR architecture\")\n",
        "ax.set_xlabel(\"N hydrogen atoms\")\n",
        "ax.set_ylabel(\"Error\")"
      ]
    },
    {
      "cell_type": "markdown",
      "metadata": {},
      "source": [
        "As seen above the QSCI energy error is consistently lower than the one obtained by TrotterUCCSD. This is because QSCI can obtain nearly exact results as long as a substantial amount of reference states are used. Even in the presence of a modest amount of noise, as long as the noise does not alter the set of preferred reference states that are obtained from sampling, the resulting diagonalization is unaffected. This is what makes QSCI a powerful technique.\n",
        "\n",
        "Now let's also look at the resulting fidelity, this time including device dependent results that depend on noise."
      ]
    },
    {
      "cell_type": "code",
      "execution_count": null,
      "metadata": {},
      "outputs": [
        {
          "data": {
            "text/plain": [
              "Text(0, 0.5, 'Fidelity')"
            ]
          },
          "execution_count": 20,
          "metadata": {},
          "output_type": "execute_result"
        },
        {
          "data": {
            "image/png": "[encoded data removed]",
            "text/plain": [
              "<Figure size 640x480 with 1 Axes>"
            ]
          },
          "metadata": {},
          "output_type": "display_data"
        }
      ],
      "source": [
        "ax: Axes = plt.axes()\n",
        "\n",
        "ax.plot(n_list, circuit_fidelity_star)\n",
        "ax.plot(n_list, circuit_fidelity_nisq)\n",
        "ax.legend(\n",
        "    [\n",
        "        \"STAR architecture\",\n",
        "        \"NISQ architecture\",\n",
        "    ]\n",
        ")\n",
        "ax.set_title(\"TrotterUCCSD input state expected fidelity\")\n",
        "ax.set_xlabel(\"N hydrogen atoms\")\n",
        "ax.set_ylabel(\"Fidelity\")"
      ]
    },
    {
      "cell_type": "markdown",
      "metadata": {},
      "source": [
        "## Summary\n",
        "\n",
        "This notebook introduced QSCI based on the TrotterUCCSD ansatz. The learning outcomes included\n",
        "\n",
        "- Simple molecular Hamiltonians and CC theory using PySCF\n",
        "- TrotterUCCSD ansatz\n",
        "- Using QSCI\n",
        "- Transpiling and optimizing circuits\n",
        "- Estimating fidelities of deep circuits with different architectures\n",
        "- The performance of QSCI based on Trotter UCCSD\n",
        "\n",
        "### Now, why don't you try ...\n",
        "\n",
        "Compared to the simple noise model we used here, QURI Parts has several options for [noisy simulations](https://quri-parts.qunasys.com/docs/tutorials/basics/noise_error/). As a suggestion for self-study, try to see how QSCI performs in a noisy environment using device inspired parameters."
      ]
    }
  ],
  "metadata": {
    "language_info": {
      "name": "python",
      "pygments_lexer": "ipython3"
    }
  },
  "nbformat": 4,
  "nbformat_minor": 2
}
