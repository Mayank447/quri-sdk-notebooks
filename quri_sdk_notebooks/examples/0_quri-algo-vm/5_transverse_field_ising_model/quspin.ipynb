{
  "cells": [
    {
      "cell_type": "code",
      "execution_count": null,
      "id": "13afb43f",
      "metadata": {},
      "outputs": [],
      "source": [
        "import numpy as np\n",
        "import matplotlib.pyplot as plt\n",
        "import scipy\n",
        "\n",
        "from quspin.basis import spin_basis_1d\n",
        "from quspin.operators import hamiltonian\n",
        "\n",
        "from quri_parts.core.operator import Operator, pauli_label, get_sparse_matrix\n"
      ]
    },
    {
      "cell_type": "code",
      "execution_count": null,
      "id": "45b6a618",
      "metadata": {},
      "outputs": [
        {
          "name": "stdout",
          "output_type": "stream",
          "text": [
            "Hermiticity check passed!\n",
            "Symmetry checks passed!\n",
            "0.0\n"
          ]
        }
      ],
      "source": [
        "def exact_hamiltonian(J, h):\n",
        "    L = 12\n",
        "    basis_ising = spin_basis_1d(L=L,)\n",
        "\n",
        "    Jxx_list = [[-J, j,(j+1)%L] for j in range(L)] \n",
        "    hz_list = [[-h, j] for j in range(L)]\n",
        "\n",
        "    # define Hamiltonian terms\n",
        "    H_terms = [\n",
        "        ['xx', Jxx_list],\n",
        "        ['z', hz_list],\n",
        "    ]\n",
        "    \n",
        "    H_Ising = hamiltonian(H_terms,[], basis=basis_ising)\n",
        "    return H_Ising\n",
        "\n",
        "\n",
        "def construct_TFIM_hamiltonian(J, h, n_qubits):\n",
        "    hamiltonian = Operator()\n",
        "\n",
        "    # Add Ising interaction terms (-J Σ X_i X_{i+1}) (Assuming periodic boundary conditions)\n",
        "    for i in range(n_qubits):\n",
        "        pauli_index = pauli_label('X'+str(i)+' X'+str((i+1)%n_qubits))\n",
        "        hamiltonian.add_term(pauli_index, -J)\n",
        "\n",
        "    # Add transverse field terms (-h Σ Z_i)\n",
        "    for i in range(n_qubits):\n",
        "        pauli_index = pauli_label('Z'+str(i))\n",
        "        hamiltonian.add_term(pauli_index, -h)\n",
        "\n",
        "    return hamiltonian\n",
        "\n",
        "h = construct_TFIM_hamiltonian(2, 4, 12)\n",
        "print(np.sum(np.abs(get_sparse_matrix(h) - exact_hamiltonian(2, 4).toarray())))"
      ]
    },
    {
      "cell_type": "code",
      "execution_count": null,
      "id": "3dde1860",
      "metadata": {},
      "outputs": [],
      "source": [
        "h_J = np.linspace(0.1, 5, 30)\n",
        "exact_ground_state = []"
      ]
    },
    {
      "cell_type": "code",
      "execution_count": null,
      "id": "46938fe2",
      "metadata": {},
      "outputs": [],
      "source": [
        "from quri_parts.core.state import QuantumStateVector\n",
        "\n",
        "L = 12\n",
        "\n",
        "def convert_to_qsv(ground_state):\n",
        "    vec = np.zeros(2**L)\n",
        "    coeff, cb_states = ground_state[0]\n",
        "\n",
        "    for i in range(len(coeff)):\n",
        "        vec[cb_states[i].bits] = coeff[i]\n",
        "\n",
        "    qsv = QuantumStateVector(L, vec)\n",
        "    return qsv"
      ]
    },
    {
      "cell_type": "code",
      "execution_count": null,
      "id": "7c2bedc2",
      "metadata": {},
      "outputs": [
        {
          "data": {
            "text/plain": [
              "QuantumStateVector(n_qubits=12, vector=[0.00024414+0.j 0.00024414+0.j 0.00024414+0.j ... 0.00024414+0.j\n",
              " 0.00024414+0.j 0.00024414+0.j], circuit=<quri_parts.rust.circuit.circuit.ImmutableQuantumCircuit object at 0x11e5b8990>)"
            ]
          },
          "execution_count": 4,
          "metadata": {},
          "output_type": "execute_result"
        }
      ],
      "source": [
        "state = QuantumStateVector(12, 1/2**12 * np.ones(2**12))\n",
        "state"
      ]
    },
    {
      "cell_type": "code",
      "execution_count": null,
      "id": "50297044",
      "metadata": {},
      "outputs": [
        {
          "name": "stdout",
          "output_type": "stream",
          "text": [
            "Hermiticity check passed!\n",
            "Symmetry checks passed!\n",
            "-11.999999999999973\n"
          ]
        }
      ],
      "source": [
        "E, V = exact_hamiltonian(1, 0).eigh()\n",
        "psi_GS = V[:, 0]\n",
        "print(E[0]) "
      ]
    },
    {
      "cell_type": "code",
      "execution_count": null,
      "id": "f20d7432",
      "metadata": {},
      "outputs": [
        {
          "name": "stdout",
          "output_type": "stream",
          "text": [
            "[-0.02231611+0.j  0.00080918+0.j  0.00080918+0.j ...  0.00080918+0.j\n",
            "  0.00080918+0.j -0.02231611+0.j]\n"
          ]
        }
      ],
      "source": [
        "print(psi_GS - 1/(2**12) * np.ones(2**12))"
      ]
    },
    {
      "cell_type": "code",
      "execution_count": null,
      "id": "a00efa88",
      "metadata": {},
      "outputs": [
        {
          "name": "stdout",
          "output_type": "stream",
          "text": [
            "Hermiticity check passed!\n",
            "Symmetry checks passed!\n",
            "-11.999999999999993\n",
            "[-0.02234123+0.j -0.00024414+0.j -0.00024414+0.j ... -0.00024414+0.j\n",
            "  0.00079625+0.j  0.02182844+0.j]\n"
          ]
        }
      ],
      "source": [
        "vals, vecs = np.linalg.eigh(exact_hamiltonian(1, 0).toarray())\n",
        "print(vals[0])\n",
        "print(vecs[0] - 1/(2**12) * np.ones(2**12))"
      ]
    },
    {
      "cell_type": "code",
      "execution_count": null,
      "id": "f1c1ebb9",
      "metadata": {},
      "outputs": [
        {
          "name": "stdout",
          "output_type": "stream",
          "text": [
            "[ 0.        +0.j -0.00210664+0.j -0.00105353+0.j ... -0.03054692+0.j\n",
            "  0.00047332+0.j  0.04411626+0.j]\n"
          ]
        }
      ],
      "source": [
        "print(vecs[0] - psi_GS)"
      ]
    },
    {
      "cell_type": "code",
      "execution_count": null,
      "id": "43aa64ef",
      "metadata": {},
      "outputs": [
        {
          "name": "stdout",
          "output_type": "stream",
          "text": [
            "Hermiticity check passed!\n",
            "Symmetry checks passed!\n",
            "-11.999999999999973\n",
            "[-0.02231611+0.j -0.00129746+0.j -0.00024435+0.j ... -0.02973774+0.j\n",
            "  0.0012825 +0.j  0.02180015+0.j]\n"
          ]
        }
      ],
      "source": [
        "vals, vecs = scipy.linalg.eigh(exact_hamiltonian(1, 0).toarray())\n",
        "print(vals[0])\n",
        "print(vecs[0] - 1/(2**12) * np.ones(2**12))"
      ]
    },
    {
      "cell_type": "code",
      "execution_count": null,
      "id": "8fd1c420",
      "metadata": {},
      "outputs": [
        {
          "data": {
            "text/plain": [
              "(0.7426511888293824+0j)"
            ]
          },
          "execution_count": 33,
          "metadata": {},
          "output_type": "execute_result"
        }
      ],
      "source": [
        "C_r(QuantumStateVector(12, psi_GS), 2)"
      ]
    },
    {
      "cell_type": "code",
      "execution_count": null,
      "id": "6570e20d",
      "metadata": {},
      "outputs": [
        {
          "data": {
            "text/plain": [
              "(-0.009418354318451885+0j)"
            ]
          },
          "execution_count": 49,
          "metadata": {},
          "output_type": "execute_result"
        }
      ],
      "source": [
        "C_r(QuantumStateVector(12, val[0]), 2)"
      ]
    },
    {
      "cell_type": "code",
      "execution_count": null,
      "id": "8088c5ff",
      "metadata": {},
      "outputs": [
        {
          "data": {
            "text/plain": [
              "(0.00020285447438557944+0j)"
            ]
          },
          "execution_count": 50,
          "metadata": {},
          "output_type": "execute_result"
        }
      ],
      "source": [
        "C_r(QuantumStateVector(12, 1/(2**12) * np.ones(2**12)), 2)"
      ]
    },
    {
      "cell_type": "code",
      "execution_count": null,
      "id": "a31d3f07",
      "metadata": {},
      "outputs": [],
      "source": [
        "L = 12\n",
        "\n",
        "from quri_parts.qulacs.estimator import create_qulacs_vector_estimator\n",
        "from quri_parts.core.operator import Operator, pauli_label, get_sparse_matrix\n",
        "\n",
        "qulacs_estimator = create_qulacs_vector_estimator()\n",
        "\n",
        "magnetization_operator = Operator()\n",
        "for i in range(L):\n",
        "    pauli_index = pauli_label('Z'+str(i))\n",
        "    magnetization_operator.add_term(pauli_index, 1)\n",
        "\n",
        "def calculate_magnetization(quantum_state):\n",
        "    return 1/L * np.real(qulacs_estimator(magnetization_operator, quantum_state))[0]\n",
        "    "
      ]
    },
    {
      "cell_type": "code",
      "execution_count": null,
      "id": "730ed0bf",
      "metadata": {},
      "outputs": [],
      "source": [
        "\n",
        "from quri_parts.core.operator import Operator, pauli_label, get_sparse_matrix\n",
        "\n",
        "def C_r(quantum_state, r):\n",
        "    pair_corr_operator = Operator()\n",
        "    for i in range(L):\n",
        "        if i +r >= L:\n",
        "             break\n",
        "        pauli_index = pauli_label('X'+str(i)+' X'+str(i+r))\n",
        "        pair_corr_operator.add_term(pauli_index, 1)  \n",
        "\n",
        "    normal_corr_operator = Operator()\n",
        "    for i in range(L):\n",
        "        pauli_index = pauli_label('X'+str(i))\n",
        "        normal_corr_operator.add_term(pauli_index, 1) \n",
        "\n",
        "    shifted_corr_operator = Operator()\n",
        "    for i in range(L):\n",
        "        if i +r >= L:\n",
        "            break\n",
        "        pauli_index = pauli_label('X'+str(i+r))\n",
        "        shifted_corr_operator.add_term(pauli_index, 1)\n",
        "            \n",
        "    return (\n",
        "        qulacs_estimator(pair_corr_operator, quantum_state).value -\n",
        "        qulacs_estimator(normal_corr_operator, quantum_state).value * qulacs_estimator(shifted_corr_operator, quantum_state).value\n",
        "    )/L"
      ]
    },
    {
      "cell_type": "code",
      "execution_count": null,
      "id": "51acd5f8",
      "metadata": {},
      "outputs": [],
      "source": [
        "from scipy.optimize import curve_fit\n",
        "\n",
        "def exp_decay(r, xi): \n",
        "    return np.exp(-r/xi)"
      ]
    },
    {
      "cell_type": "code",
      "execution_count": null,
      "id": "0c6a7e25",
      "metadata": {},
      "outputs": [
        {
          "name": "stdout",
          "output_type": "stream",
          "text": [
            "0.11894417084327402\n"
          ]
        }
      ],
      "source": [
        "from quri_parts.core.state import QuantumStateVector\n",
        "from quri_parts.qulacs.estimator import create_qulacs_vector_estimator\n",
        "qulacs_estimator = create_qulacs_vector_estimator()\n",
        "\n",
        "r = np.arange(1, L)\n",
        "correlation_len_exact = []\n",
        "\n",
        "correlation_exact = []\n",
        "    \n",
        "for j in range(1, L):\n",
        "    corr = C_r(state, j)\n",
        "    correlation_exact.append(corr)\n",
        "\n",
        "#Fitting to exponential decay curve\n",
        "popt, _ = curve_fit(exp_decay, r, np.abs(correlation_exact))\n",
        "print(popt[0])"
      ]
    },
    {
      "cell_type": "code",
      "execution_count": null,
      "id": "dbe8a293",
      "metadata": {},
      "outputs": [
        {
          "name": "stdout",
          "output_type": "stream",
          "text": [
            "Hermiticity check passed!\n",
            "Symmetry checks passed!\n",
            "Hermiticity check passed!\n",
            "Symmetry checks passed!\n",
            "Hermiticity check passed!\n",
            "Symmetry checks passed!\n",
            "Hermiticity check passed!\n",
            "Symmetry checks passed!\n",
            "Hermiticity check passed!\n",
            "Symmetry checks passed!\n",
            "Hermiticity check passed!\n",
            "Symmetry checks passed!\n",
            "Hermiticity check passed!\n",
            "Symmetry checks passed!\n",
            "Hermiticity check passed!\n",
            "Symmetry checks passed!\n",
            "Hermiticity check passed!\n",
            "Symmetry checks passed!\n",
            "Hermiticity check passed!\n",
            "Symmetry checks passed!\n",
            "Hermiticity check passed!\n",
            "Symmetry checks passed!\n",
            "Hermiticity check passed!\n",
            "Symmetry checks passed!\n",
            "Hermiticity check passed!\n",
            "Symmetry checks passed!\n",
            "Hermiticity check passed!\n",
            "Symmetry checks passed!\n",
            "Hermiticity check passed!\n",
            "Symmetry checks passed!\n",
            "Hermiticity check passed!\n",
            "Symmetry checks passed!\n",
            "Hermiticity check passed!\n",
            "Symmetry checks passed!\n",
            "Hermiticity check passed!\n",
            "Symmetry checks passed!\n",
            "Hermiticity check passed!\n",
            "Symmetry checks passed!\n",
            "Hermiticity check passed!\n",
            "Symmetry checks passed!\n",
            "Hermiticity check passed!\n",
            "Symmetry checks passed!\n",
            "Hermiticity check passed!\n",
            "Symmetry checks passed!\n",
            "Hermiticity check passed!\n",
            "Symmetry checks passed!\n",
            "Hermiticity check passed!\n",
            "Symmetry checks passed!\n",
            "Hermiticity check passed!\n",
            "Symmetry checks passed!\n",
            "Hermiticity check passed!\n",
            "Symmetry checks passed!\n",
            "Hermiticity check passed!\n",
            "Symmetry checks passed!\n",
            "Hermiticity check passed!\n",
            "Symmetry checks passed!\n",
            "Hermiticity check passed!\n",
            "Symmetry checks passed!\n",
            "Hermiticity check passed!\n",
            "Symmetry checks passed!\n",
            "Hermiticity check passed!\n",
            "Symmetry checks passed!\n",
            "Hermiticity check passed!\n",
            "Symmetry checks passed!\n",
            "Hermiticity check passed!\n",
            "Symmetry checks passed!\n",
            "Hermiticity check passed!\n",
            "Symmetry checks passed!\n",
            "Hermiticity check passed!\n",
            "Symmetry checks passed!\n",
            "Hermiticity check passed!\n",
            "Symmetry checks passed!\n",
            "Hermiticity check passed!\n",
            "Symmetry checks passed!\n",
            "Hermiticity check passed!\n",
            "Symmetry checks passed!\n",
            "Hermiticity check passed!\n",
            "Symmetry checks passed!\n",
            "Hermiticity check passed!\n",
            "Symmetry checks passed!\n",
            "Hermiticity check passed!\n",
            "Symmetry checks passed!\n",
            "Hermiticity check passed!\n",
            "Symmetry checks passed!\n",
            "Hermiticity check passed!\n",
            "Symmetry checks passed!\n",
            "Hermiticity check passed!\n",
            "Symmetry checks passed!\n",
            "Hermiticity check passed!\n",
            "Symmetry checks passed!\n",
            "Hermiticity check passed!\n",
            "Symmetry checks passed!\n",
            "Hermiticity check passed!\n",
            "Symmetry checks passed!\n",
            "Hermiticity check passed!\n",
            "Symmetry checks passed!\n",
            "Hermiticity check passed!\n",
            "Symmetry checks passed!\n",
            "Hermiticity check passed!\n",
            "Symmetry checks passed!\n"
          ]
        }
      ],
      "source": [
        "# h/J ratio for which we be finding the ground state and thus Quantum Phase Transition for various properties \n",
        "import numpy as np\n",
        "\n",
        "h_J = np.linspace(0, 5, 50)\n",
        "n_qubits = 12\n",
        "\n",
        "from quspin.basis import spin_basis_1d\n",
        "from quspin.operators import hamiltonian\n",
        "\n",
        "basis_ising = spin_basis_1d(L=n_qubits,)\n",
        "exact_ground_state = []\n",
        "\n",
        "for i in h_J:\n",
        "    # define site-coupling lists\n",
        "    Jxx_list = [[-1, j,(j+1)%n_qubits] for j in range(n_qubits)]\n",
        "    hz_list = [[-i,j] for j in range(n_qubits)]\n",
        "\n",
        "    # define Hamiltonian terms\n",
        "    H_terms = [\n",
        "        ['xx', Jxx_list],\n",
        "        ['z', hz_list],\n",
        "    ]\n",
        "    H_Ising = hamiltonian(H_terms,[], basis=basis_ising)\n",
        "\n",
        "    # compute eigenenergies and eigenstates\n",
        "    E, V = H_Ising.eigh()\n",
        "    \n",
        "    # ground state\n",
        "    psi_GS = V[:,0]\n",
        "    exact_ground_state.append(psi_GS)"
      ]
    },
    {
      "cell_type": "code",
      "execution_count": null,
      "id": "5ae85c22",
      "metadata": {},
      "outputs": [],
      "source": [
        "import pickle\n",
        "\n",
        "with open('exact_ground_state_quspin.pkl', 'wb') as f:\n",
        "    pickle.dump(np.array(exact_ground_state), f)"
      ]
    },
    {
      "cell_type": "code",
      "execution_count": null,
      "id": "2ac7c9a7",
      "metadata": {},
      "outputs": [],
      "source": [
        "correlation_len_exact = []\n",
        "correlation_len_approx = []\n",
        "r = np.arange(1, n_qubits)\n",
        "\n",
        "for i in range(len(h_J)):\n",
        "    correlation_exact = []\n",
        "    correlation_approx = []\n",
        "    state = QuantumStateVector(n_qubits, exact_ground_state[i])\n",
        "        \n",
        "    for j in range(1, n_qubits):\n",
        "        corr = C_r(state, j)\n",
        "        correlation_exact.append(corr)\n",
        "\n",
        "    #Fitting to exponential decay curve\n",
        "    popt, _ = curve_fit(exp_decay, r, np.abs(correlation_exact), p0=[1.0])\n",
        "    correlation_len_exact.append(popt[0])"
      ]
    },
    {
      "cell_type": "code",
      "execution_count": null,
      "id": "c658f517",
      "metadata": {},
      "outputs": [
        {
          "data": {
            "text/plain": [
              "<matplotlib.legend.Legend at 0x141cf6930>"
            ]
          },
          "execution_count": 14,
          "metadata": {},
          "output_type": "execute_result"
        },
        {
          "data": {
            "image/png": "[encoded data removed]",
            "text/plain": [
              "<Figure size 640x480 with 1 Axes>"
            ]
          },
          "metadata": {},
          "output_type": "display_data"
        }
      ],
      "source": [
        "import matplotlib.pyplot as plt\n",
        "\n",
        "plt.title('Correlation length (ξ) vs h/J')\n",
        "plt.xlabel('h/J')\n",
        "plt.ylabel('Correlation length ξ')\n",
        "plt.plot(h_J, correlation_len_exact, label='Exact diagonalization')\n",
        "plt.legend()"
      ]
    },
    {
      "cell_type": "code",
      "execution_count": null,
      "id": "6fd9c84f",
      "metadata": {},
      "outputs": [],
      "source": []
    }
  ],
  "metadata": {
    "language_info": {
      "name": "python",
      "pygments_lexer": "ipython3"
    }
  },
  "nbformat": 4,
  "nbformat_minor": 5
}
