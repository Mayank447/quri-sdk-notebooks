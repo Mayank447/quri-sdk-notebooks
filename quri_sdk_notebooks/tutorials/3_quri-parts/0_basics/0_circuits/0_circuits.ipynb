{
  "cells": [
    {
      "cell_type": "markdown",
      "id": "8358441f",
      "metadata": {},
      "source": [
        "# Quantum gates and circuits\n",
        "\n",
        "Quantum gates and circuits are essential when working on quantum computing. Here we describe basic treatment of them in QURI Parts."
      ]
    },
    {
      "cell_type": "markdown",
      "id": "25e764c2",
      "metadata": {},
      "source": [
        "## Prerequisite\n",
        "\n",
        "QURI Parts modules used in this tutorial: `quri-parts-circuit`, `quri-parts-core`, `quri-parts-braket`, `quri-parts-cirq`, `quri-parts-qiskit`, `quri-parts-qulacs`, and `quri-parts-tket`. You can install them as follows:"
      ]
    },
    {
      "cell_type": "code",
      "execution_count": null,
      "id": "43a353d1",
      "metadata": {},
      "outputs": [
        {
          "name": "stdout",
          "output_type": "stream",
          "text": [
            "Requirement already satisfied: pylatexenc in /home/drokles/.cache/pypoetry/virtualenvs/quri-sdk-notebooks-AzU4R8Lq-py3.11/lib/python3.11/site-packages (2.10)\r\n",
            "Requirement already satisfied: quri-parts[braket,cirq,qiskit,qulacs,tket] in /home/drokles/.cache/pypoetry/virtualenvs/quri-sdk-notebooks-AzU4R8Lq-py3.11/lib/python3.11/site-packages (0.22.0)\r\n",
            "Requirement already satisfied: quri-parts-algo in /home/drokles/.cache/pypoetry/virtualenvs/quri-sdk-notebooks-AzU4R8Lq-py3.11/lib/python3.11/site-packages (from quri-parts[braket,cirq,qiskit,qulacs,tket]) (0.22.0)\r\n",
            "Requirement already satisfied: quri-parts-braket in /home/drokles/.cache/pypoetry/virtualenvs/quri-sdk-notebooks-AzU4R8Lq-py3.11/lib/python3.11/site-packages (from quri-parts[braket,cirq,qiskit,qulacs,tket]) (0.22.0)\r\n",
            "Requirement already satisfied: quri-parts-chem in /home/drokles/.cache/pypoetry/virtualenvs/quri-sdk-notebooks-AzU4R8Lq-py3.11/lib/python3.11/site-packages (from quri-parts[braket,cirq,qiskit,qulacs,tket]) (0.22.0)\r\n",
            "Requirement already satisfied: quri-parts-circuit in /home/drokles/.cache/pypoetry/virtualenvs/quri-sdk-notebooks-AzU4R8Lq-py3.11/lib/python3.11/site-packages (from quri-parts[braket,cirq,qiskit,qulacs,tket]) (0.22.0)\r\n",
            "Requirement already satisfied: quri-parts-cirq in /home/drokles/.cache/pypoetry/virtualenvs/quri-sdk-notebooks-AzU4R8Lq-py3.11/lib/python3.11/site-packages (from quri-parts[braket,cirq,qiskit,qulacs,tket]) (0.22.0)\r\n",
            "Requirement already satisfied: quri-parts-core in /home/drokles/.cache/pypoetry/virtualenvs/quri-sdk-notebooks-AzU4R8Lq-py3.11/lib/python3.11/site-packages (from quri-parts[braket,cirq,qiskit,qulacs,tket]) (0.22.0)\r\n",
            "Requirement already satisfied: quri-parts-qiskit in /home/drokles/.cache/pypoetry/virtualenvs/quri-sdk-notebooks-AzU4R8Lq-py3.11/lib/python3.11/site-packages (from quri-parts[braket,cirq,qiskit,qulacs,tket]) (0.22.0)\r\n",
            "Requirement already satisfied: quri-parts-qulacs in /home/drokles/.cache/pypoetry/virtualenvs/quri-sdk-notebooks-AzU4R8Lq-py3.11/lib/python3.11/site-packages (from quri-parts[braket,cirq,qiskit,qulacs,tket]) (0.22.0)\r\n",
            "Requirement already satisfied: quri-parts-rust in /home/drokles/.cache/pypoetry/virtualenvs/quri-sdk-notebooks-AzU4R8Lq-py3.11/lib/python3.11/site-packages (from quri-parts[braket,cirq,qiskit,qulacs,tket]) (0.22.0)\r\n",
            "Requirement already satisfied: quri-parts-tket in /home/drokles/.cache/pypoetry/virtualenvs/quri-sdk-notebooks-AzU4R8Lq-py3.11/lib/python3.11/site-packages (from quri-parts[braket,cirq,qiskit,qulacs,tket]) (0.22.0)\r\n",
            "Requirement already satisfied: scipy<2.0.0,>=1.9.1 in /home/drokles/.cache/pypoetry/virtualenvs/quri-sdk-notebooks-AzU4R8Lq-py3.11/lib/python3.11/site-packages (from quri-parts-algo->quri-parts[braket,cirq,qiskit,qulacs,tket]) (1.14.1)\r\n",
            "Requirement already satisfied: typing-extensions<5.0.0,>=4.1.1 in /home/drokles/.cache/pypoetry/virtualenvs/quri-sdk-notebooks-AzU4R8Lq-py3.11/lib/python3.11/site-packages (from quri-parts-algo->quri-parts[braket,cirq,qiskit,qulacs,tket]) (4.12.2)\r\n",
            "Requirement already satisfied: amazon-braket-schemas<2.0.0,>=1.22.0 in /home/drokles/.cache/pypoetry/virtualenvs/quri-sdk-notebooks-AzU4R8Lq-py3.11/lib/python3.11/site-packages (from quri-parts-braket->quri-parts[braket,cirq,qiskit,qulacs,tket]) (1.22.3)\r\n",
            "Requirement already satisfied: amazon-braket-sdk<2.0.0,>=1.25.1 in /home/drokles/.cache/pypoetry/virtualenvs/quri-sdk-notebooks-AzU4R8Lq-py3.11/lib/python3.11/site-packages (from quri-parts-braket->quri-parts[braket,cirq,qiskit,qulacs,tket]) (1.88.3)\r\n"
          ]
        },
        {
          "name": "stdout",
          "output_type": "stream",
          "text": [
            "Requirement already satisfied: numpy>=1.22.0 in /home/drokles/.cache/pypoetry/virtualenvs/quri-sdk-notebooks-AzU4R8Lq-py3.11/lib/python3.11/site-packages (from quri-parts-circuit->quri-parts[braket,cirq,qiskit,qulacs,tket]) (1.26.4)\r\n",
            "Requirement already satisfied: cirq-core<2.0.0,>=1.0.0 in /home/drokles/.cache/pypoetry/virtualenvs/quri-sdk-notebooks-AzU4R8Lq-py3.11/lib/python3.11/site-packages (from quri-parts-cirq->quri-parts[braket,cirq,qiskit,qulacs,tket]) (1.5.0.dev20241207174114)\r\n",
            "Requirement already satisfied: networkx in /home/drokles/.cache/pypoetry/virtualenvs/quri-sdk-notebooks-AzU4R8Lq-py3.11/lib/python3.11/site-packages (from quri-parts-core->quri-parts[braket,cirq,qiskit,qulacs,tket]) (3.4.2)\r\n",
            "Requirement already satisfied: pydantic<3.0,>=2.0 in /home/drokles/.cache/pypoetry/virtualenvs/quri-sdk-notebooks-AzU4R8Lq-py3.11/lib/python3.11/site-packages (from quri-parts-qiskit->quri-parts[braket,cirq,qiskit,qulacs,tket]) (2.10.3)\r\n",
            "Requirement already satisfied: qiskit<2,>=1 in /home/drokles/.cache/pypoetry/virtualenvs/quri-sdk-notebooks-AzU4R8Lq-py3.11/lib/python3.11/site-packages (from quri-parts-qiskit->quri-parts[braket,cirq,qiskit,qulacs,tket]) (1.3.0)\r\n",
            "Requirement already satisfied: qiskit-ibm-runtime<0.30.0,>=0.29.0 in /home/drokles/.cache/pypoetry/virtualenvs/quri-sdk-notebooks-AzU4R8Lq-py3.11/lib/python3.11/site-packages (from quri-parts-qiskit->quri-parts[braket,cirq,qiskit,qulacs,tket]) (0.29.1)\r\n",
            "Requirement already satisfied: qulacs>=0.5.6 in /home/drokles/.cache/pypoetry/virtualenvs/quri-sdk-notebooks-AzU4R8Lq-py3.11/lib/python3.11/site-packages (from quri-parts-qulacs->quri-parts[braket,cirq,qiskit,qulacs,tket]) (0.6.10)\r\n",
            "Requirement already satisfied: pytket<2.0.0,>=1.0.0 in /home/drokles/.cache/pypoetry/virtualenvs/quri-sdk-notebooks-AzU4R8Lq-py3.11/lib/python3.11/site-packages (from quri-parts-tket->quri-parts[braket,cirq,qiskit,qulacs,tket]) (1.36.0)\r\n"
          ]
        },
        {
          "name": "stdout",
          "output_type": "stream",
          "text": [
            "Requirement already satisfied: amazon-braket-default-simulator>=1.26.0 in /home/drokles/.cache/pypoetry/virtualenvs/quri-sdk-notebooks-AzU4R8Lq-py3.11/lib/python3.11/site-packages (from amazon-braket-sdk<2.0.0,>=1.25.1->quri-parts-braket->quri-parts[braket,cirq,qiskit,qulacs,tket]) (1.26.2)\r\n",
            "Requirement already satisfied: oqpy~=0.3.5 in /home/drokles/.cache/pypoetry/virtualenvs/quri-sdk-notebooks-AzU4R8Lq-py3.11/lib/python3.11/site-packages (from amazon-braket-sdk<2.0.0,>=1.25.1->quri-parts-braket->quri-parts[braket,cirq,qiskit,qulacs,tket]) (0.3.7)\r\n",
            "Requirement already satisfied: backoff in /home/drokles/.cache/pypoetry/virtualenvs/quri-sdk-notebooks-AzU4R8Lq-py3.11/lib/python3.11/site-packages (from amazon-braket-sdk<2.0.0,>=1.25.1->quri-parts-braket->quri-parts[braket,cirq,qiskit,qulacs,tket]) (2.2.1)\r\n",
            "Requirement already satisfied: boltons in /home/drokles/.cache/pypoetry/virtualenvs/quri-sdk-notebooks-AzU4R8Lq-py3.11/lib/python3.11/site-packages (from amazon-braket-sdk<2.0.0,>=1.25.1->quri-parts-braket->quri-parts[braket,cirq,qiskit,qulacs,tket]) (24.1.0)\r\n",
            "Requirement already satisfied: boto3>=1.28.53 in /home/drokles/.cache/pypoetry/virtualenvs/quri-sdk-notebooks-AzU4R8Lq-py3.11/lib/python3.11/site-packages (from amazon-braket-sdk<2.0.0,>=1.25.1->quri-parts-braket->quri-parts[braket,cirq,qiskit,qulacs,tket]) (1.35.76)\r\n",
            "Requirement already satisfied: cloudpickle==2.2.1 in /home/drokles/.cache/pypoetry/virtualenvs/quri-sdk-notebooks-AzU4R8Lq-py3.11/lib/python3.11/site-packages (from amazon-braket-sdk<2.0.0,>=1.25.1->quri-parts-braket->quri-parts[braket,cirq,qiskit,qulacs,tket]) (2.2.1)\r\n",
            "Requirement already satisfied: nest-asyncio in /home/drokles/.cache/pypoetry/virtualenvs/quri-sdk-notebooks-AzU4R8Lq-py3.11/lib/python3.11/site-packages (from amazon-braket-sdk<2.0.0,>=1.25.1->quri-parts-braket->quri-parts[braket,cirq,qiskit,qulacs,tket]) (1.6.0)\r\n",
            "Requirement already satisfied: openpulse in /home/drokles/.cache/pypoetry/virtualenvs/quri-sdk-notebooks-AzU4R8Lq-py3.11/lib/python3.11/site-packages (from amazon-braket-sdk<2.0.0,>=1.25.1->quri-parts-braket->quri-parts[braket,cirq,qiskit,qulacs,tket]) (1.0.1)\r\n",
            "Requirement already satisfied: openqasm3 in /home/drokles/.cache/pypoetry/virtualenvs/quri-sdk-notebooks-AzU4R8Lq-py3.11/lib/python3.11/site-packages (from amazon-braket-sdk<2.0.0,>=1.25.1->quri-parts-braket->quri-parts[braket,cirq,qiskit,qulacs,tket]) (1.0.0)\r\n",
            "Requirement already satisfied: sympy in /home/drokles/.cache/pypoetry/virtualenvs/quri-sdk-notebooks-AzU4R8Lq-py3.11/lib/python3.11/site-packages (from amazon-braket-sdk<2.0.0,>=1.25.1->quri-parts-braket->quri-parts[braket,cirq,qiskit,qulacs,tket]) (1.13.3)\r\n",
            "Requirement already satisfied: backports.entry-points-selectable in /home/drokles/.cache/pypoetry/virtualenvs/quri-sdk-notebooks-AzU4R8Lq-py3.11/lib/python3.11/site-packages (from amazon-braket-sdk<2.0.0,>=1.25.1->quri-parts-braket->quri-parts[braket,cirq,qiskit,qulacs,tket]) (1.3.0)\r\n",
            "Requirement already satisfied: attrs>=21.3.0 in /home/drokles/.cache/pypoetry/virtualenvs/quri-sdk-notebooks-AzU4R8Lq-py3.11/lib/python3.11/site-packages (from cirq-core<2.0.0,>=1.0.0->quri-parts-cirq->quri-parts[braket,cirq,qiskit,qulacs,tket]) (24.2.0)\r\n",
            "Requirement already satisfied: duet>=0.2.8 in /home/drokles/.cache/pypoetry/virtualenvs/quri-sdk-notebooks-AzU4R8Lq-py3.11/lib/python3.11/site-packages (from cirq-core<2.0.0,>=1.0.0->quri-parts-cirq->quri-parts[braket,cirq,qiskit,qulacs,tket]) (0.2.9)\r\n",
            "Requirement already satisfied: matplotlib~=3.0 in /home/drokles/.cache/pypoetry/virtualenvs/quri-sdk-notebooks-AzU4R8Lq-py3.11/lib/python3.11/site-packages (from cirq-core<2.0.0,>=1.0.0->quri-parts-cirq->quri-parts[braket,cirq,qiskit,qulacs,tket]) (3.9.3)\r\n",
            "Requirement already satisfied: pandas in /home/drokles/.cache/pypoetry/virtualenvs/quri-sdk-notebooks-AzU4R8Lq-py3.11/lib/python3.11/site-packages (from cirq-core<2.0.0,>=1.0.0->quri-parts-cirq->quri-parts[braket,cirq,qiskit,qulacs,tket]) (2.2.3)\r\n",
            "Requirement already satisfied: sortedcontainers~=2.0 in /home/drokles/.cache/pypoetry/virtualenvs/quri-sdk-notebooks-AzU4R8Lq-py3.11/lib/python3.11/site-packages (from cirq-core<2.0.0,>=1.0.0->quri-parts-cirq->quri-parts[braket,cirq,qiskit,qulacs,tket]) (2.4.0)\r\n",
            "Requirement already satisfied: tqdm in /home/drokles/.cache/pypoetry/virtualenvs/quri-sdk-notebooks-AzU4R8Lq-py3.11/lib/python3.11/site-packages (from cirq-core<2.0.0,>=1.0.0->quri-parts-cirq->quri-parts[braket,cirq,qiskit,qulacs,tket]) (4.67.1)\r\n",
            "Requirement already satisfied: annotated-types>=0.6.0 in /home/drokles/.cache/pypoetry/virtualenvs/quri-sdk-notebooks-AzU4R8Lq-py3.11/lib/python3.11/site-packages (from pydantic<3.0,>=2.0->quri-parts-qiskit->quri-parts[braket,cirq,qiskit,qulacs,tket]) (0.7.0)\r\n"
          ]
        },
        {
          "name": "stdout",
          "output_type": "stream",
          "text": [
            "Requirement already satisfied: pydantic-core==2.27.1 in /home/drokles/.cache/pypoetry/virtualenvs/quri-sdk-notebooks-AzU4R8Lq-py3.11/lib/python3.11/site-packages (from pydantic<3.0,>=2.0->quri-parts-qiskit->quri-parts[braket,cirq,qiskit,qulacs,tket]) (2.27.1)\r\n",
            "Requirement already satisfied: lark>=1.1.9 in /home/drokles/.cache/pypoetry/virtualenvs/quri-sdk-notebooks-AzU4R8Lq-py3.11/lib/python3.11/site-packages (from pytket<2.0.0,>=1.0.0->quri-parts-tket->quri-parts[braket,cirq,qiskit,qulacs,tket]) (1.2.2)\r\n",
            "Requirement already satisfied: graphviz>=0.20.3 in /home/drokles/.cache/pypoetry/virtualenvs/quri-sdk-notebooks-AzU4R8Lq-py3.11/lib/python3.11/site-packages (from pytket<2.0.0,>=1.0.0->quri-parts-tket->quri-parts[braket,cirq,qiskit,qulacs,tket]) (0.20.3)\r\n",
            "Requirement already satisfied: jinja2>=3.1.4 in /home/drokles/.cache/pypoetry/virtualenvs/quri-sdk-notebooks-AzU4R8Lq-py3.11/lib/python3.11/site-packages (from pytket<2.0.0,>=1.0.0->quri-parts-tket->quri-parts[braket,cirq,qiskit,qulacs,tket]) (3.1.4)\r\n",
            "Requirement already satisfied: qwasm>=1.0.1 in /home/drokles/.cache/pypoetry/virtualenvs/quri-sdk-notebooks-AzU4R8Lq-py3.11/lib/python3.11/site-packages (from pytket<2.0.0,>=1.0.0->quri-parts-tket->quri-parts[braket,cirq,qiskit,qulacs,tket]) (1.0.1)\r\n",
            "Requirement already satisfied: rustworkx>=0.15.0 in /home/drokles/.cache/pypoetry/virtualenvs/quri-sdk-notebooks-AzU4R8Lq-py3.11/lib/python3.11/site-packages (from qiskit<2,>=1->quri-parts-qiskit->quri-parts[braket,cirq,qiskit,qulacs,tket]) (0.15.1)\r\n",
            "Requirement already satisfied: dill>=0.3 in /home/drokles/.cache/pypoetry/virtualenvs/quri-sdk-notebooks-AzU4R8Lq-py3.11/lib/python3.11/site-packages (from qiskit<2,>=1->quri-parts-qiskit->quri-parts[braket,cirq,qiskit,qulacs,tket]) (0.3.9)\r\n",
            "Requirement already satisfied: python-dateutil>=2.8.0 in /home/drokles/.cache/pypoetry/virtualenvs/quri-sdk-notebooks-AzU4R8Lq-py3.11/lib/python3.11/site-packages (from qiskit<2,>=1->quri-parts-qiskit->quri-parts[braket,cirq,qiskit,qulacs,tket]) (2.9.0.post0)\r\n",
            "Requirement already satisfied: stevedore>=3.0.0 in /home/drokles/.cache/pypoetry/virtualenvs/quri-sdk-notebooks-AzU4R8Lq-py3.11/lib/python3.11/site-packages (from qiskit<2,>=1->quri-parts-qiskit->quri-parts[braket,cirq,qiskit,qulacs,tket]) (5.4.0)\r\n",
            "Requirement already satisfied: symengine<0.14,>=0.11 in /home/drokles/.cache/pypoetry/virtualenvs/quri-sdk-notebooks-AzU4R8Lq-py3.11/lib/python3.11/site-packages (from qiskit<2,>=1->quri-parts-qiskit->quri-parts[braket,cirq,qiskit,qulacs,tket]) (0.13.0)\r\n",
            "Requirement already satisfied: requests>=2.19 in /home/drokles/.cache/pypoetry/virtualenvs/quri-sdk-notebooks-AzU4R8Lq-py3.11/lib/python3.11/site-packages (from qiskit-ibm-runtime<0.30.0,>=0.29.0->quri-parts-qiskit->quri-parts[braket,cirq,qiskit,qulacs,tket]) (2.32.3)\r\n",
            "Requirement already satisfied: requests-ntlm>=1.1.0 in /home/drokles/.cache/pypoetry/virtualenvs/quri-sdk-notebooks-AzU4R8Lq-py3.11/lib/python3.11/site-packages (from qiskit-ibm-runtime<0.30.0,>=0.29.0->quri-parts-qiskit->quri-parts[braket,cirq,qiskit,qulacs,tket]) (1.3.0)\r\n",
            "Requirement already satisfied: urllib3>=1.21.1 in /home/drokles/.cache/pypoetry/virtualenvs/quri-sdk-notebooks-AzU4R8Lq-py3.11/lib/python3.11/site-packages (from qiskit-ibm-runtime<0.30.0,>=0.29.0->quri-parts-qiskit->quri-parts[braket,cirq,qiskit,qulacs,tket]) (2.2.3)\r\n",
            "Requirement already satisfied: websocket-client>=1.5.1 in /home/drokles/.cache/pypoetry/virtualenvs/quri-sdk-notebooks-AzU4R8Lq-py3.11/lib/python3.11/site-packages (from qiskit-ibm-runtime<0.30.0,>=0.29.0->quri-parts-qiskit->quri-parts[braket,cirq,qiskit,qulacs,tket]) (1.8.0)\r\n",
            "Requirement already satisfied: ibm-platform-services>=0.22.6 in /home/drokles/.cache/pypoetry/virtualenvs/quri-sdk-notebooks-AzU4R8Lq-py3.11/lib/python3.11/site-packages (from qiskit-ibm-runtime<0.30.0,>=0.29.0->quri-parts-qiskit->quri-parts[braket,cirq,qiskit,qulacs,tket]) (0.59.0)\r\n"
          ]
        },
        {
          "name": "stdout",
          "output_type": "stream",
          "text": [
            "Requirement already satisfied: opt_einsum in /home/drokles/.cache/pypoetry/virtualenvs/quri-sdk-notebooks-AzU4R8Lq-py3.11/lib/python3.11/site-packages (from amazon-braket-default-simulator>=1.26.0->amazon-braket-sdk<2.0.0,>=1.25.1->quri-parts-braket->quri-parts[braket,cirq,qiskit,qulacs,tket]) (3.4.0)\r\n",
            "Requirement already satisfied: antlr4-python3-runtime==4.9.2 in /home/drokles/.cache/pypoetry/virtualenvs/quri-sdk-notebooks-AzU4R8Lq-py3.11/lib/python3.11/site-packages (from amazon-braket-default-simulator>=1.26.0->amazon-braket-sdk<2.0.0,>=1.25.1->quri-parts-braket->quri-parts[braket,cirq,qiskit,qulacs,tket]) (4.9.2)\r\n"
          ]
        },
        {
          "name": "stdout",
          "output_type": "stream",
          "text": [
            "Requirement already satisfied: botocore<1.36.0,>=1.35.76 in /home/drokles/.cache/pypoetry/virtualenvs/quri-sdk-notebooks-AzU4R8Lq-py3.11/lib/python3.11/site-packages (from boto3>=1.28.53->amazon-braket-sdk<2.0.0,>=1.25.1->quri-parts-braket->quri-parts[braket,cirq,qiskit,qulacs,tket]) (1.35.76)\r\n",
            "Requirement already satisfied: jmespath<2.0.0,>=0.7.1 in /home/drokles/.cache/pypoetry/virtualenvs/quri-sdk-notebooks-AzU4R8Lq-py3.11/lib/python3.11/site-packages (from boto3>=1.28.53->amazon-braket-sdk<2.0.0,>=1.25.1->quri-parts-braket->quri-parts[braket,cirq,qiskit,qulacs,tket]) (1.0.1)\r\n",
            "Requirement already satisfied: s3transfer<0.11.0,>=0.10.0 in /home/drokles/.cache/pypoetry/virtualenvs/quri-sdk-notebooks-AzU4R8Lq-py3.11/lib/python3.11/site-packages (from boto3>=1.28.53->amazon-braket-sdk<2.0.0,>=1.25.1->quri-parts-braket->quri-parts[braket,cirq,qiskit,qulacs,tket]) (0.10.4)\r\n"
          ]
        },
        {
          "name": "stdout",
          "output_type": "stream",
          "text": [
            "Requirement already satisfied: ibm-cloud-sdk-core<4.0.0,>=3.22.0 in /home/drokles/.cache/pypoetry/virtualenvs/quri-sdk-notebooks-AzU4R8Lq-py3.11/lib/python3.11/site-packages (from ibm-platform-services>=0.22.6->qiskit-ibm-runtime<0.30.0,>=0.29.0->quri-parts-qiskit->quri-parts[braket,cirq,qiskit,qulacs,tket]) (3.22.0)\r\n",
            "Requirement already satisfied: MarkupSafe>=2.0 in /home/drokles/.cache/pypoetry/virtualenvs/quri-sdk-notebooks-AzU4R8Lq-py3.11/lib/python3.11/site-packages (from jinja2>=3.1.4->pytket<2.0.0,>=1.0.0->quri-parts-tket->quri-parts[braket,cirq,qiskit,qulacs,tket]) (3.0.2)\r\n",
            "Requirement already satisfied: contourpy>=1.0.1 in /home/drokles/.cache/pypoetry/virtualenvs/quri-sdk-notebooks-AzU4R8Lq-py3.11/lib/python3.11/site-packages (from matplotlib~=3.0->cirq-core<2.0.0,>=1.0.0->quri-parts-cirq->quri-parts[braket,cirq,qiskit,qulacs,tket]) (1.3.1)\r\n",
            "Requirement already satisfied: cycler>=0.10 in /home/drokles/.cache/pypoetry/virtualenvs/quri-sdk-notebooks-AzU4R8Lq-py3.11/lib/python3.11/site-packages (from matplotlib~=3.0->cirq-core<2.0.0,>=1.0.0->quri-parts-cirq->quri-parts[braket,cirq,qiskit,qulacs,tket]) (0.12.1)\r\n",
            "Requirement already satisfied: fonttools>=4.22.0 in /home/drokles/.cache/pypoetry/virtualenvs/quri-sdk-notebooks-AzU4R8Lq-py3.11/lib/python3.11/site-packages (from matplotlib~=3.0->cirq-core<2.0.0,>=1.0.0->quri-parts-cirq->quri-parts[braket,cirq,qiskit,qulacs,tket]) (4.55.2)\r\n",
            "Requirement already satisfied: kiwisolver>=1.3.1 in /home/drokles/.cache/pypoetry/virtualenvs/quri-sdk-notebooks-AzU4R8Lq-py3.11/lib/python3.11/site-packages (from matplotlib~=3.0->cirq-core<2.0.0,>=1.0.0->quri-parts-cirq->quri-parts[braket,cirq,qiskit,qulacs,tket]) (1.4.7)\r\n",
            "Requirement already satisfied: packaging>=20.0 in /home/drokles/.cache/pypoetry/virtualenvs/quri-sdk-notebooks-AzU4R8Lq-py3.11/lib/python3.11/site-packages (from matplotlib~=3.0->cirq-core<2.0.0,>=1.0.0->quri-parts-cirq->quri-parts[braket,cirq,qiskit,qulacs,tket]) (24.2)\r\n",
            "Requirement already satisfied: pillow>=8 in /home/drokles/.cache/pypoetry/virtualenvs/quri-sdk-notebooks-AzU4R8Lq-py3.11/lib/python3.11/site-packages (from matplotlib~=3.0->cirq-core<2.0.0,>=1.0.0->quri-parts-cirq->quri-parts[braket,cirq,qiskit,qulacs,tket]) (9.5.0)\r\n",
            "Requirement already satisfied: pyparsing>=2.3.1 in /home/drokles/.cache/pypoetry/virtualenvs/quri-sdk-notebooks-AzU4R8Lq-py3.11/lib/python3.11/site-packages (from matplotlib~=3.0->cirq-core<2.0.0,>=1.0.0->quri-parts-cirq->quri-parts[braket,cirq,qiskit,qulacs,tket]) (3.2.0)\r\n",
            "Requirement already satisfied: mypy-extensions>=0.2.0 in /home/drokles/.cache/pypoetry/virtualenvs/quri-sdk-notebooks-AzU4R8Lq-py3.11/lib/python3.11/site-packages (from oqpy~=0.3.5->amazon-braket-sdk<2.0.0,>=1.25.1->quri-parts-braket->quri-parts[braket,cirq,qiskit,qulacs,tket]) (1.0.0)\r\n"
          ]
        },
        {
          "name": "stdout",
          "output_type": "stream",
          "text": [
            "Requirement already satisfied: six>=1.5 in /home/drokles/.cache/pypoetry/virtualenvs/quri-sdk-notebooks-AzU4R8Lq-py3.11/lib/python3.11/site-packages (from python-dateutil>=2.8.0->qiskit<2,>=1->quri-parts-qiskit->quri-parts[braket,cirq,qiskit,qulacs,tket]) (1.17.0)\r\n",
            "Requirement already satisfied: setuptools in /home/drokles/.cache/pypoetry/virtualenvs/quri-sdk-notebooks-AzU4R8Lq-py3.11/lib/python3.11/site-packages (from qwasm>=1.0.1->pytket<2.0.0,>=1.0.0->quri-parts-tket->quri-parts[braket,cirq,qiskit,qulacs,tket]) (75.6.0)\r\n",
            "Requirement already satisfied: charset-normalizer<4,>=2 in /home/drokles/.cache/pypoetry/virtualenvs/quri-sdk-notebooks-AzU4R8Lq-py3.11/lib/python3.11/site-packages (from requests>=2.19->qiskit-ibm-runtime<0.30.0,>=0.29.0->quri-parts-qiskit->quri-parts[braket,cirq,qiskit,qulacs,tket]) (3.4.0)\r\n",
            "Requirement already satisfied: idna<4,>=2.5 in /home/drokles/.cache/pypoetry/virtualenvs/quri-sdk-notebooks-AzU4R8Lq-py3.11/lib/python3.11/site-packages (from requests>=2.19->qiskit-ibm-runtime<0.30.0,>=0.29.0->quri-parts-qiskit->quri-parts[braket,cirq,qiskit,qulacs,tket]) (3.10)\r\n",
            "Requirement already satisfied: certifi>=2017.4.17 in /home/drokles/.cache/pypoetry/virtualenvs/quri-sdk-notebooks-AzU4R8Lq-py3.11/lib/python3.11/site-packages (from requests>=2.19->qiskit-ibm-runtime<0.30.0,>=0.29.0->quri-parts-qiskit->quri-parts[braket,cirq,qiskit,qulacs,tket]) (2024.8.30)\r\n",
            "Requirement already satisfied: cryptography>=1.3 in /home/drokles/.cache/pypoetry/virtualenvs/quri-sdk-notebooks-AzU4R8Lq-py3.11/lib/python3.11/site-packages (from requests-ntlm>=1.1.0->qiskit-ibm-runtime<0.30.0,>=0.29.0->quri-parts-qiskit->quri-parts[braket,cirq,qiskit,qulacs,tket]) (44.0.0)\r\n",
            "Requirement already satisfied: pyspnego>=0.4.0 in /home/drokles/.cache/pypoetry/virtualenvs/quri-sdk-notebooks-AzU4R8Lq-py3.11/lib/python3.11/site-packages (from requests-ntlm>=1.1.0->qiskit-ibm-runtime<0.30.0,>=0.29.0->quri-parts-qiskit->quri-parts[braket,cirq,qiskit,qulacs,tket]) (0.11.2)\r\n"
          ]
        },
        {
          "name": "stdout",
          "output_type": "stream",
          "text": [
            "Requirement already satisfied: pbr>=2.0.0 in /home/drokles/.cache/pypoetry/virtualenvs/quri-sdk-notebooks-AzU4R8Lq-py3.11/lib/python3.11/site-packages (from stevedore>=3.0.0->qiskit<2,>=1->quri-parts-qiskit->quri-parts[braket,cirq,qiskit,qulacs,tket]) (6.1.0)\r\n",
            "Requirement already satisfied: mpmath<1.4,>=1.1.0 in /home/drokles/.cache/pypoetry/virtualenvs/quri-sdk-notebooks-AzU4R8Lq-py3.11/lib/python3.11/site-packages (from sympy->amazon-braket-sdk<2.0.0,>=1.25.1->quri-parts-braket->quri-parts[braket,cirq,qiskit,qulacs,tket]) (1.3.0)\r\n"
          ]
        },
        {
          "name": "stdout",
          "output_type": "stream",
          "text": [
            "Requirement already satisfied: pytz>=2020.1 in /home/drokles/.cache/pypoetry/virtualenvs/quri-sdk-notebooks-AzU4R8Lq-py3.11/lib/python3.11/site-packages (from pandas->cirq-core<2.0.0,>=1.0.0->quri-parts-cirq->quri-parts[braket,cirq,qiskit,qulacs,tket]) (2024.2)\r\n",
            "Requirement already satisfied: tzdata>=2022.7 in /home/drokles/.cache/pypoetry/virtualenvs/quri-sdk-notebooks-AzU4R8Lq-py3.11/lib/python3.11/site-packages (from pandas->cirq-core<2.0.0,>=1.0.0->quri-parts-cirq->quri-parts[braket,cirq,qiskit,qulacs,tket]) (2024.2)\r\n"
          ]
        },
        {
          "name": "stdout",
          "output_type": "stream",
          "text": [
            "Requirement already satisfied: cffi>=1.12 in /home/drokles/.cache/pypoetry/virtualenvs/quri-sdk-notebooks-AzU4R8Lq-py3.11/lib/python3.11/site-packages (from cryptography>=1.3->requests-ntlm>=1.1.0->qiskit-ibm-runtime<0.30.0,>=0.29.0->quri-parts-qiskit->quri-parts[braket,cirq,qiskit,qulacs,tket]) (1.17.1)\r\n"
          ]
        },
        {
          "name": "stdout",
          "output_type": "stream",
          "text": [
            "Requirement already satisfied: PyJWT<3.0.0,>=2.8.0 in /home/drokles/.cache/pypoetry/virtualenvs/quri-sdk-notebooks-AzU4R8Lq-py3.11/lib/python3.11/site-packages (from ibm-cloud-sdk-core<4.0.0,>=3.22.0->ibm-platform-services>=0.22.6->qiskit-ibm-runtime<0.30.0,>=0.29.0->quri-parts-qiskit->quri-parts[braket,cirq,qiskit,qulacs,tket]) (2.10.1)\r\n"
          ]
        },
        {
          "name": "stdout",
          "output_type": "stream",
          "text": [
            "Requirement already satisfied: pycparser in /home/drokles/.cache/pypoetry/virtualenvs/quri-sdk-notebooks-AzU4R8Lq-py3.11/lib/python3.11/site-packages (from cffi>=1.12->cryptography>=1.3->requests-ntlm>=1.1.0->qiskit-ibm-runtime<0.30.0,>=0.29.0->quri-parts-qiskit->quri-parts[braket,cirq,qiskit,qulacs,tket]) (2.22)\r\n"
          ]
        },
        {
          "name": "stdout",
          "output_type": "stream",
          "text": [
            "\r\n",
            "\u001b[1m[\u001b[0m\u001b[34;49mnotice\u001b[0m\u001b[1;39;49m]\u001b[0m\u001b[39;49m A new release of pip is available: \u001b[0m\u001b[31;49m24.0\u001b[0m\u001b[39;49m -> \u001b[0m\u001b[32;49m25.1.1\u001b[0m\r\n",
            "\u001b[1m[\u001b[0m\u001b[34;49mnotice\u001b[0m\u001b[1;39;49m]\u001b[0m\u001b[39;49m To update, run: \u001b[0m\u001b[32;49mpip install --upgrade pip\u001b[0m\r\n"
          ]
        }
      ],
      "source": [
        "!pip install \"quri-parts[braket,cirq,qiskit,qulacs,tket]\" pylatexenc"
      ]
    },
    {
      "cell_type": "markdown",
      "id": "99f71b9d",
      "metadata": {},
      "source": [
        "## QuantumGate object\n",
        "\n",
        "In QURI Parts, a quantum gate is represented by a `QuantumGate` object (more precisely `NamedTuple`). A `QuantumGate` contains not only the kind of the gate but also some additional information such as gate parameters and qubits on which the gate acts. You can create gate objects using `QuantumGate`:"
      ]
    },
    {
      "cell_type": "code",
      "execution_count": null,
      "id": "76319e6e",
      "metadata": {},
      "outputs": [
        {
          "name": "stdout",
          "output_type": "stream",
          "text": [
            "QuantumGate(name='X', target_indices=(0,), control_indices=(), classical_indices=(), params=(), pauli_ids=(), unitary_matrix=())\n",
            "QuantumGate(name='RX', target_indices=(1,), control_indices=(), classical_indices=(), params=(1.0471975511965976,), pauli_ids=(), unitary_matrix=())\n",
            "QuantumGate(name='CNOT', target_indices=(1,), control_indices=(2,), classical_indices=(), params=(), pauli_ids=(), unitary_matrix=())\n"
          ]
        }
      ],
      "source": [
        "from math import pi\n",
        "from quri_parts.circuit import QuantumGate\n",
        "\n",
        "gates = [\n",
        "    # X gate acting on qubit 0\n",
        "    QuantumGate(\"X\", target_indices=(0,)),\n",
        "    # Rotation gate acting on qubit 1 with angle pi/3\n",
        "    QuantumGate(\"RX\", target_indices=(1,), params=(pi/3,)),\n",
        "    # CNOT gate on control qubit 2 and target qubit 1\n",
        "    QuantumGate(\"CNOT\", target_indices=(1,), control_indices=(2,)),\n",
        "]\n",
        "\n",
        "for gate in gates:\n",
        "    print(gate)"
      ]
    },
    {
      "cell_type": "markdown",
      "id": "539898d7",
      "metadata": {},
      "source": [
        "However it is more convenient to use factory functions:"
      ]
    },
    {
      "cell_type": "code",
      "execution_count": null,
      "id": "1ca87c01",
      "metadata": {},
      "outputs": [
        {
          "name": "stdout",
          "output_type": "stream",
          "text": [
            "QuantumGate(name='X', target_indices=(0,), control_indices=(), classical_indices=(), params=(), pauli_ids=(), unitary_matrix=())\n",
            "QuantumGate(name='RX', target_indices=(1,), control_indices=(), classical_indices=(), params=(1.0471975511965976,), pauli_ids=(), unitary_matrix=())\n",
            "QuantumGate(name='CNOT', target_indices=(1,), control_indices=(2,), classical_indices=(), params=(), pauli_ids=(), unitary_matrix=())\n"
          ]
        }
      ],
      "source": [
        "from quri_parts.circuit import X, RX, CNOT\n",
        "\n",
        "gates = [\n",
        "    # X gate acting on qubit 0\n",
        "    X(0),\n",
        "    # Rotation gate acting on qubit 1 with angle pi/3\n",
        "    RX(1, pi/3),\n",
        "    # CNOT gate on control qubit 2 and target qubit 1\n",
        "    CNOT(2, 1),\n",
        "]\n",
        "\n",
        "for gate in gates:\n",
        "    print(gate)"
      ]
    },
    {
      "cell_type": "markdown",
      "id": "e959ff1b",
      "metadata": {},
      "source": [
        "In QURI Parts single-qubit rotation gates are defined as follows:\n",
        "$$\n",
        "\\begin{align*}\n",
        "  R_X(\\theta) &= \\exp\\left( -i\\frac{\\theta}{2} X\\right) \\\\\n",
        "  R_Y(\\theta) &= \\exp\\left( -i\\frac{\\theta}{2} Y\\right) \\\\\n",
        "  R_Z(\\theta) &= \\exp\\left( -i\\frac{\\theta}{2} Z\\right) \\\\\n",
        "\\end{align*}\n",
        "$$\n",
        "\n",
        "where $\\theta$ is called the angle of the gate."
      ]
    },
    {
      "cell_type": "markdown",
      "id": "6cb79053",
      "metadata": {},
      "source": [
        "You can access (but not set) attributes of a gate object:"
      ]
    },
    {
      "cell_type": "code",
      "execution_count": null,
      "id": "ab35bc4a",
      "metadata": {},
      "outputs": [
        {
          "name": "stdout",
          "output_type": "stream",
          "text": [
            "name: X, target: (0,)\n",
            "name: RX, target: (1,), angle: 1.0471975511965976\n",
            "name: CNOT, control: (2,), target: (1,)\n",
            "name: PauliRotation, target: (0, 1, 2), pauli_ids: (1, 2, 3), angle: 1.0471975511965976\n"
          ]
        }
      ],
      "source": [
        "from quri_parts.circuit import PauliRotation\n",
        "\n",
        "x_gate = X(0)\n",
        "print(f\"name: {x_gate.name}, target: {x_gate.target_indices}\")\n",
        "\n",
        "rx_gate = RX(1, pi/3)\n",
        "print(f\"name: {rx_gate.name}, target: {rx_gate.target_indices}, angle: {rx_gate.params[0]}\")\n",
        "\n",
        "cnot_gate = CNOT(2, 1)\n",
        "print(f\"name: {cnot_gate.name}, control: {cnot_gate.control_indices}, target: {cnot_gate.target_indices}\")\n",
        "\n",
        "pauli_rot_gate = PauliRotation(target_indices=(0, 1, 2), pauli_ids=(1, 2, 3), angle=pi/3)\n",
        "print(f\"name: {pauli_rot_gate.name}, target: {pauli_rot_gate.target_indices}, pauli_ids: {pauli_rot_gate.pauli_ids}, angle: {pauli_rot_gate.params[0]}\")"
      ]
    },
    {
      "cell_type": "markdown",
      "id": "03a78cd9",
      "metadata": {},
      "source": [
        "## QuantumCircuit object\n",
        "\n",
        "You can construct a quantum circuit by specifying the number of qubits used in the circuit as follows:"
      ]
    },
    {
      "cell_type": "code",
      "execution_count": null,
      "id": "501b88f7",
      "metadata": {},
      "outputs": [],
      "source": [
        "from quri_parts.circuit import QuantumCircuit\n",
        "\n",
        "# Create a circuit for 3 qubits\n",
        "circuit = QuantumCircuit(3)\n",
        "# Add an already created QuantumGate object\n",
        "circuit.add_gate(X(0))\n",
        "# Or use methods to add gates\n",
        "circuit.add_X_gate(0)\n",
        "circuit.add_RX_gate(1, pi/3)\n",
        "circuit.add_CNOT_gate(2, 1)\n",
        "circuit.add_PauliRotation_gate(target_qubits=(0, 1, 2), pauli_id_list=(1, 2, 3), angle=pi/3)"
      ]
    },
    {
      "cell_type": "markdown",
      "id": "7431c919",
      "metadata": {},
      "source": [
        "A `QuantumCircuit` object has several properties:"
      ]
    },
    {
      "cell_type": "code",
      "execution_count": null,
      "id": "e63da874",
      "metadata": {},
      "outputs": [
        {
          "name": "stdout",
          "output_type": "stream",
          "text": [
            "Qubit count: 3\n",
            "Circuit depth: 3\n",
            "# of gates in the circuit: 5\n",
            "QuantumGate(name='X', target_indices=(0,), control_indices=(), classical_indices=(), params=(), pauli_ids=(), unitary_matrix=())\n",
            "QuantumGate(name='X', target_indices=(0,), control_indices=(), classical_indices=(), params=(), pauli_ids=(), unitary_matrix=())\n",
            "QuantumGate(name='RX', target_indices=(1,), control_indices=(), classical_indices=(), params=(1.0471975511965976,), pauli_ids=(), unitary_matrix=())\n",
            "QuantumGate(name='CNOT', target_indices=(1,), control_indices=(2,), classical_indices=(), params=(), pauli_ids=(), unitary_matrix=())\n",
            "QuantumGate(name='PauliRotation', target_indices=(0, 1, 2), control_indices=(), classical_indices=(), params=(1.0471975511965976,), pauli_ids=(1, 2, 3), unitary_matrix=())\n"
          ]
        }
      ],
      "source": [
        "print(\"Qubit count:\", circuit.qubit_count)\n",
        "print(\"Circuit depth:\", circuit.depth)\n",
        "\n",
        "gates = circuit.gates # .gates returns the gates in the circuit as a sequence\n",
        "print(\"# of gates in the circuit:\", len(gates))\n",
        "for gate in gates:\n",
        "    print(gate)"
      ]
    },
    {
      "cell_type": "markdown",
      "id": "64e2ac3b",
      "metadata": {},
      "source": [
        "`QuantumCircuit` objects can be combined and extended:"
      ]
    },
    {
      "cell_type": "code",
      "execution_count": null,
      "id": "da1e7d51",
      "metadata": {},
      "outputs": [
        {
          "name": "stdout",
          "output_type": "stream",
          "text": [
            "Combined circuit:\n",
            " (QuantumGate(name='X', target_indices=(0,), control_indices=(), classical_indices=(), params=(), pauli_ids=(), unitary_matrix=()), QuantumGate(name='X', target_indices=(0,), control_indices=(), classical_indices=(), params=(), pauli_ids=(), unitary_matrix=()), QuantumGate(name='RX', target_indices=(1,), control_indices=(), classical_indices=(), params=(1.0471975511965976,), pauli_ids=(), unitary_matrix=()), QuantumGate(name='CNOT', target_indices=(1,), control_indices=(2,), classical_indices=(), params=(), pauli_ids=(), unitary_matrix=()), QuantumGate(name='PauliRotation', target_indices=(0, 1, 2), control_indices=(), classical_indices=(), params=(1.0471975511965976,), pauli_ids=(1, 2, 3), unitary_matrix=()), QuantumGate(name='Y', target_indices=(1,), control_indices=(), classical_indices=(), params=(), pauli_ids=(), unitary_matrix=()), QuantumGate(name='H', target_indices=(2,), control_indices=(), classical_indices=(), params=(), pauli_ids=(), unitary_matrix=())) \n",
            "\n",
            "Extended circuit:\n",
            " (QuantumGate(name='Y', target_indices=(1,), control_indices=(), classical_indices=(), params=(), pauli_ids=(), unitary_matrix=()), QuantumGate(name='H', target_indices=(2,), control_indices=(), classical_indices=(), params=(), pauli_ids=(), unitary_matrix=()), QuantumGate(name='X', target_indices=(0,), control_indices=(), classical_indices=(), params=(), pauli_ids=(), unitary_matrix=()), QuantumGate(name='X', target_indices=(0,), control_indices=(), classical_indices=(), params=(), pauli_ids=(), unitary_matrix=()), QuantumGate(name='RX', target_indices=(1,), control_indices=(), classical_indices=(), params=(1.0471975511965976,), pauli_ids=(), unitary_matrix=()), QuantumGate(name='CNOT', target_indices=(1,), control_indices=(2,), classical_indices=(), params=(), pauli_ids=(), unitary_matrix=()), QuantumGate(name='PauliRotation', target_indices=(0, 1, 2), control_indices=(), classical_indices=(), params=(1.0471975511965976,), pauli_ids=(1, 2, 3), unitary_matrix=())) \n",
            "\n",
            "Circuit extended by smaller one:\n",
            " (QuantumGate(name='X', target_indices=(3,), control_indices=(), classical_indices=(), params=(), pauli_ids=(), unitary_matrix=()), QuantumGate(name='H', target_indices=(0,), control_indices=(), classical_indices=(), params=(), pauli_ids=(), unitary_matrix=()))\n"
          ]
        }
      ],
      "source": [
        "circuit2 = QuantumCircuit(3)\n",
        "circuit2.add_Y_gate(1)\n",
        "circuit2.add_H_gate(2)\n",
        "\n",
        "combined = circuit + circuit2 # equivalent: combined = circuit.combine(circuit2)\n",
        "print(\"Combined circuit:\\n\", combined.gates, \"\\n\")\n",
        "\n",
        "circuit2 += circuit # equivalent: circuit2.extend(circuit)\n",
        "print(\"Extended circuit:\\n\", circuit2.gates, \"\\n\")\n",
        "\n",
        "# You can also embed a smaller circuit into a larger one\n",
        "circuit_larger = QuantumCircuit(5)\n",
        "circuit_larger.add_X_gate(3)\n",
        "circuit_smaller = QuantumCircuit(3)\n",
        "circuit_smaller.add_H_gate(0)\n",
        "circuit_larger.extend(circuit_smaller)\n",
        "print(\"Circuit extended by smaller one:\\n\", circuit_larger.gates)"
      ]
    },
    {
      "cell_type": "markdown",
      "id": "48057538",
      "metadata": {},
      "source": [
        "## Mutable and immutable circuit objects\n",
        "\n",
        "In the above example, a `QuantumCircuit` object is first created and then some gates are added to it. Contents (in this case a gate sequence) of the `QuantumCircuit` object are mutated in-place. Such an object is called a *mutable object*. A mutable circuit is useful to construct a circuit step-by-step, but mutability is often a cause of a trouble. For example, you may pass a circuit to a function and the function may alter contents of the circuit against your intention:"
      ]
    },
    {
      "cell_type": "code",
      "execution_count": null,
      "id": "ba169352",
      "metadata": {},
      "outputs": [
        {
          "name": "stdout",
          "output_type": "stream",
          "text": [
            "# of gates: 2\n",
            "Circuit depth: 1\n",
            "# of gates: 3\n"
          ]
        }
      ],
      "source": [
        "def get_depth(circuit):\n",
        "    # This function adds some gates despite its name!\n",
        "    depth = circuit.depth\n",
        "    circuit.add_X_gate(0)\n",
        "    return depth\n",
        "\n",
        "circuit = QuantumCircuit(2)\n",
        "circuit.add_Z_gate(0)\n",
        "circuit.add_H_gate(1)\n",
        "print(\"# of gates:\", len(circuit.gates))\n",
        "\n",
        "depth = get_depth(circuit)\n",
        "print(\"Circuit depth:\", depth)\n",
        "print(\"# of gates:\", len(circuit.gates))"
      ]
    },
    {
      "cell_type": "markdown",
      "id": "d3b6cc35",
      "metadata": {},
      "source": [
        "In the above example, the circuit depth of the argument and the circuit depth of the return value are different because of the additional gate operation in the `get_depth()` function.\n",
        "\n",
        "This example is rather explicit and easy to avoid, but there are more subtle cases for which it is difficult to find the cause of the trouble. To prevent such a problem, you can use an *immutable* version (which we often call a *frozen* version) of the circuit obtained by `.freeze()`:"
      ]
    },
    {
      "cell_type": "code",
      "execution_count": null,
      "id": "fd0013e0",
      "metadata": {},
      "outputs": [
        {
          "name": "stdout",
          "output_type": "stream",
          "text": [
            "# of gates: 2\n",
            "ERROR: 'quri_parts.rust.circuit.circuit.ImmutableQuantumCi' object has no attribute 'add_X_gate'\n",
            "# of gates: 2\n"
          ]
        }
      ],
      "source": [
        "circuit = QuantumCircuit(2)\n",
        "circuit.add_Z_gate(0)\n",
        "circuit.add_H_gate(1)\n",
        "print(\"# of gates:\", len(circuit.gates))\n",
        "\n",
        "frozen_circuit = circuit.freeze()\n",
        "\n",
        "try:\n",
        "    depth = get_depth(frozen_circuit)\n",
        "except Exception as e:\n",
        "    print(\"ERROR:\", e)\n",
        "\n",
        "print(\"# of gates:\", len(circuit.gates))"
      ]
    },
    {
      "cell_type": "markdown",
      "id": "6f89e789",
      "metadata": {},
      "source": [
        "The frozen version does not have methods to alter its contents, so you can safely use one frozen circuit object in many places.\n",
        "\n",
        "You can call `.freeze()` on the frozen version too. In this case, the frozen version itself is returned without copy:"
      ]
    },
    {
      "cell_type": "code",
      "execution_count": null,
      "id": "9de66eef",
      "metadata": {},
      "outputs": [
        {
          "name": "stdout",
          "output_type": "stream",
          "text": [
            "<quri_parts.rust.circuit.circuit.ImmutableQuantumCircuit object at 0x7fa177f7b090>\n",
            "<quri_parts.rust.circuit.circuit.ImmutableQuantumCircuit object at 0x7fa177f7b090>\n"
          ]
        }
      ],
      "source": [
        "print(frozen_circuit)\n",
        "frozen_circuit2 = frozen_circuit.freeze()\n",
        "print(frozen_circuit2)"
      ]
    },
    {
      "cell_type": "markdown",
      "id": "b6c0087f",
      "metadata": {},
      "source": [
        "When you want to copy a circuit so that further modification does not affect the original one, call `.get_mutable_copy()`:"
      ]
    },
    {
      "cell_type": "code",
      "execution_count": null,
      "id": "5176297c",
      "metadata": {},
      "outputs": [
        {
          "name": "stdout",
          "output_type": "stream",
          "text": [
            "# of gates in circuit: 2\n",
            "# of gates in copied_circuit: 3\n",
            "# of gates in frozen_circuit: 2\n",
            "# of gates in copied_circuit2: 3\n"
          ]
        }
      ],
      "source": [
        "copied_circuit = circuit.get_mutable_copy()\n",
        "copied_circuit.add_X_gate(0)\n",
        "print(\"# of gates in circuit:\", len(circuit.gates))\n",
        "print(\"# of gates in copied_circuit:\", len(copied_circuit.gates))\n",
        "\n",
        "# You can also copy a frozen circuit\n",
        "copied_circuit2 = frozen_circuit.get_mutable_copy()\n",
        "copied_circuit2.add_X_gate(0)\n",
        "print(\"# of gates in frozen_circuit:\", len(frozen_circuit.gates))\n",
        "print(\"# of gates in copied_circuit2:\", len(copied_circuit2.gates))"
      ]
    },
    {
      "cell_type": "markdown",
      "id": "4f4ca1a3",
      "metadata": {},
      "source": [
        "## Circuit conversion\n",
        "\n",
        "QURI Parts provides the circuit converter which generates the circuit object designed for other platforms/SDKs. If you want to get the Qulacs circuit, you can use `quri_parts.qulacs.circuit.convert_circuit` function."
      ]
    },
    {
      "cell_type": "code",
      "execution_count": null,
      "id": "ef62d414",
      "metadata": {},
      "outputs": [
        {
          "name": "stdout",
          "output_type": "stream",
          "text": [
            "*** Quantum Circuit Info ***\n",
            "# of qubit: 2\n",
            "# of step : 1\n",
            "# of gate : 2\n",
            "# of 1 qubit gate: 2\n",
            "Clifford  : yes\n",
            "Gaussian  : no\n",
            "\n",
            "\n",
            " *** Quantum State ***\n",
            " * Qubit Count : 2\n",
            " * Dimension   : 4\n",
            " * State vector : \n",
            "(0.707107,0)\n",
            "     (-0,-0)\n",
            "(0.707107,0)\n",
            "       (0,0)\n",
            "\n"
          ]
        }
      ],
      "source": [
        "from quri_parts.qulacs.circuit import convert_circuit\n",
        "qulacs_circuit = convert_circuit(circuit)\n",
        "print(qulacs_circuit)\n",
        "\n",
        "import qulacs\n",
        "qulacs_state = qulacs.QuantumState(2)\n",
        "qulacs_circuit.update_quantum_state(qulacs_state)\n",
        "print(qulacs_state)"
      ]
    },
    {
      "cell_type": "markdown",
      "id": "14c10015",
      "metadata": {},
      "source": [
        "The location of such a conversion function of course depends on the SDK/simulator you want to use, but it is typically located at `quri_parts.[SDK].circuit.convert_circuit`.\n",
        "\n",
        "Currently, we support converting QURI Parts circuit into:\n",
        "\n",
        "- Braket circuit: [API](https://quri-parts.qunasys.com/quri_parts/braket/quri_parts.braket.circuit#quri_parts.braket.circuit.convert_circuit)\n",
        "- Cirq circuit: [API](https://quri-parts.qunasys.com/quri_parts/cirq/quri_parts.cirq.circuit#quri_parts.cirq.circuit.convert_circuit)\n",
        "- Qulacs circuit: [API](https://quri-parts.qunasys.com/quri_parts/qulacs/quri_parts.qulacs.circuit#quri_parts.qulacs.circuit.convert_circuit)\n",
        "- Qiskit circuit: [API](https://quri-parts.qunasys.com/quri_parts/qiskit/quri_parts.qiskit.circuit#quri_parts.qiskit.circuit.convert_circuit)\n",
        "- TKet circuit: [API](https://quri-parts.qunasys.com/quri_parts/tket/quri_parts.tket.circuit#quri_parts.tket.circuit.convert_circuit)"
      ]
    },
    {
      "cell_type": "markdown",
      "id": "2e4dec02-59b3-494c-89c7-54dd143a6b29",
      "metadata": {},
      "source": [
        "## Circuit visualization\n",
        "\n",
        "Sometimes it can be a help if you can see the circuit visually to make sure whether the cirucuit is what you really wanted. Here we shows several ways to do it."
      ]
    },
    {
      "cell_type": "markdown",
      "id": "0257fe02-3a68-4a1e-9050-4891ef66e57b",
      "metadata": {},
      "source": [
        "### Using QURI Parts\n",
        "\n",
        "QURI Parts has the function to display `...Circuit` with ASCII Art."
      ]
    },
    {
      "cell_type": "code",
      "execution_count": null,
      "id": "64512ffa-1f07-431e-ae46-1bd7fa9c239b",
      "metadata": {},
      "outputs": [
        {
          "name": "stdout",
          "output_type": "stream",
          "text": [
            "   ___     ___                     ___     ___                     ___     ___  \n",
            "  |PRY|   |PRZ|                   |PRY|   |PRZ|                   |PRY|   |PRZ| \n",
            "--|0  |---|1  |-------------●-----|11 |---|12 |-------------●-----|22 |---|23 |-\n",
            "  |___|   |___|             |     |___|   |___|             |     |___|   |___| \n",
            "   ___     ___             _|_     ___     ___             _|_     ___     ___  \n",
            "  |PRY|   |PRZ|           |CZ |   |PRY|   |PRZ|           |CZ |   |PRY|   |PRZ| \n",
            "--|2  |---|3  |-----●-----|9  |---|13 |---|14 |-----●-----|20 |---|24 |---|25 |-\n",
            "  |___|   |___|     |     |___|   |___|   |___|     |     |___|   |___|   |___| \n",
            "   ___     ___     _|_             ___     ___     _|_             ___     ___  \n",
            "  |PRY|   |PRZ|   |CZ |           |PRY|   |PRZ|   |CZ |           |PRY|   |PRZ| \n",
            "--|4  |---|5  |---|8  |-----●-----|15 |---|16 |---|19 |-----●-----|26 |---|27 |-\n",
            "  |___|   |___|   |___|     |     |___|   |___|   |___|     |     |___|   |___| \n",
            "   ___     ___             _|_     ___     ___             _|_     ___     ___  \n",
            "  |PRY|   |PRZ|           |CZ |   |PRY|   |PRZ|           |CZ |   |PRY|   |PRZ| \n",
            "--|6  |---|7  |-----------|10 |---|17 |---|18 |-----------|21 |---|28 |---|29 |-\n",
            "  |___|   |___|           |___|   |___|   |___|           |___|   |___|   |___| \n"
          ]
        }
      ],
      "source": [
        "from quri_parts.algo.ansatz import HardwareEfficient\n",
        "from quri_parts.circuit.utils.circuit_drawer import draw_circuit\n",
        "\n",
        "hwe_ansatz = HardwareEfficient(4, 2)\n",
        "draw_circuit(hwe_ansatz)"
      ]
    },
    {
      "cell_type": "markdown",
      "id": "8a520f0b-0da4-40d9-aa61-b72f8287eb01",
      "metadata": {},
      "source": [
        "### Using other libraries\n",
        "\n",
        "If you want to get an image as a different form, you can convert `...Circuit` into other format such as qiskit's `QuantumCircuit` and call the method to draw.\n",
        "\n",
        "Note that in many cases you should bind circuit parameters before conversion because most of the libraries don't have the concept of [ParametricCircuit](../../2_advanced/1_parametric/0_parametric_circuit/index.md)."
      ]
    },
    {
      "cell_type": "markdown",
      "id": "5dde986d-4c48-450b-ae82-7399b15ab45a",
      "metadata": {},
      "source": [
        "#### qiskit"
      ]
    },
    {
      "cell_type": "code",
      "execution_count": null,
      "id": "a9dc7273-bab7-4f58-8fff-98f2b0713393",
      "metadata": {},
      "outputs": [
        {
          "data": {
            "image/png": "[encoded data removed]",
            "text/plain": [
              "<Figure size 956.385x367.889 with 1 Axes>"
            ]
          },
          "execution_count": 14,
          "metadata": {},
          "output_type": "execute_result"
        }
      ],
      "source": [
        "import random\n",
        "\n",
        "from quri_parts.algo.ansatz import HardwareEfficient\n",
        "from quri_parts.qiskit.circuit import convert_circuit\n",
        "\n",
        "hwe_ansatz = HardwareEfficient(4, 2)\n",
        "\n",
        "# bind random parameters\n",
        "circuit = hwe_ansatz.bind_parameters(\n",
        "    [random.random() for _ in range(hwe_ansatz.parameter_count)]\n",
        ")\n",
        "\n",
        "qiskit_circuit = convert_circuit(circuit)\n",
        "#qiskit_circuit.draw()  # default: ASCII art\n",
        "qiskit_circuit.draw(\"mpl\")"
      ]
    },
    {
      "cell_type": "markdown",
      "id": "a95a6e55-9b4f-48e5-834b-a40a0b5db95d",
      "metadata": {},
      "source": [
        "#### braket"
      ]
    },
    {
      "cell_type": "code",
      "execution_count": null,
      "id": "0b1ea2d6-d044-4fbd-ba9c-ff6775863a28",
      "metadata": {},
      "outputs": [
        {
          "name": "stdout",
          "output_type": "stream",
          "text": [
            "T  : │     0      │     1      │  2  │  3  │     4      │     5      │  6  │  7  │     8      │     9      │\n",
            "      ┌──────────┐ ┌──────────┐             ┌──────────┐ ┌──────────┐             ┌──────────┐ ┌──────────┐ \n",
            "q0 : ─┤ Ry(0.04) ├─┤ Rz(0.22) ├─────────●───┤ Ry(0.92) ├─┤ Rz(0.05) ├─────────●───┤ Ry(0.82) ├─┤ Rz(0.10) ├─\n",
            "      └──────────┘ └──────────┘         │   └──────────┘ └──────────┘         │   └──────────┘ └──────────┘ \n",
            "      ┌──────────┐ ┌──────────┐       ┌─┴─┐ ┌──────────┐ ┌──────────┐       ┌─┴─┐ ┌──────────┐ ┌──────────┐ \n",
            "q1 : ─┤ Ry(0.04) ├─┤ Rz(0.12) ├───●───┤ Z ├─┤ Ry(0.05) ├─┤ Rz(0.56) ├───●───┤ Z ├─┤ Ry(0.98) ├─┤ Rz(0.63) ├─\n",
            "      └──────────┘ └──────────┘   │   └───┘ └──────────┘ └──────────┘   │   └───┘ └──────────┘ └──────────┘ \n",
            "      ┌──────────┐ ┌──────────┐ ┌─┴─┐       ┌──────────┐ ┌──────────┐ ┌─┴─┐       ┌──────────┐ ┌──────────┐ \n",
            "q2 : ─┤ Ry(0.88) ├─┤ Rz(0.67) ├─┤ Z ├───●───┤ Ry(0.51) ├─┤ Rz(0.42) ├─┤ Z ├───●───┤ Ry(0.04) ├─┤ Rz(0.55) ├─\n",
            "      └──────────┘ └──────────┘ └───┘   │   └──────────┘ └──────────┘ └───┘   │   └──────────┘ └──────────┘ \n",
            "      ┌──────────┐ ┌──────────┐       ┌─┴─┐ ┌──────────┐ ┌──────────┐       ┌─┴─┐ ┌──────────┐ ┌──────────┐ \n",
            "q3 : ─┤ Ry(0.21) ├─┤ Rz(0.43) ├───────┤ Z ├─┤ Ry(0.35) ├─┤ Rz(0.36) ├───────┤ Z ├─┤ Ry(0.02) ├─┤ Rz(0.44) ├─\n",
            "      └──────────┘ └──────────┘       └───┘ └──────────┘ └──────────┘       └───┘ └──────────┘ └──────────┘ \n",
            "T  : │     0      │     1      │  2  │  3  │     4      │     5      │  6  │  7  │     8      │     9      │\n"
          ]
        }
      ],
      "source": [
        "import random\n",
        "\n",
        "from quri_parts.algo.ansatz import HardwareEfficient\n",
        "from quri_parts.braket.circuit import convert_circuit\n",
        "\n",
        "hwe_ansatz = HardwareEfficient(4, 2)\n",
        "\n",
        "# bind random parameters\n",
        "circuit = hwe_ansatz.bind_parameters(\n",
        "    [random.random() for _ in range(hwe_ansatz.parameter_count)]\n",
        ")\n",
        "\n",
        "braket_circuit = convert_circuit(circuit)\n",
        "print(braket_circuit)"
      ]
    },
    {
      "cell_type": "markdown",
      "id": "ae28b142-9706-4cfe-b01b-384bca10d942",
      "metadata": {},
      "source": [
        "#### cirq"
      ]
    },
    {
      "cell_type": "code",
      "execution_count": null,
      "id": "5b503ad7-8a6d-40ab-b760-06296ff8fe53",
      "metadata": {},
      "outputs": [
        {
          "data": {
            "image/svg+xml": [
              "<svg xmlns=\"http://www.w3.org/2000/svg\" width=\"964.0868359375\" height=\"200.0\"><line x1=\"30.0\" x2=\"934.0868359375\" y1=\"25.0\" y2=\"25.0\" stroke=\"#1967d2\" stroke-width=\"1\" /><line x1=\"30.0\" x2=\"934.0868359375\" y1=\"75.0\" y2=\"75.0\" stroke=\"#1967d2\" stroke-width=\"1\" /><line x1=\"30.0\" x2=\"934.0868359375\" y1=\"125.0\" y2=\"125.0\" stroke=\"#1967d2\" stroke-width=\"1\" /><line x1=\"30.0\" x2=\"934.0868359375\" y1=\"175.0\" y2=\"175.0\" stroke=\"#1967d2\" stroke-width=\"1\" /><line x1=\"298.0289453125\" x2=\"298.0289453125\" y1=\"75.0\" y2=\"125.0\" stroke=\"black\" stroke-width=\"3\" /><line x1=\"358.0289453125\" x2=\"358.0289453125\" y1=\"25.0\" y2=\"75.0\" stroke=\"black\" stroke-width=\"3\" /><line x1=\"358.0289453125\" x2=\"358.0289453125\" y1=\"125.0\" y2=\"175.0\" stroke=\"black\" stroke-width=\"3\" /><line x1=\"626.057890625\" x2=\"626.057890625\" y1=\"75.0\" y2=\"125.0\" stroke=\"black\" stroke-width=\"3\" /><line x1=\"686.057890625\" x2=\"686.057890625\" y1=\"25.0\" y2=\"75.0\" stroke=\"black\" stroke-width=\"3\" /><line x1=\"686.057890625\" x2=\"686.057890625\" y1=\"125.0\" y2=\"175.0\" stroke=\"black\" stroke-width=\"3\" /><rect x=\"10.0\" y=\"5.0\" width=\"40\" height=\"40\" stroke=\"black\" fill=\"white\" stroke-width=\"0\" /><text x=\"30.0\" y=\"25.0\" dominant-baseline=\"middle\" text-anchor=\"middle\" font-size=\"14px\" font-family=\"sans\\-serif:style=normal:variant=normal:weight=normal:stretch=normal:size=10.0\">0: </text><rect x=\"10.0\" y=\"55.0\" width=\"40\" height=\"40\" stroke=\"black\" fill=\"white\" stroke-width=\"0\" /><text x=\"30.0\" y=\"75.0\" dominant-baseline=\"middle\" text-anchor=\"middle\" font-size=\"14px\" font-family=\"sans\\-serif:style=normal:variant=normal:weight=normal:stretch=normal:size=10.0\">1: </text><rect x=\"10.0\" y=\"105.0\" width=\"40\" height=\"40\" stroke=\"black\" fill=\"white\" stroke-width=\"0\" /><text x=\"30.0\" y=\"125.0\" dominant-baseline=\"middle\" text-anchor=\"middle\" font-size=\"14px\" font-family=\"sans\\-serif:style=normal:variant=normal:weight=normal:stretch=normal:size=10.0\">2: </text><rect x=\"10.0\" y=\"155.0\" width=\"40\" height=\"40\" stroke=\"black\" fill=\"white\" stroke-width=\"0\" /><text x=\"30.0\" y=\"175.0\" dominant-baseline=\"middle\" text-anchor=\"middle\" font-size=\"14px\" font-family=\"sans\\-serif:style=normal:variant=normal:weight=normal:stretch=normal:size=10.0\">3: </text><rect x=\"70.0\" y=\"5.0\" width=\"84.097734375\" height=\"40\" stroke=\"black\" fill=\"white\" stroke-width=\"1\" /><text x=\"112.04886718750001\" y=\"25.0\" dominant-baseline=\"middle\" text-anchor=\"middle\" font-size=\"14px\" font-family=\"sans\\-serif:style=normal:variant=normal:weight=normal:stretch=normal:size=10.0\">Ry(0.259π)</text><rect x=\"70.0\" y=\"55.0\" width=\"84.097734375\" height=\"40\" stroke=\"black\" fill=\"white\" stroke-width=\"1\" /><text x=\"112.04886718750001\" y=\"75.0\" dominant-baseline=\"middle\" text-anchor=\"middle\" font-size=\"14px\" font-family=\"sans\\-serif:style=normal:variant=normal:weight=normal:stretch=normal:size=10.0\">Ry(0.209π)</text><rect x=\"70.0\" y=\"105.0\" width=\"84.097734375\" height=\"40\" stroke=\"black\" fill=\"white\" stroke-width=\"1\" /><text x=\"112.04886718750001\" y=\"125.0\" dominant-baseline=\"middle\" text-anchor=\"middle\" font-size=\"14px\" font-family=\"sans\\-serif:style=normal:variant=normal:weight=normal:stretch=normal:size=10.0\">Ry(0.089π)</text><rect x=\"70.0\" y=\"155.0\" width=\"84.097734375\" height=\"40\" stroke=\"black\" fill=\"white\" stroke-width=\"1\" /><text x=\"112.04886718750001\" y=\"175.0\" dominant-baseline=\"middle\" text-anchor=\"middle\" font-size=\"14px\" font-family=\"sans\\-serif:style=normal:variant=normal:weight=normal:stretch=normal:size=10.0\">Ry(0.317π)</text><rect x=\"174.09773437500002\" y=\"5.0\" width=\"83.93121093750001\" height=\"40\" stroke=\"black\" fill=\"white\" stroke-width=\"1\" /><text x=\"216.06333984375001\" y=\"25.0\" dominant-baseline=\"middle\" text-anchor=\"middle\" font-size=\"14px\" font-family=\"sans\\-serif:style=normal:variant=normal:weight=normal:stretch=normal:size=10.0\">Rz(0.162π)</text><rect x=\"174.09773437500002\" y=\"55.0\" width=\"83.93121093750001\" height=\"40\" stroke=\"black\" fill=\"white\" stroke-width=\"1\" /><text x=\"216.06333984375001\" y=\"75.0\" dominant-baseline=\"middle\" text-anchor=\"middle\" font-size=\"14px\" font-family=\"sans\\-serif:style=normal:variant=normal:weight=normal:stretch=normal:size=10.0\">Rz(0.265π)</text><rect x=\"174.09773437500002\" y=\"105.0\" width=\"83.93121093750001\" height=\"40\" stroke=\"black\" fill=\"white\" stroke-width=\"1\" /><text x=\"216.06333984375001\" y=\"125.0\" dominant-baseline=\"middle\" text-anchor=\"middle\" font-size=\"14px\" font-family=\"sans\\-serif:style=normal:variant=normal:weight=normal:stretch=normal:size=10.0\">Rz(0.252π)</text><rect x=\"174.09773437500002\" y=\"155.0\" width=\"83.93121093750001\" height=\"40\" stroke=\"black\" fill=\"white\" stroke-width=\"1\" /><text x=\"216.06333984375001\" y=\"175.0\" dominant-baseline=\"middle\" text-anchor=\"middle\" font-size=\"14px\" font-family=\"sans\\-serif:style=normal:variant=normal:weight=normal:stretch=normal:size=10.0\">Rz(0.159π)</text><circle cx=\"298.0289453125\" cy=\"75.0\" r=\"10.0\" /><circle cx=\"298.0289453125\" cy=\"125.0\" r=\"10.0\" /><circle cx=\"358.0289453125\" cy=\"25.0\" r=\"10.0\" /><circle cx=\"358.0289453125\" cy=\"75.0\" r=\"10.0\" /><circle cx=\"358.0289453125\" cy=\"125.0\" r=\"10.0\" /><circle cx=\"358.0289453125\" cy=\"175.0\" r=\"10.0\" /><rect x=\"398.0289453125\" y=\"5.0\" width=\"84.097734375\" height=\"40\" stroke=\"black\" fill=\"white\" stroke-width=\"1\" /><text x=\"440.0778125\" y=\"25.0\" dominant-baseline=\"middle\" text-anchor=\"middle\" font-size=\"14px\" font-family=\"sans\\-serif:style=normal:variant=normal:weight=normal:stretch=normal:size=10.0\">Ry(0.117π)</text><rect x=\"398.0289453125\" y=\"55.0\" width=\"84.097734375\" height=\"40\" stroke=\"black\" fill=\"white\" stroke-width=\"1\" /><text x=\"440.0778125\" y=\"75.0\" dominant-baseline=\"middle\" text-anchor=\"middle\" font-size=\"14px\" font-family=\"sans\\-serif:style=normal:variant=normal:weight=normal:stretch=normal:size=10.0\">Ry(0.057π)</text><rect x=\"398.0289453125\" y=\"105.0\" width=\"84.097734375\" height=\"40\" stroke=\"black\" fill=\"white\" stroke-width=\"1\" /><text x=\"440.0778125\" y=\"125.0\" dominant-baseline=\"middle\" text-anchor=\"middle\" font-size=\"14px\" font-family=\"sans\\-serif:style=normal:variant=normal:weight=normal:stretch=normal:size=10.0\">Ry(0.276π)</text><rect x=\"398.0289453125\" y=\"155.0\" width=\"84.097734375\" height=\"40\" stroke=\"black\" fill=\"white\" stroke-width=\"1\" /><text x=\"440.0778125\" y=\"175.0\" dominant-baseline=\"middle\" text-anchor=\"middle\" font-size=\"14px\" font-family=\"sans\\-serif:style=normal:variant=normal:weight=normal:stretch=normal:size=10.0\">Ry(0.232π)</text><rect x=\"502.1266796875\" y=\"5.0\" width=\"83.93121093750001\" height=\"40\" stroke=\"black\" fill=\"white\" stroke-width=\"1\" /><text x=\"544.09228515625\" y=\"25.0\" dominant-baseline=\"middle\" text-anchor=\"middle\" font-size=\"14px\" font-family=\"sans\\-serif:style=normal:variant=normal:weight=normal:stretch=normal:size=10.0\">Rz(0.154π)</text><rect x=\"502.1266796875\" y=\"55.0\" width=\"83.93121093750001\" height=\"40\" stroke=\"black\" fill=\"white\" stroke-width=\"1\" /><text x=\"544.09228515625\" y=\"75.0\" dominant-baseline=\"middle\" text-anchor=\"middle\" font-size=\"14px\" font-family=\"sans\\-serif:style=normal:variant=normal:weight=normal:stretch=normal:size=10.0\">Rz(0.118π)</text><rect x=\"502.1266796875\" y=\"105.0\" width=\"83.93121093750001\" height=\"40\" stroke=\"black\" fill=\"white\" stroke-width=\"1\" /><text x=\"544.09228515625\" y=\"125.0\" dominant-baseline=\"middle\" text-anchor=\"middle\" font-size=\"14px\" font-family=\"sans\\-serif:style=normal:variant=normal:weight=normal:stretch=normal:size=10.0\">Rz(0.128π)</text><rect x=\"502.1266796875\" y=\"155.0\" width=\"83.93121093750001\" height=\"40\" stroke=\"black\" fill=\"white\" stroke-width=\"1\" /><text x=\"544.09228515625\" y=\"175.0\" dominant-baseline=\"middle\" text-anchor=\"middle\" font-size=\"14px\" font-family=\"sans\\-serif:style=normal:variant=normal:weight=normal:stretch=normal:size=10.0\">Rz(0.049π)</text><circle cx=\"626.057890625\" cy=\"75.0\" r=\"10.0\" /><circle cx=\"626.057890625\" cy=\"125.0\" r=\"10.0\" /><circle cx=\"686.057890625\" cy=\"25.0\" r=\"10.0\" /><circle cx=\"686.057890625\" cy=\"75.0\" r=\"10.0\" /><circle cx=\"686.057890625\" cy=\"125.0\" r=\"10.0\" /><circle cx=\"686.057890625\" cy=\"175.0\" r=\"10.0\" /><rect x=\"726.057890625\" y=\"5.0\" width=\"84.097734375\" height=\"40\" stroke=\"black\" fill=\"white\" stroke-width=\"1\" /><text x=\"768.1067578125001\" y=\"25.0\" dominant-baseline=\"middle\" text-anchor=\"middle\" font-size=\"14px\" font-family=\"sans\\-serif:style=normal:variant=normal:weight=normal:stretch=normal:size=10.0\">Ry(0.243π)</text><rect x=\"726.057890625\" y=\"55.0\" width=\"84.097734375\" height=\"40\" stroke=\"black\" fill=\"white\" stroke-width=\"1\" /><text x=\"768.1067578125001\" y=\"75.0\" dominant-baseline=\"middle\" text-anchor=\"middle\" font-size=\"14px\" font-family=\"sans\\-serif:style=normal:variant=normal:weight=normal:stretch=normal:size=10.0\">Ry(0.064π)</text><rect x=\"726.057890625\" y=\"105.0\" width=\"84.097734375\" height=\"40\" stroke=\"black\" fill=\"white\" stroke-width=\"1\" /><text x=\"768.1067578125001\" y=\"125.0\" dominant-baseline=\"middle\" text-anchor=\"middle\" font-size=\"14px\" font-family=\"sans\\-serif:style=normal:variant=normal:weight=normal:stretch=normal:size=10.0\">Ry(0.177π)</text><rect x=\"726.057890625\" y=\"155.0\" width=\"84.097734375\" height=\"40\" stroke=\"black\" fill=\"white\" stroke-width=\"1\" /><text x=\"768.1067578125001\" y=\"175.0\" dominant-baseline=\"middle\" text-anchor=\"middle\" font-size=\"14px\" font-family=\"sans\\-serif:style=normal:variant=normal:weight=normal:stretch=normal:size=10.0\">Ry(0.234π)</text><rect x=\"830.155625\" y=\"5.0\" width=\"83.93121093750001\" height=\"40\" stroke=\"black\" fill=\"white\" stroke-width=\"1\" /><text x=\"872.12123046875\" y=\"25.0\" dominant-baseline=\"middle\" text-anchor=\"middle\" font-size=\"14px\" font-family=\"sans\\-serif:style=normal:variant=normal:weight=normal:stretch=normal:size=10.0\">Rz(0.194π)</text><rect x=\"830.155625\" y=\"55.0\" width=\"83.93121093750001\" height=\"40\" stroke=\"black\" fill=\"white\" stroke-width=\"1\" /><text x=\"872.12123046875\" y=\"75.0\" dominant-baseline=\"middle\" text-anchor=\"middle\" font-size=\"14px\" font-family=\"sans\\-serif:style=normal:variant=normal:weight=normal:stretch=normal:size=10.0\">Rz(0.24π)</text><rect x=\"830.155625\" y=\"105.0\" width=\"83.93121093750001\" height=\"40\" stroke=\"black\" fill=\"white\" stroke-width=\"1\" /><text x=\"872.12123046875\" y=\"125.0\" dominant-baseline=\"middle\" text-anchor=\"middle\" font-size=\"14px\" font-family=\"sans\\-serif:style=normal:variant=normal:weight=normal:stretch=normal:size=10.0\">Rz(0.123π)</text><rect x=\"830.155625\" y=\"155.0\" width=\"83.93121093750001\" height=\"40\" stroke=\"black\" fill=\"white\" stroke-width=\"1\" /><text x=\"872.12123046875\" y=\"175.0\" dominant-baseline=\"middle\" text-anchor=\"middle\" font-size=\"14px\" font-family=\"sans\\-serif:style=normal:variant=normal:weight=normal:stretch=normal:size=10.0\">Rz(0.129π)</text></svg>"
            ],
            "text/plain": [
              "<cirq.contrib.svg.svg.SVGCircuit at 0x7fa1160e0b90>"
            ]
          },
          "execution_count": 16,
          "metadata": {},
          "output_type": "execute_result"
        }
      ],
      "source": [
        "import random\n",
        "\n",
        "from quri_parts.algo.ansatz import HardwareEfficient\n",
        "from quri_parts.cirq.circuit import convert_circuit\n",
        "\n",
        "from cirq.contrib.svg import SVGCircuit\n",
        "\n",
        "hwe_ansatz = HardwareEfficient(4, 2)\n",
        "\n",
        "# bind random parameters\n",
        "circuit = hwe_ansatz.bind_parameters(\n",
        "    [random.random() for _ in range(hwe_ansatz.parameter_count)]\n",
        ")\n",
        "\n",
        "cirq_circuit = convert_circuit(circuit)\n",
        "# print(cirq_circuit)  # ASCII art\n",
        "SVGCircuit(cirq_circuit)"
      ]
    },
    {
      "cell_type": "markdown",
      "id": "e19a71fd-939e-472b-83b3-c53c903a7c68",
      "metadata": {},
      "source": [
        "#### tket"
      ]
    },
    {
      "cell_type": "code",
      "execution_count": null,
      "id": "138504d5-f1a8-491f-84bb-94776ef6aff6",
      "metadata": {},
      "outputs": [
        {
          "data": {
            "text/html": [
              "\n",
              "\n",
              "\n",
              "\n",
              "\n",
              "\n",
              "<div style=\"resize: vertical; overflow: auto; height: 400px; display: block\">\n",
              "    <iframe srcdoc=\"\n",
              "&lt;!DOCTYPE html&gt;\n",
              "&lt;html lang=&#34;en&#34;&gt;\n",
              "&lt;head&gt;\n",
              "    &lt;meta charset=&#34;UTF-8&#34;&gt;\n",
              "    &lt;!-- Download Vue 3--&gt;\n",
              "&lt;script type=&#34;application/javascript&#34; src=&#34;https://cdn.jsdelivr.net/npm/vue@3&#34;&gt;&lt;/script&gt;\n",
              "&lt;!-- Download Circuit Renderer with styles --&gt;\n",
              "&lt;script type=&#34;application/javascript&#34; src=&#34;https://unpkg.com/pytket-circuit-renderer@0.10/dist/pytket-circuit-renderer.umd.js&#34;&gt;&lt;/script&gt;\n",
              "&lt;link rel=&#34;stylesheet&#34; href=&#34;https://unpkg.com/pytket-circuit-renderer@0.10/dist/pytket-circuit-renderer.css&#34;&gt;\n",
              "&lt;/head&gt;\n",
              "&lt;body&gt;\n",
              "\n",
              "\n",
              "    &lt;div id=&#34;circuit-display-vue-container-dd080b6d-a337-4e04-a9ca-e582befe6ce2&#34; class=&#34;pytket-circuit-display-container&#34;&gt;\n",
              "        &lt;div style=&#34;display: none&#34;&gt;\n",
              "            &lt;div id=&#34;circuit-json-to-display&#34;&gt;{&#34;bits&#34;: [], &#34;commands&#34;: [{&#34;args&#34;: [[&#34;q&#34;, [0]]], &#34;op&#34;: {&#34;params&#34;: [&#34;0.235994131773642&#34;], &#34;type&#34;: &#34;Ry&#34;}}, {&#34;args&#34;: [[&#34;q&#34;, [1]]], &#34;op&#34;: {&#34;params&#34;: [&#34;0.0315230304204716&#34;], &#34;type&#34;: &#34;Ry&#34;}}, {&#34;args&#34;: [[&#34;q&#34;, [2]]], &#34;op&#34;: {&#34;params&#34;: [&#34;0.150870815307489&#34;], &#34;type&#34;: &#34;Ry&#34;}}, {&#34;args&#34;: [[&#34;q&#34;, [3]]], &#34;op&#34;: {&#34;params&#34;: [&#34;0.175216146773109&#34;], &#34;type&#34;: &#34;Ry&#34;}}, {&#34;args&#34;: [[&#34;q&#34;, [0]]], &#34;op&#34;: {&#34;params&#34;: [&#34;0.0735357450369902&#34;], &#34;type&#34;: &#34;Rz&#34;}}, {&#34;args&#34;: [[&#34;q&#34;, [1]]], &#34;op&#34;: {&#34;params&#34;: [&#34;0.199688613769064&#34;], &#34;type&#34;: &#34;Rz&#34;}}, {&#34;args&#34;: [[&#34;q&#34;, [2]]], &#34;op&#34;: {&#34;params&#34;: [&#34;0.0967425393567105&#34;], &#34;type&#34;: &#34;Rz&#34;}}, {&#34;args&#34;: [[&#34;q&#34;, [3]]], &#34;op&#34;: {&#34;params&#34;: [&#34;0.0443431874606842&#34;], &#34;type&#34;: &#34;Rz&#34;}}, {&#34;args&#34;: [[&#34;q&#34;, [1]], [&#34;q&#34;, [2]]], &#34;op&#34;: {&#34;type&#34;: &#34;CZ&#34;}}, {&#34;args&#34;: [[&#34;q&#34;, [0]], [&#34;q&#34;, [1]]], &#34;op&#34;: {&#34;type&#34;: &#34;CZ&#34;}}, {&#34;args&#34;: [[&#34;q&#34;, [2]], [&#34;q&#34;, [3]]], &#34;op&#34;: {&#34;type&#34;: &#34;CZ&#34;}}, {&#34;args&#34;: [[&#34;q&#34;, [0]]], &#34;op&#34;: {&#34;params&#34;: [&#34;0.0262930766327509&#34;], &#34;type&#34;: &#34;Ry&#34;}}, {&#34;args&#34;: [[&#34;q&#34;, [1]]], &#34;op&#34;: {&#34;params&#34;: [&#34;0.153634234189511&#34;], &#34;type&#34;: &#34;Ry&#34;}}, {&#34;args&#34;: [[&#34;q&#34;, [2]]], &#34;op&#34;: {&#34;params&#34;: [&#34;0.292102025937346&#34;], &#34;type&#34;: &#34;Ry&#34;}}, {&#34;args&#34;: [[&#34;q&#34;, [3]]], &#34;op&#34;: {&#34;params&#34;: [&#34;0.197773885705046&#34;], &#34;type&#34;: &#34;Ry&#34;}}, {&#34;args&#34;: [[&#34;q&#34;, [0]]], &#34;op&#34;: {&#34;params&#34;: [&#34;0.218895466139738&#34;], &#34;type&#34;: &#34;Rz&#34;}}, {&#34;args&#34;: [[&#34;q&#34;, [1]]], &#34;op&#34;: {&#34;params&#34;: [&#34;0.0610745187008042&#34;], &#34;type&#34;: &#34;Rz&#34;}}, {&#34;args&#34;: [[&#34;q&#34;, [2]]], &#34;op&#34;: {&#34;params&#34;: [&#34;0.260065074995073&#34;], &#34;type&#34;: &#34;Rz&#34;}}, {&#34;args&#34;: [[&#34;q&#34;, [3]]], &#34;op&#34;: {&#34;params&#34;: [&#34;0.138310282840404&#34;], &#34;type&#34;: &#34;Rz&#34;}}, {&#34;args&#34;: [[&#34;q&#34;, [1]], [&#34;q&#34;, [2]]], &#34;op&#34;: {&#34;type&#34;: &#34;CZ&#34;}}, {&#34;args&#34;: [[&#34;q&#34;, [0]], [&#34;q&#34;, [1]]], &#34;op&#34;: {&#34;type&#34;: &#34;CZ&#34;}}, {&#34;args&#34;: [[&#34;q&#34;, [2]], [&#34;q&#34;, [3]]], &#34;op&#34;: {&#34;type&#34;: &#34;CZ&#34;}}, {&#34;args&#34;: [[&#34;q&#34;, [0]]], &#34;op&#34;: {&#34;params&#34;: [&#34;0.309868758891359&#34;], &#34;type&#34;: &#34;Ry&#34;}}, {&#34;args&#34;: [[&#34;q&#34;, [1]]], &#34;op&#34;: {&#34;params&#34;: [&#34;0.0913292535372232&#34;], &#34;type&#34;: &#34;Ry&#34;}}, {&#34;args&#34;: [[&#34;q&#34;, [2]]], &#34;op&#34;: {&#34;params&#34;: [&#34;0.133997890452833&#34;], &#34;type&#34;: &#34;Ry&#34;}}, {&#34;args&#34;: [[&#34;q&#34;, [3]]], &#34;op&#34;: {&#34;params&#34;: [&#34;0.269049665899051&#34;], &#34;type&#34;: &#34;Ry&#34;}}, {&#34;args&#34;: [[&#34;q&#34;, [0]]], &#34;op&#34;: {&#34;params&#34;: [&#34;0.0123347638348718&#34;], &#34;type&#34;: &#34;Rz&#34;}}, {&#34;args&#34;: [[&#34;q&#34;, [1]]], &#34;op&#34;: {&#34;params&#34;: [&#34;0.312641805314114&#34;], &#34;type&#34;: &#34;Rz&#34;}}, {&#34;args&#34;: [[&#34;q&#34;, [2]]], &#34;op&#34;: {&#34;params&#34;: [&#34;0.101137091759876&#34;], &#34;type&#34;: &#34;Rz&#34;}}, {&#34;args&#34;: [[&#34;q&#34;, [3]]], &#34;op&#34;: {&#34;params&#34;: [&#34;0.0309075920725034&#34;], &#34;type&#34;: &#34;Rz&#34;}}], &#34;created_qubits&#34;: [], &#34;discarded_qubits&#34;: [], &#34;implicit_permutation&#34;: [[[&#34;q&#34;, [0]], [&#34;q&#34;, [0]]], [[&#34;q&#34;, [1]], [&#34;q&#34;, [1]]], [[&#34;q&#34;, [2]], [&#34;q&#34;, [2]]], [[&#34;q&#34;, [3]], [&#34;q&#34;, [3]]]], &#34;phase&#34;: &#34;0.0&#34;, &#34;qubits&#34;: [[&#34;q&#34;, [0]], [&#34;q&#34;, [1]], [&#34;q&#34;, [2]], [&#34;q&#34;, [3]]]}&lt;/div&gt;\n",
              "        &lt;/div&gt;\n",
              "        &lt;circuit-display-container\n",
              "                :circuit-element-str=&#34;&#39;#circuit-json-to-display&#39;&#34;\n",
              "                :init-render-options=&#34;initRenderOptions&#34;\n",
              "                view-format=&#34;None&#34;\n",
              "        &gt;&lt;/circuit-display-container&gt;\n",
              "    &lt;/div&gt;\n",
              "    &lt;script type=&#34;application/javascript&#34;&gt;\n",
              "      const circuitRendererUid = &#34;dd080b6d-a337-4e04-a9ca-e582befe6ce2&#34;;\n",
              "      const displayOptions = JSON.parse(&#39;{}&#39;);\n",
              "\n",
              "      // Script to initialise the circuit renderer app\n",
              "\n",
              "const { createApp } = Vue;\n",
              "const circuitDisplayContainer = window[&#34;pytket-circuit-renderer&#34;].default;\n",
              "// Init variables to be shared between circuit display instances\n",
              "if (typeof window.pytketCircuitDisplays === &#34;undefined&#34;) {\n",
              "    window.pytketCircuitDisplays = {};\n",
              "}\n",
              "// Create the root Vue component\n",
              "const app = createApp({\n",
              "    delimiters: [&#39;[[#&#39;, &#39;#]]&#39;],\n",
              "    components: { circuitDisplayContainer },\n",
              "    data () {\n",
              "      return {\n",
              "        initRenderOptions: displayOptions,\n",
              "      }\n",
              "    }\n",
              "})\n",
              "app.config.unwrapInjectedRef = true;\n",
              "app.mount(&#34;#circuit-display-vue-container-&#34;+circuitRendererUid);\n",
              "window.pytketCircuitDisplays[circuitRendererUid] = app;\n",
              "    &lt;/script&gt;\n",
              "\n",
              "\n",
              "\n",
              "&lt;/body&gt;\n",
              "&lt;/html&gt;\n",
              "\"\n",
              "            width=\"100%\" height=\"100%\"\n",
              "            style=\"border: none; outline: none; overflow: auto\"></iframe>\n",
              "</div>\n",
              "\n"
            ],
            "text/plain": [
              "<IPython.core.display.HTML object>"
            ]
          },
          "metadata": {},
          "output_type": "display_data"
        }
      ],
      "source": [
        "import random\n",
        "\n",
        "from pytket.circuit.display import render_circuit_jupyter\n",
        "from quri_parts.algo.ansatz import HardwareEfficient\n",
        "from quri_parts.tket.circuit import convert_circuit\n",
        "\n",
        "hwe_ansatz = HardwareEfficient(4, 2)\n",
        "\n",
        "# bind random parameters\n",
        "circuit = hwe_ansatz.bind_parameters(\n",
        "    [random.random() for _ in range(hwe_ansatz.parameter_count)]\n",
        ")\n",
        "\n",
        "tket_circuit = convert_circuit(circuit)\n",
        "\n",
        "render_circuit_jupyter(tket_circuit) # Render interactive circuit diagram"
      ]
    }
  ],
  "metadata": {
    "language_info": {
      "name": "python",
      "pygments_lexer": "ipython3"
    }
  },
  "nbformat": 4,
  "nbformat_minor": 5
}
